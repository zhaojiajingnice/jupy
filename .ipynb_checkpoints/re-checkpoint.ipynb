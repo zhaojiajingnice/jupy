{
 "cells": [
  {
   "cell_type": "code",
   "execution_count": 49,
   "metadata": {},
   "outputs": [
    {
     "name": "stdout",
     "output_type": "stream",
     "text": [
      "object compare :imooc\n",
      "(0, 5)\n",
      "the string that is compared:imooc hehe\n"
     ]
    },
    {
     "data": {
      "text/plain": [
       "'A'"
      ]
     },
     "execution_count": 49,
     "metadata": {},
     "output_type": "execute_result"
    }
   ],
   "source": [
    "import re\n",
    "import matplotlib\n",
    "\n",
    "pa=re.compile(r'imooc')\n",
    "str1='imooc hehe'            \n",
    "ma=pa.match(str1)#the way to match the re and str\n",
    "print(\"object compare :\"+ma.group())#the object they compare\n",
    "print(ma.span())\n",
    "print(\"the string that is compared:\"+ma.string)\n",
    "\n",
    "pa1=re.compile(r'imooc',re.I)#ignore the big small \n",
    "ma1=pa1.match('ImoOc python')\n",
    "ma1.group()\n",
    "\n",
    "ma=re.match(r'[a-zA-Z]','A')#[] means one of them,all letter,big or small\n",
    "ma.group()#meanwhile [a-zA-Z0-9] get numbers in\n",
    "\n",
    " \n",
    "\n",
    "\n",
    "\n"
   ]
  },
  {
   "cell_type": "code",
   "execution_count": 68,
   "metadata": {},
   "outputs": [
    {
     "data": {
      "text/plain": [
       "'ab'"
      ]
     },
     "execution_count": 68,
     "metadata": {},
     "output_type": "execute_result"
    }
   ],
   "source": [
    "import re\n",
    "c=re.match(r'[A][a]+','Aaaaaaaaa')# [a]* a for(0-indefi)\n",
    "c.group()  #[a]+ (1-infi)\n",
    "\n",
    "\n",
    "s=re.match(r'[1-9]?[0-9]','90')\n",
    "s.group()  #[a]? (0 or 1)\n",
    "\n",
    "\n",
    "p=re.match(r'[a-zA-Z0-9]{3,5}@sina.com','123@sina.com')\n",
    "p.group()#{3,5}letters and number range from 3 to 5\n",
    "\n",
    "p=re.match(r'[a-z][a-z]+?','abbb')\n",
    "p.group()#+? as 0 as possible,not disireble mode\n",
    "         #.\n",
    "         #.\n",
    "\n",
    "\n",
    "\n",
    "\n",
    "\n"
   ]
  },
  {
   "cell_type": "code",
   "execution_count": 77,
   "metadata": {},
   "outputs": [
    {
     "data": {
      "text/plain": [
       "'a9'"
      ]
     },
     "execution_count": 77,
     "metadata": {},
     "output_type": "execute_result"
    }
   ],
   "source": [
    "import re\n",
    "\n",
    "a1=re.match(r'^[a-z][0-9]$','a9')\n",
    "a1.group()#\\A  \\Z for string begin and end\n",
    "\n",
    "\n",
    "\n"
   ]
  },
  {
   "cell_type": "code",
   "execution_count": 81,
   "metadata": {},
   "outputs": [
    {
     "data": {
      "text/plain": [
       "'@199.com'"
      ]
     },
     "execution_count": 81,
     "metadata": {},
     "output_type": "execute_result"
    }
   ],
   "source": [
    "import re\n",
    "\n",
    "a1=re.match(r'@(126|163|199).com','@199.com')\n",
    "a1.group()#(aaa|bbb) decision for these two string\n",
    "\n",
    "\n",
    "\n"
   ]
  },
  {
   "cell_type": "code",
   "execution_count": 86,
   "metadata": {},
   "outputs": [
    {
     "data": {
      "text/plain": [
       "()"
      ]
     },
     "execution_count": 86,
     "metadata": {},
     "output_type": "execute_result"
    }
   ],
   "source": [
    "import re\n",
    "ma=re.match(r'<\\w+>','<book>')\n",
    "ma.group()\n",
    "\n",
    "\n",
    "\n",
    "\n",
    "\n",
    "\n"
   ]
  },
  {
   "cell_type": "code",
   "execution_count": null,
   "metadata": {
    "collapsed": true
   },
   "outputs": [],
   "source": []
  }
 ],
 "metadata": {
  "kernelspec": {
   "display_name": "Python 3",
   "language": "python",
   "name": "python3"
  },
  "language_info": {
   "codemirror_mode": {
    "name": "ipython",
    "version": 3
   },
   "file_extension": ".py",
   "mimetype": "text/x-python",
   "name": "python",
   "nbconvert_exporter": "python",
   "pygments_lexer": "ipython3",
   "version": "3.6.3"
  }
 },
 "nbformat": 4,
 "nbformat_minor": 2
}
