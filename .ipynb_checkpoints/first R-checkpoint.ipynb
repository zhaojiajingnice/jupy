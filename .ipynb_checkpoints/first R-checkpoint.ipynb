{
 "cells": [
  {
   "cell_type": "code",
   "execution_count": 13,
   "metadata": {
    "scrolled": true
   },
   "outputs": [
    {
     "data": {
      "text/html": [
       "<ol class=list-inline>\n",
       "\t<li>1</li>\n",
       "\t<li>2</li>\n",
       "\t<li>3</li>\n",
       "\t<li>4</li>\n",
       "</ol>\n"
      ],
      "text/latex": [
       "\\begin{enumerate*}\n",
       "\\item 1\n",
       "\\item 2\n",
       "\\item 3\n",
       "\\item 4\n",
       "\\end{enumerate*}\n"
      ],
      "text/markdown": [
       "1. 1\n",
       "2. 2\n",
       "3. 3\n",
       "4. 4\n",
       "\n",
       "\n"
      ],
      "text/plain": [
       "[1] 1 2 3 4"
      ]
     },
     "metadata": {},
     "output_type": "display_data"
    },
    {
     "data": {
      "text/html": [
       "<ol class=list-inline>\n",
       "\t<li>'TRUE'</li>\n",
       "\t<li>'10'</li>\n",
       "\t<li>'a'</li>\n",
       "</ol>\n"
      ],
      "text/latex": [
       "\\begin{enumerate*}\n",
       "\\item 'TRUE'\n",
       "\\item '10'\n",
       "\\item 'a'\n",
       "\\end{enumerate*}\n"
      ],
      "text/markdown": [
       "1. 'TRUE'\n",
       "2. '10'\n",
       "3. 'a'\n",
       "\n",
       "\n"
      ],
      "text/plain": [
       "[1] \"TRUE\" \"10\"   \"a\"   "
      ]
     },
     "metadata": {},
     "output_type": "display_data"
    },
    {
     "data": {
      "text/html": [
       "'character'"
      ],
      "text/latex": [
       "'character'"
      ],
      "text/markdown": [
       "'character'"
      ],
      "text/plain": [
       "[1] \"character\""
      ]
     },
     "metadata": {},
     "output_type": "display_data"
    },
    {
     "data": {
      "text/html": [],
      "text/latex": [],
      "text/markdown": [],
      "text/plain": [
       "logical(0)"
      ]
     },
     "metadata": {},
     "output_type": "display_data"
    },
    {
     "data": {
      "text/html": [
       "<dl class=dl-horizontal>\n",
       "\t<dt>name1</dt>\n",
       "\t\t<dd>1</dd>\n",
       "\t<dt>name2</dt>\n",
       "\t\t<dd>2</dd>\n",
       "\t<dt>hehe</dt>\n",
       "\t\t<dd>3</dd>\n",
       "\t<dt>4</dt>\n",
       "\t\t<dd>4</dd>\n",
       "</dl>\n"
      ],
      "text/latex": [
       "\\begin{description*}\n",
       "\\item[name1] 1\n",
       "\\item[name2] 2\n",
       "\\item[hehe] 3\n",
       "\\item[4] 4\n",
       "\\end{description*}\n"
      ],
      "text/markdown": [
       "name1\n",
       ":   1name2\n",
       ":   2hehe\n",
       ":   34\n",
       ":   4\n",
       "\n"
      ],
      "text/plain": [
       "name1 name2  hehe  <NA> \n",
       "    1     2     3     4 "
      ]
     },
     "metadata": {},
     "output_type": "display_data"
    }
   ],
   "source": [
    "\n",
    "\n",
    "x<-vector(\"character\",length=10)\n",
    "x1<-1:4\n",
    "x1\n",
    "x2<-c(1,2,3,4)\n",
    "x3<-c(TRUE,10,\"a\")\n",
    "x3\n",
    "class(x3)\n",
    "as.logical()# transform\n",
    "\n",
    "names(x1)<-c(\"name1\",\"name2\",\"hehe\")\n",
    "x1\n"
   ]
  },
  {
   "cell_type": "code",
   "execution_count": 23,
   "metadata": {},
   "outputs": [
    {
     "data": {
      "text/html": [
       "<table>\n",
       "<tbody>\n",
       "\t<tr><td>1</td><td>4</td><td>1</td><td>4</td><td>1</td><td>4</td></tr>\n",
       "\t<tr><td>2</td><td>5</td><td>2</td><td>5</td><td>2</td><td>5</td></tr>\n",
       "\t<tr><td>3</td><td>6</td><td>3</td><td>6</td><td>3</td><td>6</td></tr>\n",
       "</tbody>\n",
       "</table>\n"
      ],
      "text/latex": [
       "\\begin{tabular}{llllll}\n",
       "\t 1 & 4 & 1 & 4 & 1 & 4\\\\\n",
       "\t 2 & 5 & 2 & 5 & 2 & 5\\\\\n",
       "\t 3 & 6 & 3 & 6 & 3 & 6\\\\\n",
       "\\end{tabular}\n"
      ],
      "text/markdown": [
       "\n",
       "| 1 | 4 | 1 | 4 | 1 | 4 | \n",
       "| 2 | 5 | 2 | 5 | 2 | 5 | \n",
       "| 3 | 6 | 3 | 6 | 3 | 6 | \n",
       "\n",
       "\n"
      ],
      "text/plain": [
       "     [,1] [,2] [,3] [,4] [,5] [,6]\n",
       "[1,] 1    4    1    4    1    4   \n",
       "[2,] 2    5    2    5    2    5   \n",
       "[3,] 3    6    3    6    3    6   "
      ]
     },
     "metadata": {},
     "output_type": "display_data"
    },
    {
     "data": {
      "text/html": [
       "<ol class=list-inline>\n",
       "\t<li>3</li>\n",
       "\t<li>6</li>\n",
       "</ol>\n"
      ],
      "text/latex": [
       "\\begin{enumerate*}\n",
       "\\item 3\n",
       "\\item 6\n",
       "\\end{enumerate*}\n"
      ],
      "text/markdown": [
       "1. 3\n",
       "2. 6\n",
       "\n",
       "\n"
      ],
      "text/plain": [
       "[1] 3 6"
      ]
     },
     "metadata": {},
     "output_type": "display_data"
    },
    {
     "data": {
      "text/html": [
       "<strong>$dim</strong> = <ol class=list-inline>\n",
       "\t<li>3</li>\n",
       "\t<li>6</li>\n",
       "</ol>\n"
      ],
      "text/latex": [
       "\\textbf{\\$dim} = \\begin{enumerate*}\n",
       "\\item 3\n",
       "\\item 6\n",
       "\\end{enumerate*}\n"
      ],
      "text/markdown": [
       "**$dim** = 1. 3\n",
       "2. 6\n",
       "\n",
       "\n"
      ],
      "text/plain": [
       "$dim\n",
       "[1] 3 6\n"
      ]
     },
     "metadata": {},
     "output_type": "display_data"
    },
    {
     "data": {
      "text/html": [
       "<table>\n",
       "<tbody>\n",
       "\t<tr><td>1</td><td>3</td><td>5</td></tr>\n",
       "\t<tr><td>2</td><td>4</td><td>6</td></tr>\n",
       "</tbody>\n",
       "</table>\n"
      ],
      "text/latex": [
       "\\begin{tabular}{lll}\n",
       "\t 1 & 3 & 5\\\\\n",
       "\t 2 & 4 & 6\\\\\n",
       "\\end{tabular}\n"
      ],
      "text/markdown": [
       "\n",
       "| 1 | 3 | 5 | \n",
       "| 2 | 4 | 6 | \n",
       "\n",
       "\n"
      ],
      "text/plain": [
       "     [,1] [,2] [,3]\n",
       "[1,] 1    3    5   \n",
       "[2,] 2    4    6   "
      ]
     },
     "metadata": {},
     "output_type": "display_data"
    }
   ],
   "source": [
    "x<-matrix(1:6,nrow=3,ncol=6)\n",
    "x\n",
    "\n",
    "dim(x)\n",
    "\n",
    "attributes(x)\n",
    "\n",
    "y<-1:6\n",
    "dim(y)<-c(2,3)\n",
    "y   # element first ,size second\n",
    "\n",
    "\n",
    "\n",
    "\n",
    "\n"
   ]
  },
  {
   "cell_type": "code",
   "execution_count": 26,
   "metadata": {},
   "outputs": [
    {
     "data": {
      "text/html": [
       "<table>\n",
       "<tbody>\n",
       "\t<tr><td>1</td><td>3</td><td>5</td></tr>\n",
       "\t<tr><td>2</td><td>4</td><td>6</td></tr>\n",
       "\t<tr><td>1</td><td>3</td><td>5</td></tr>\n",
       "\t<tr><td>2</td><td>4</td><td>6</td></tr>\n",
       "\t<tr><td>1</td><td>3</td><td>5</td></tr>\n",
       "\t<tr><td>2</td><td>4</td><td>6</td></tr>\n",
       "</tbody>\n",
       "</table>\n"
      ],
      "text/latex": [
       "\\begin{tabular}{lll}\n",
       "\t 1 & 3 & 5\\\\\n",
       "\t 2 & 4 & 6\\\\\n",
       "\t 1 & 3 & 5\\\\\n",
       "\t 2 & 4 & 6\\\\\n",
       "\t 1 & 3 & 5\\\\\n",
       "\t 2 & 4 & 6\\\\\n",
       "\\end{tabular}\n"
      ],
      "text/markdown": [
       "\n",
       "| 1 | 3 | 5 | \n",
       "| 2 | 4 | 6 | \n",
       "| 1 | 3 | 5 | \n",
       "| 2 | 4 | 6 | \n",
       "| 1 | 3 | 5 | \n",
       "| 2 | 4 | 6 | \n",
       "\n",
       "\n"
      ],
      "text/plain": [
       "     [,1] [,2] [,3]\n",
       "[1,] 1    3    5   \n",
       "[2,] 2    4    6   \n",
       "[3,] 1    3    5   \n",
       "[4,] 2    4    6   \n",
       "[5,] 1    3    5   \n",
       "[6,] 2    4    6   "
      ]
     },
     "metadata": {},
     "output_type": "display_data"
    },
    {
     "data": {
      "text/html": [
       "<table>\n",
       "<tbody>\n",
       "\t<tr><td>1</td><td>3</td><td>5</td><td>1</td><td>3</td><td>5</td></tr>\n",
       "\t<tr><td>2</td><td>4</td><td>6</td><td>2</td><td>4</td><td>6</td></tr>\n",
       "</tbody>\n",
       "</table>\n"
      ],
      "text/latex": [
       "\\begin{tabular}{llllll}\n",
       "\t 1 & 3 & 5 & 1 & 3 & 5\\\\\n",
       "\t 2 & 4 & 6 & 2 & 4 & 6\\\\\n",
       "\\end{tabular}\n"
      ],
      "text/markdown": [
       "\n",
       "| 1 | 3 | 5 | 1 | 3 | 5 | \n",
       "| 2 | 4 | 6 | 2 | 4 | 6 | \n",
       "\n",
       "\n"
      ],
      "text/plain": [
       "     [,1] [,2] [,3] [,4] [,5] [,6]\n",
       "[1,] 1    3    5    1    3    5   \n",
       "[2,] 2    4    6    2    4    6   "
      ]
     },
     "metadata": {},
     "output_type": "display_data"
    }
   ],
   "source": [
    "y<-matrix(1:6,nrow=2,ncol=3)\n",
    "rbind(y,y,y)\n",
    "\n",
    "cbind(y,y)"
   ]
  },
  {
   "cell_type": "code",
   "execution_count": 32,
   "metadata": {},
   "outputs": [
    {
     "data": {
      "text/html": [
       "<ol class=list-inline>\n",
       "\t<li>1</li>\n",
       "\t<li>2</li>\n",
       "\t<li>3</li>\n",
       "\t<li>4</li>\n",
       "\t<li>5</li>\n",
       "\t<li>6</li>\n",
       "\t<li>7</li>\n",
       "\t<li>8</li>\n",
       "\t<li>9</li>\n",
       "\t<li>10</li>\n",
       "\t<li>11</li>\n",
       "\t<li>12</li>\n",
       "\t<li>13</li>\n",
       "\t<li>14</li>\n",
       "\t<li>15</li>\n",
       "\t<li>16</li>\n",
       "\t<li>17</li>\n",
       "\t<li>18</li>\n",
       "\t<li>19</li>\n",
       "\t<li>20</li>\n",
       "\t<li>21</li>\n",
       "\t<li>22</li>\n",
       "\t<li>23</li>\n",
       "\t<li>24</li>\n",
       "</ol>\n"
      ],
      "text/latex": [
       "\\begin{enumerate*}\n",
       "\\item 1\n",
       "\\item 2\n",
       "\\item 3\n",
       "\\item 4\n",
       "\\item 5\n",
       "\\item 6\n",
       "\\item 7\n",
       "\\item 8\n",
       "\\item 9\n",
       "\\item 10\n",
       "\\item 11\n",
       "\\item 12\n",
       "\\item 13\n",
       "\\item 14\n",
       "\\item 15\n",
       "\\item 16\n",
       "\\item 17\n",
       "\\item 18\n",
       "\\item 19\n",
       "\\item 20\n",
       "\\item 21\n",
       "\\item 22\n",
       "\\item 23\n",
       "\\item 24\n",
       "\\end{enumerate*}\n"
      ],
      "text/markdown": [
       "1. 1\n",
       "2. 2\n",
       "3. 3\n",
       "4. 4\n",
       "5. 5\n",
       "6. 6\n",
       "7. 7\n",
       "8. 8\n",
       "9. 9\n",
       "10. 10\n",
       "11. 11\n",
       "12. 12\n",
       "13. 13\n",
       "14. 14\n",
       "15. 15\n",
       "16. 16\n",
       "17. 17\n",
       "18. 18\n",
       "19. 19\n",
       "20. 20\n",
       "21. 21\n",
       "22. 22\n",
       "23. 23\n",
       "24. 24\n",
       "\n",
       "\n"
      ],
      "text/plain": [
       ", , 1\n",
       "\n",
       "     [,1] [,2] [,3]\n",
       "[1,]    1    3    5\n",
       "[2,]    2    4    6\n",
       "\n",
       ", , 2\n",
       "\n",
       "     [,1] [,2] [,3]\n",
       "[1,]    7    9   11\n",
       "[2,]    8   10   12\n",
       "\n",
       ", , 3\n",
       "\n",
       "     [,1] [,2] [,3]\n",
       "[1,]   13   15   17\n",
       "[2,]   14   16   18\n",
       "\n",
       ", , 4\n",
       "\n",
       "     [,1] [,2] [,3]\n",
       "[1,]   19   21   23\n",
       "[2,]   20   22   24\n"
      ]
     },
     "metadata": {},
     "output_type": "display_data"
    }
   ],
   "source": [
    "x<-array(1:24,dim=c(2,3,4))\n",
    "x#r studio is not this \n",
    "\n"
   ]
  },
  {
   "cell_type": "code",
   "execution_count": 34,
   "metadata": {},
   "outputs": [
    {
     "data": {
      "text/html": [
       "<ol>\n",
       "\t<li>1</li>\n",
       "\t<li>'t'</li>\n",
       "\t<li>TRUE</li>\n",
       "\t<li>3+4i</li>\n",
       "</ol>\n"
      ],
      "text/latex": [
       "\\begin{enumerate}\n",
       "\\item 1\n",
       "\\item 't'\n",
       "\\item TRUE\n",
       "\\item 3+4i\n",
       "\\end{enumerate}\n"
      ],
      "text/markdown": [
       "1. 1\n",
       "2. 't'\n",
       "3. TRUE\n",
       "4. 3+4i\n",
       "\n",
       "\n"
      ],
      "text/plain": [
       "[[1]]\n",
       "[1] 1\n",
       "\n",
       "[[2]]\n",
       "[1] \"t\"\n",
       "\n",
       "[[3]]\n",
       "[1] TRUE\n",
       "\n",
       "[[4]]\n",
       "[1] 3+4i\n"
      ]
     },
     "metadata": {},
     "output_type": "display_data"
    }
   ],
   "source": [
    "li=list(1,\"t\",TRUE,3+4i)\n",
    "li"
   ]
  },
  {
   "cell_type": "code",
   "execution_count": 36,
   "metadata": {},
   "outputs": [
    {
     "data": {
      "text/html": [
       "<dl>\n",
       "\t<dt>$a</dt>\n",
       "\t\t<dd>2</dd>\n",
       "\t<dt>$c</dt>\n",
       "\t\t<dd>1</dd>\n",
       "</dl>\n"
      ],
      "text/latex": [
       "\\begin{description}\n",
       "\\item[\\$a] 2\n",
       "\\item[\\$c] 1\n",
       "\\end{description}\n"
      ],
      "text/markdown": [
       "$a\n",
       ":   2\n",
       "$c\n",
       ":   1\n",
       "\n",
       "\n"
      ],
      "text/plain": [
       "$a\n",
       "[1] 2\n",
       "\n",
       "$c\n",
       "[1] 1\n"
      ]
     },
     "metadata": {},
     "output_type": "display_data"
    }
   ],
   "source": [
    "# strange\n",
    "lis=list(a=2,'c'=1)\n",
    "lis"
   ]
  },
  {
   "cell_type": "code",
   "execution_count": 38,
   "metadata": {},
   "outputs": [
    {
     "data": {
      "text/html": [
       "<ol>\n",
       "\t<li><ol class=list-inline>\n",
       "\t<li>1</li>\n",
       "\t<li>2</li>\n",
       "</ol>\n",
       "</li>\n",
       "\t<li>3</li>\n",
       "</ol>\n"
      ],
      "text/latex": [
       "\\begin{enumerate}\n",
       "\\item \\begin{enumerate*}\n",
       "\\item 1\n",
       "\\item 2\n",
       "\\end{enumerate*}\n",
       "\n",
       "\\item 3\n",
       "\\end{enumerate}\n"
      ],
      "text/markdown": [
       "1. 1. 1\n",
       "2. 2\n",
       "\n",
       "\n",
       "\n",
       "2. 3\n",
       "\n",
       "\n"
      ],
      "text/plain": [
       "[[1]]\n",
       "[1] 1 2\n",
       "\n",
       "[[2]]\n",
       "[1] 3\n"
      ]
     },
     "metadata": {},
     "output_type": "display_data"
    }
   ],
   "source": [
    "l3=list(c(1,2),3)\n",
    "l3"
   ]
  },
  {
   "cell_type": "code",
   "execution_count": 45,
   "metadata": {
    "scrolled": true
   },
   "outputs": [
    {
     "data": {
      "text/html": [
       "<table>\n",
       "<thead><tr><th></th><th scope=col>1c</th><th scope=col>2c</th><th scope=col>3c</th></tr></thead>\n",
       "<tbody>\n",
       "\t<tr><th scope=row>1r</th><td>1</td><td>3</td><td>5</td></tr>\n",
       "\t<tr><th scope=row>2r</th><td>2</td><td>4</td><td>6</td></tr>\n",
       "</tbody>\n",
       "</table>\n"
      ],
      "text/latex": [
       "\\begin{tabular}{r|lll}\n",
       "  & 1c & 2c & 3c\\\\\n",
       "\\hline\n",
       "\t1r & 1 & 3 & 5\\\\\n",
       "\t2r & 2 & 4 & 6\\\\\n",
       "\\end{tabular}\n"
      ],
      "text/markdown": [
       "\n",
       "| <!--/--> | 1c | 2c | 3c | \n",
       "|---|---|\n",
       "| 1r | 1 | 3 | 5 | \n",
       "| 2r | 2 | 4 | 6 | \n",
       "\n",
       "\n"
      ],
      "text/plain": [
       "   1c 2c 3c\n",
       "1r 1  3  5 \n",
       "2r 2  4  6 "
      ]
     },
     "metadata": {},
     "output_type": "display_data"
    }
   ],
   "source": [
    " x=matrix(1:6,nrow=2,ncol=3)\n",
    "\n",
    " dimnames(x)<-list(c(\"1r\",\"2r\"),c(\"1c\",\"2c\",\"3c\"))\n",
    "x"
   ]
  },
  {
   "cell_type": "code",
   "execution_count": 53,
   "metadata": {},
   "outputs": [
    {
     "data": {
      "text/html": [
       "<ol class=list-inline>\n",
       "\t<li>dog</li>\n",
       "\t<li>cat</li>\n",
       "\t<li>cat</li>\n",
       "\t<li>cat</li>\n",
       "</ol>\n"
      ],
      "text/latex": [
       "\\begin{enumerate*}\n",
       "\\item dog\n",
       "\\item cat\n",
       "\\item cat\n",
       "\\item cat\n",
       "\\end{enumerate*}\n"
      ],
      "text/markdown": [
       "1. dog\n",
       "2. cat\n",
       "3. cat\n",
       "4. cat\n",
       "\n",
       "\n"
      ],
      "text/plain": [
       "[1] dog cat cat cat\n",
       "Levels: cat dog"
      ]
     },
     "metadata": {},
     "output_type": "display_data"
    },
    {
     "data": {
      "text/html": [
       "<ol class=list-inline>\n",
       "\t<li>'cat'</li>\n",
       "\t<li>'dog'</li>\n",
       "</ol>\n"
      ],
      "text/latex": [
       "\\begin{enumerate*}\n",
       "\\item 'cat'\n",
       "\\item 'dog'\n",
       "\\end{enumerate*}\n"
      ],
      "text/markdown": [
       "1. 'cat'\n",
       "2. 'dog'\n",
       "\n",
       "\n"
      ],
      "text/plain": [
       "[1] \"cat\" \"dog\""
      ]
     },
     "metadata": {},
     "output_type": "display_data"
    },
    {
     "data": {
      "text/plain": [
       "x\n",
       "cat dog \n",
       "  3   1 "
      ]
     },
     "metadata": {},
     "output_type": "display_data"
    },
    {
     "data": {
      "text/html": [
       "<ol class=list-inline>\n",
       "\t<li>2</li>\n",
       "\t<li>1</li>\n",
       "\t<li>1</li>\n",
       "\t<li>1</li>\n",
       "</ol>\n"
      ],
      "text/latex": [
       "\\begin{enumerate*}\n",
       "\\item 2\n",
       "\\item 1\n",
       "\\item 1\n",
       "\\item 1\n",
       "\\end{enumerate*}\n"
      ],
      "text/markdown": [
       "1. 2\n",
       "2. 1\n",
       "3. 1\n",
       "4. 1\n",
       "\n",
       "\n"
      ],
      "text/plain": [
       "[1] 2 1 1 1\n",
       "attr(,\"levels\")\n",
       "[1] \"cat\" \"dog\""
      ]
     },
     "metadata": {},
     "output_type": "display_data"
    }
   ],
   "source": [
    "x<-factor(c(\"dog\",\"cat\",\"cat\",\"cat\"))\n",
    "x\n",
    "levels(x)\n",
    "table(x)\n",
    "unclass(x)\n"
   ]
  },
  {
   "cell_type": "code",
   "execution_count": 60,
   "metadata": {},
   "outputs": [
    {
     "data": {
      "text/html": [
       "<table>\n",
       "<thead><tr><th scope=col>id</th><th scope=col>name</th></tr></thead>\n",
       "<tbody>\n",
       "\t<tr><td>1</td><td>a</td></tr>\n",
       "\t<tr><td>2</td><td>b</td></tr>\n",
       "\t<tr><td>3</td><td>c</td></tr>\n",
       "</tbody>\n",
       "</table>\n"
      ],
      "text/latex": [
       "\\begin{tabular}{r|ll}\n",
       " id & name\\\\\n",
       "\\hline\n",
       "\t 1 & a\\\\\n",
       "\t 2 & b\\\\\n",
       "\t 3 & c\\\\\n",
       "\\end{tabular}\n"
      ],
      "text/markdown": [
       "\n",
       "id | name | \n",
       "|---|---|---|\n",
       "| 1 | a | \n",
       "| 2 | b | \n",
       "| 3 | c | \n",
       "\n",
       "\n"
      ],
      "text/plain": [
       "  id name\n",
       "1 1  a   \n",
       "2 2  b   \n",
       "3 3  c   "
      ]
     },
     "metadata": {},
     "output_type": "display_data"
    },
    {
     "data": {
      "text/html": [
       "3"
      ],
      "text/latex": [
       "3"
      ],
      "text/markdown": [
       "3"
      ],
      "text/plain": [
       "[1] 3"
      ]
     },
     "metadata": {},
     "output_type": "display_data"
    },
    {
     "data": {
      "text/html": [
       "2"
      ],
      "text/latex": [
       "2"
      ],
      "text/markdown": [
       "2"
      ],
      "text/plain": [
       "[1] 2"
      ]
     },
     "metadata": {},
     "output_type": "display_data"
    },
    {
     "data": {
      "text/html": [
       "<table>\n",
       "<thead><tr><th scope=col>id</th><th scope=col>name</th></tr></thead>\n",
       "<tbody>\n",
       "\t<tr><td>1</td><td>1</td></tr>\n",
       "\t<tr><td>2</td><td>2</td></tr>\n",
       "\t<tr><td>3</td><td>3</td></tr>\n",
       "</tbody>\n",
       "</table>\n"
      ],
      "text/latex": [
       "\\begin{tabular}{ll}\n",
       " id & name\\\\\n",
       "\\hline\n",
       "\t 1 & 1\\\\\n",
       "\t 2 & 2\\\\\n",
       "\t 3 & 3\\\\\n",
       "\\end{tabular}\n"
      ],
      "text/markdown": [
       "\n",
       "id | name | \n",
       "|---|---|---|\n",
       "| 1 | 1 | \n",
       "| 2 | 2 | \n",
       "| 3 | 3 | \n",
       "\n",
       "\n"
      ],
      "text/plain": [
       "     id name\n",
       "[1,] 1  1   \n",
       "[2,] 2  2   \n",
       "[3,] 3  3   "
      ]
     },
     "metadata": {},
     "output_type": "display_data"
    }
   ],
   "source": [
    "dt<-data.frame(id=c(1,2,3),name=c(\"a\",\"b\",\"c\"))\n",
    "dt\n",
    "nrow(dt)\n",
    "ncol(dt)\n",
    "\n",
    "data.matrix(dt) #need only one kind one col"
   ]
  },
  {
   "cell_type": "code",
   "execution_count": 80,
   "metadata": {},
   "outputs": [
    {
     "data": {
      "text/html": [
       "'Tue Dec 12 16:41:32 2017'"
      ],
      "text/latex": [
       "'Tue Dec 12 16:41:32 2017'"
      ],
      "text/markdown": [
       "'Tue Dec 12 16:41:32 2017'"
      ],
      "text/plain": [
       "[1] \"Tue Dec 12 16:41:32 2017\""
      ]
     },
     "metadata": {},
     "output_type": "display_data"
    },
    {
     "data": {
      "text/html": [
       "<time datetime=\"2017-12-12\">2017-12-12</time>"
      ],
      "text/latex": [
       "2017-12-12"
      ],
      "text/markdown": [
       "2017-12-12"
      ],
      "text/plain": [
       "[1] \"2017-12-12\""
      ]
     },
     "metadata": {},
     "output_type": "display_data"
    },
    {
     "data": {
      "text/html": [
       "'Date'"
      ],
      "text/latex": [
       "'Date'"
      ],
      "text/markdown": [
       "'Date'"
      ],
      "text/plain": [
       "[1] \"Date\""
      ]
     },
     "metadata": {},
     "output_type": "display_data"
    },
    {
     "data": {
      "text/html": [
       "<time datetime=\"1997-06-30\">1997-06-30</time>"
      ],
      "text/latex": [
       "1997-06-30"
      ],
      "text/markdown": [
       "1997-06-30"
      ],
      "text/plain": [
       "[1] \"1997-06-30\""
      ]
     },
     "metadata": {},
     "output_type": "display_data"
    },
    {
     "data": {
      "text/html": [
       "'星期一'"
      ],
      "text/latex": [
       "'星期一'"
      ],
      "text/markdown": [
       "'星期一'"
      ],
      "text/plain": [
       "[1] \"星期一\""
      ]
     },
     "metadata": {},
     "output_type": "display_data"
    },
    {
     "data": {
      "text/html": [
       "'六月'"
      ],
      "text/latex": [
       "'六月'"
      ],
      "text/markdown": [
       "'六月'"
      ],
      "text/plain": [
       "[1] \"六月\""
      ]
     },
     "metadata": {},
     "output_type": "display_data"
    },
    {
     "data": {
      "text/html": [
       "'Q2'"
      ],
      "text/latex": [
       "'Q2'"
      ],
      "text/markdown": [
       "'Q2'"
      ],
      "text/plain": [
       "[1] \"Q2\""
      ]
     },
     "metadata": {},
     "output_type": "display_data"
    },
    {
     "data": {
      "text/html": [
       "10042"
      ],
      "text/latex": [
       "10042"
      ],
      "text/markdown": [
       "10042"
      ],
      "text/plain": [
       "[1] 10042\n",
       "attr(,\"origin\")\n",
       "[1] \"1970-01-01\""
      ]
     },
     "metadata": {},
     "output_type": "display_data"
    },
    {
     "data": {
      "text/plain": [
       "Time difference of 39 days"
      ]
     },
     "metadata": {},
     "output_type": "display_data"
    },
    {
     "data": {
      "text/html": [
       "'difftime'"
      ],
      "text/latex": [
       "'difftime'"
      ],
      "text/markdown": [
       "'difftime'"
      ],
      "text/plain": [
       "[1] \"difftime\""
      ]
     },
     "metadata": {},
     "output_type": "display_data"
    },
    {
     "data": {
      "text/html": [
       "39"
      ],
      "text/latex": [
       "39"
      ],
      "text/markdown": [
       "39"
      ],
      "text/plain": [
       "[1] 39"
      ]
     },
     "metadata": {},
     "output_type": "display_data"
    }
   ],
   "source": [
    "x<-date()\n",
    "x\n",
    "\n",
    "x2<-Sys.Date()\n",
    "x2\n",
    "class(x2)\n",
    "\n",
    "x3<-as.Date(\"1997-6-30\")\n",
    "x3\n",
    "\n",
    "weekdays(x3)\n",
    "months(x3)\n",
    "quarters(x3)\n",
    "julian(x3)#from 1970_01-01\n",
    "\n",
    "x4<-as.Date(\"1997-5-22\")\n",
    "x3-x4\n",
    "class(x3-x4)\n",
    "as.numeric(x3-x4)\n",
    "\n",
    "\n"
   ]
  },
  {
   "cell_type": "code",
   "execution_count": 99,
   "metadata": {
    "scrolled": true
   },
   "outputs": [
    {
     "data": {
      "text/html": [
       "<ol class=list-inline>\n",
       "\t<li>'POSIXct'</li>\n",
       "\t<li>'POSIXt'</li>\n",
       "</ol>\n"
      ],
      "text/latex": [
       "\\begin{enumerate*}\n",
       "\\item 'POSIXct'\n",
       "\\item 'POSIXt'\n",
       "\\end{enumerate*}\n"
      ],
      "text/markdown": [
       "1. 'POSIXct'\n",
       "2. 'POSIXt'\n",
       "\n",
       "\n"
      ],
      "text/plain": [
       "[1] \"POSIXct\" \"POSIXt\" "
      ]
     },
     "metadata": {},
     "output_type": "display_data"
    },
    {
     "data": {
      "text/html": [
       "<ol class=list-inline>\n",
       "\t<li>'POSIXlt'</li>\n",
       "\t<li>'POSIXt'</li>\n",
       "</ol>\n"
      ],
      "text/latex": [
       "\\begin{enumerate*}\n",
       "\\item 'POSIXlt'\n",
       "\\item 'POSIXt'\n",
       "\\end{enumerate*}\n"
      ],
      "text/markdown": [
       "1. 'POSIXlt'\n",
       "2. 'POSIXt'\n",
       "\n",
       "\n"
      ],
      "text/plain": [
       "[1] \"POSIXlt\" \"POSIXt\" "
      ]
     },
     "metadata": {},
     "output_type": "display_data"
    },
    {
     "data": {
      "text/html": [
       "<ol class=list-inline>\n",
       "\t<li>'sec'</li>\n",
       "\t<li>'min'</li>\n",
       "\t<li>'hour'</li>\n",
       "\t<li>'mday'</li>\n",
       "\t<li>'mon'</li>\n",
       "\t<li>'year'</li>\n",
       "\t<li>'wday'</li>\n",
       "\t<li>'yday'</li>\n",
       "\t<li>'isdst'</li>\n",
       "\t<li>'zone'</li>\n",
       "\t<li>'gmtoff'</li>\n",
       "</ol>\n"
      ],
      "text/latex": [
       "\\begin{enumerate*}\n",
       "\\item 'sec'\n",
       "\\item 'min'\n",
       "\\item 'hour'\n",
       "\\item 'mday'\n",
       "\\item 'mon'\n",
       "\\item 'year'\n",
       "\\item 'wday'\n",
       "\\item 'yday'\n",
       "\\item 'isdst'\n",
       "\\item 'zone'\n",
       "\\item 'gmtoff'\n",
       "\\end{enumerate*}\n"
      ],
      "text/markdown": [
       "1. 'sec'\n",
       "2. 'min'\n",
       "3. 'hour'\n",
       "4. 'mday'\n",
       "5. 'mon'\n",
       "6. 'year'\n",
       "7. 'wday'\n",
       "8. 'yday'\n",
       "9. 'isdst'\n",
       "10. 'zone'\n",
       "11. 'gmtoff'\n",
       "\n",
       "\n"
      ],
      "text/plain": [
       " [1] \"sec\"    \"min\"    \"hour\"   \"mday\"   \"mon\"    \"year\"   \"wday\"   \"yday\"  \n",
       " [9] \"isdst\"  \"zone\"   \"gmtoff\""
      ]
     },
     "metadata": {},
     "output_type": "display_data"
    },
    {
     "data": {
      "text/html": [
       "10.7241539955139"
      ],
      "text/latex": [
       "10.7241539955139"
      ],
      "text/markdown": [
       "10.7241539955139"
      ],
      "text/plain": [
       "[1] 10.72415"
      ]
     },
     "metadata": {},
     "output_type": "display_data"
    }
   ],
   "source": [
    "t=Sys.time()#time is not data \"2017-12-12 16:56:41 CST\"\n",
    "\n",
    "class(t)\n",
    "\n",
    "t=as.POSIXlt(t)#as.POSIXct is oppsite change\n",
    "\n",
    "class(t)\n",
    "\n",
    "names(unclass(t))\n",
    "\n",
    "t$sec\n"
   ]
  },
  {
   "cell_type": "code",
   "execution_count": 110,
   "metadata": {},
   "outputs": [
    {
     "data": {
      "text/plain": [
       "[1] NA"
      ]
     },
     "metadata": {},
     "output_type": "display_data"
    },
    {
     "data": {
      "text/html": [
       "'jan 1, 1997 01:01'"
      ],
      "text/latex": [
       "'jan 1, 1997 01:01'"
      ],
      "text/markdown": [
       "'jan 1, 1997 01:01'"
      ],
      "text/plain": [
       "[1] \"jan 1, 1997 01:01\""
      ]
     },
     "metadata": {},
     "output_type": "display_data"
    }
   ],
   "source": [
    "t<-\"jan 1, 1997 01:01\"\n",
    "\n",
    "strptime(t, \"%B %d, %Y %H:%M\")\n",
    "t\n",
    "\n",
    "\n",
    "\n",
    "\n"
   ]
  },
  {
   "cell_type": "code",
   "execution_count": 3,
   "metadata": {},
   "outputs": [
    {
     "data": {
      "text/html": [
       "<ol class=list-inline>\n",
       "\t<li>6</li>\n",
       "\t<li>7</li>\n",
       "\t<li>8</li>\n",
       "\t<li>9</li>\n",
       "\t<li>10</li>\n",
       "</ol>\n"
      ],
      "text/latex": [
       "\\begin{enumerate*}\n",
       "\\item 6\n",
       "\\item 7\n",
       "\\item 8\n",
       "\\item 9\n",
       "\\item 10\n",
       "\\end{enumerate*}\n"
      ],
      "text/markdown": [
       "1. 6\n",
       "2. 7\n",
       "3. 8\n",
       "4. 9\n",
       "5. 10\n",
       "\n",
       "\n"
      ],
      "text/plain": [
       "[1]  6  7  8  9 10"
      ]
     },
     "metadata": {},
     "output_type": "display_data"
    },
    {
     "data": {
      "text/html": [
       "6"
      ],
      "text/latex": [
       "6"
      ],
      "text/markdown": [
       "6"
      ],
      "text/plain": [
       "[1] 6"
      ]
     },
     "metadata": {},
     "output_type": "display_data"
    },
    {
     "data": {
      "text/html": [
       "<ol class=list-inline>\n",
       "\t<li>1</li>\n",
       "\t<li>2</li>\n",
       "\t<li>8</li>\n",
       "\t<li>9</li>\n",
       "\t<li>10</li>\n",
       "</ol>\n"
      ],
      "text/latex": [
       "\\begin{enumerate*}\n",
       "\\item 1\n",
       "\\item 2\n",
       "\\item 8\n",
       "\\item 9\n",
       "\\item 10\n",
       "\\end{enumerate*}\n"
      ],
      "text/markdown": [
       "1. 1\n",
       "2. 2\n",
       "3. 8\n",
       "4. 9\n",
       "5. 10\n",
       "\n",
       "\n"
      ],
      "text/plain": [
       "[1]  1  2  8  9 10"
      ]
     },
     "metadata": {},
     "output_type": "display_data"
    }
   ],
   "source": [
    "x<-1:10\n",
    "x[x>5]\n",
    "x[x>5 & x<7]\n",
    "x[x<3|x>7]"
   ]
  },
  {
   "cell_type": "code",
   "execution_count": 9,
   "metadata": {},
   "outputs": [
    {
     "data": {
      "text/html": [
       "<dl class=dl-horizontal>\n",
       "\t<dt>a</dt>\n",
       "\t\t<dd>1</dd>\n",
       "\t<dt>b</dt>\n",
       "\t\t<dd>2</dd>\n",
       "\t<dt>c</dt>\n",
       "\t\t<dd>3</dd>\n",
       "</dl>\n"
      ],
      "text/latex": [
       "\\begin{description*}\n",
       "\\item[a] 1\n",
       "\\item[b] 2\n",
       "\\item[c] 3\n",
       "\\end{description*}\n"
      ],
      "text/markdown": [
       "a\n",
       ":   1b\n",
       ":   2c\n",
       ":   3\n",
       "\n"
      ],
      "text/plain": [
       "a b c \n",
       "1 2 3 "
      ]
     },
     "metadata": {},
     "output_type": "display_data"
    },
    {
     "data": {
      "text/html": [
       "<strong>a:</strong> 1"
      ],
      "text/latex": [
       "\\textbf{a:} 1"
      ],
      "text/markdown": [
       "**a:** 1"
      ],
      "text/plain": [
       "a \n",
       "1 "
      ]
     },
     "metadata": {},
     "output_type": "display_data"
    }
   ],
   "source": [
    "y<-1:3\n",
    "names(y)<-c(\"a\",\"b\",\"c\")\n",
    "y\n",
    "y[\"a\"]"
   ]
  },
  {
   "cell_type": "code",
   "execution_count": 13,
   "metadata": {},
   "outputs": [
    {
     "data": {
      "text/html": [
       "<table>\n",
       "<tbody>\n",
       "\t<tr><td>1</td><td>4</td></tr>\n",
       "\t<tr><td>2</td><td>5</td></tr>\n",
       "\t<tr><td>3</td><td>6</td></tr>\n",
       "</tbody>\n",
       "</table>\n"
      ],
      "text/latex": [
       "\\begin{tabular}{ll}\n",
       "\t 1 & 4\\\\\n",
       "\t 2 & 5\\\\\n",
       "\t 3 & 6\\\\\n",
       "\\end{tabular}\n"
      ],
      "text/markdown": [
       "\n",
       "| 1 | 4 | \n",
       "| 2 | 5 | \n",
       "| 3 | 6 | \n",
       "\n",
       "\n"
      ],
      "text/plain": [
       "     [,1] [,2]\n",
       "[1,] 1    4   \n",
       "[2,] 2    5   \n",
       "[3,] 3    6   "
      ]
     },
     "metadata": {},
     "output_type": "display_data"
    },
    {
     "data": {
      "text/html": [
       "<ol class=list-inline>\n",
       "\t<li>5</li>\n",
       "\t<li>6</li>\n",
       "</ol>\n"
      ],
      "text/latex": [
       "\\begin{enumerate*}\n",
       "\\item 5\n",
       "\\item 6\n",
       "\\end{enumerate*}\n"
      ],
      "text/markdown": [
       "1. 5\n",
       "2. 6\n",
       "\n",
       "\n"
      ],
      "text/plain": [
       "[1] 5 6"
      ]
     },
     "metadata": {},
     "output_type": "display_data"
    }
   ],
   "source": [
    "y<-matrix(1:6,nrow=3,ncol=2)\n",
    "y\n",
    "y[c(2,3),2]"
   ]
  },
  {
   "cell_type": "code",
   "execution_count": 26,
   "metadata": {},
   "outputs": [
    {
     "data": {
      "text/html": [
       "<table>\n",
       "<thead><tr><th scope=col>v2</th></tr></thead>\n",
       "<tbody>\n",
       "\t<tr><td>NA</td></tr>\n",
       "\t<tr><td> 5</td></tr>\n",
       "\t<tr><td>NA</td></tr>\n",
       "</tbody>\n",
       "</table>\n"
      ],
      "text/latex": [
       "\\begin{tabular}{r|l}\n",
       " v2\\\\\n",
       "\\hline\n",
       "\t NA\\\\\n",
       "\t  5\\\\\n",
       "\t NA\\\\\n",
       "\\end{tabular}\n"
      ],
      "text/markdown": [
       "\n",
       "v2 | \n",
       "|---|---|---|\n",
       "| NA | \n",
       "|  5 | \n",
       "| NA | \n",
       "\n",
       "\n"
      ],
      "text/plain": [
       "  v2\n",
       "1 NA\n",
       "2  5\n",
       "3 NA"
      ]
     },
     "metadata": {},
     "output_type": "display_data"
    },
    {
     "data": {
      "text/html": [
       "<ol class=list-inline>\n",
       "\t<li>&lt;NA&gt;</li>\n",
       "\t<li>5</li>\n",
       "\t<li>&lt;NA&gt;</li>\n",
       "</ol>\n"
      ],
      "text/latex": [
       "\\begin{enumerate*}\n",
       "\\item <NA>\n",
       "\\item 5\n",
       "\\item <NA>\n",
       "\\end{enumerate*}\n"
      ],
      "text/markdown": [
       "1. &lt;NA&gt;\n",
       "2. 5\n",
       "3. &lt;NA&gt;\n",
       "\n",
       "\n"
      ],
      "text/plain": [
       "[1] NA  5 NA"
      ]
     },
     "metadata": {},
     "output_type": "display_data"
    }
   ],
   "source": [
    "x=data.frame(v1=c(1,2,3),v2=c(4,5,6))\n",
    "x$v2[c(1,3)]=NA\n",
    "x[2]\n",
    "x[,\"v2\"]"
   ]
  },
  {
   "cell_type": "code",
   "execution_count": 8,
   "metadata": {
    "scrolled": true
   },
   "outputs": [
    {
     "data": {
      "text/html": [
       "<table>\n",
       "<thead><tr><th scope=col>v1</th><th scope=col>v2</th><th scope=col>v3</th></tr></thead>\n",
       "<tbody>\n",
       "\t<tr><td>1 </td><td> 6</td><td>11</td></tr>\n",
       "\t<tr><td>2 </td><td> 7</td><td>12</td></tr>\n",
       "\t<tr><td>3 </td><td> 8</td><td>13</td></tr>\n",
       "\t<tr><td>4 </td><td> 9</td><td>14</td></tr>\n",
       "\t<tr><td>5 </td><td>10</td><td>15</td></tr>\n",
       "</tbody>\n",
       "</table>\n"
      ],
      "text/latex": [
       "\\begin{tabular}{r|lll}\n",
       " v1 & v2 & v3\\\\\n",
       "\\hline\n",
       "\t 1  &  6 & 11\\\\\n",
       "\t 2  &  7 & 12\\\\\n",
       "\t 3  &  8 & 13\\\\\n",
       "\t 4  &  9 & 14\\\\\n",
       "\t 5  & 10 & 15\\\\\n",
       "\\end{tabular}\n"
      ],
      "text/markdown": [
       "\n",
       "v1 | v2 | v3 | \n",
       "|---|---|---|---|---|\n",
       "| 1  |  6 | 11 | \n",
       "| 2  |  7 | 12 | \n",
       "| 3  |  8 | 13 | \n",
       "| 4  |  9 | 14 | \n",
       "| 5  | 10 | 15 | \n",
       "\n",
       "\n"
      ],
      "text/plain": [
       "  v1 v2 v3\n",
       "1 1   6 11\n",
       "2 2   7 12\n",
       "3 3   8 13\n",
       "4 4   9 14\n",
       "5 5  10 15"
      ]
     },
     "metadata": {},
     "output_type": "display_data"
    },
    {
     "data": {
      "text/html": [
       "<table>\n",
       "<thead><tr><th></th><th scope=col>v1</th><th scope=col>v2</th><th scope=col>v3</th></tr></thead>\n",
       "<tbody>\n",
       "\t<tr><th scope=row>3</th><td>3 </td><td>8 </td><td>13</td></tr>\n",
       "</tbody>\n",
       "</table>\n"
      ],
      "text/latex": [
       "\\begin{tabular}{r|lll}\n",
       "  & v1 & v2 & v3\\\\\n",
       "\\hline\n",
       "\t3 & 3  & 8  & 13\\\\\n",
       "\\end{tabular}\n"
      ],
      "text/markdown": [
       "\n",
       "| <!--/--> | v1 | v2 | v3 | \n",
       "|---|\n",
       "| 3 | 3  | 8  | 13 | \n",
       "\n",
       "\n"
      ],
      "text/plain": [
       "  v1 v2 v3\n",
       "3 3  8  13"
      ]
     },
     "metadata": {},
     "output_type": "display_data"
    },
    {
     "data": {
      "text/html": [
       "<table>\n",
       "<thead><tr><th></th><th scope=col>v1</th><th scope=col>v2</th><th scope=col>v3</th></tr></thead>\n",
       "<tbody>\n",
       "\t<tr><th scope=row>4</th><td>4 </td><td> 9</td><td>14</td></tr>\n",
       "\t<tr><th scope=row>5</th><td>5 </td><td>10</td><td>15</td></tr>\n",
       "</tbody>\n",
       "</table>\n"
      ],
      "text/latex": [
       "\\begin{tabular}{r|lll}\n",
       "  & v1 & v2 & v3\\\\\n",
       "\\hline\n",
       "\t4 & 4  &  9 & 14\\\\\n",
       "\t5 & 5  & 10 & 15\\\\\n",
       "\\end{tabular}\n"
      ],
      "text/markdown": [
       "\n",
       "| <!--/--> | v1 | v2 | v3 | \n",
       "|---|---|\n",
       "| 4 | 4  |  9 | 14 | \n",
       "| 5 | 5  | 10 | 15 | \n",
       "\n",
       "\n"
      ],
      "text/plain": [
       "  v1 v2 v3\n",
       "4 4   9 14\n",
       "5 5  10 15"
      ]
     },
     "metadata": {},
     "output_type": "display_data"
    }
   ],
   "source": [
    "x=data.frame(v1=c(1,2,3,4,5),v2=c(6,7,8,9,10),v3=c(11,12,13,14,15))\n",
    "\n",
    "x\n",
    "\n",
    "x[(x$v1<4 & x$v2>=8),]\n",
    "x[which(x$v1>3),]#nothing special to \"which\"\n"
   ]
  },
  {
   "cell_type": "code",
   "execution_count": 10,
   "metadata": {},
   "outputs": [
    {
     "data": {
      "text/html": [
       "<table>\n",
       "<thead><tr><th></th><th scope=col>v1</th><th scope=col>v2</th><th scope=col>v3</th></tr></thead>\n",
       "<tbody>\n",
       "\t<tr><th scope=row>3</th><td>3 </td><td> 8</td><td>13</td></tr>\n",
       "\t<tr><th scope=row>4</th><td>4 </td><td> 9</td><td>14</td></tr>\n",
       "\t<tr><th scope=row>5</th><td>5 </td><td>10</td><td>15</td></tr>\n",
       "</tbody>\n",
       "</table>\n"
      ],
      "text/latex": [
       "\\begin{tabular}{r|lll}\n",
       "  & v1 & v2 & v3\\\\\n",
       "\\hline\n",
       "\t3 & 3  &  8 & 13\\\\\n",
       "\t4 & 4  &  9 & 14\\\\\n",
       "\t5 & 5  & 10 & 15\\\\\n",
       "\\end{tabular}\n"
      ],
      "text/markdown": [
       "\n",
       "| <!--/--> | v1 | v2 | v3 | \n",
       "|---|---|---|\n",
       "| 3 | 3  |  8 | 13 | \n",
       "| 4 | 4  |  9 | 14 | \n",
       "| 5 | 5  | 10 | 15 | \n",
       "\n",
       "\n"
      ],
      "text/plain": [
       "  v1 v2 v3\n",
       "3 3   8 13\n",
       "4 4   9 14\n",
       "5 5  10 15"
      ]
     },
     "metadata": {},
     "output_type": "display_data"
    }
   ],
   "source": [
    "x=data.frame(v1=c(1,2,3,4,5),v2=c(6,7,8,9,10),v3=c(11,12,13,14,15))\n",
    "subset(x,x$v1>2)\n"
   ]
  },
  {
   "cell_type": "code",
   "execution_count": 3,
   "metadata": {
    "scrolled": true
   },
   "outputs": [
    {
     "data": {
      "text/html": [
       "<ol class=list-inline>\n",
       "\t<li>FALSE</li>\n",
       "\t<li>FALSE</li>\n",
       "\t<li>TRUE</li>\n",
       "</ol>\n"
      ],
      "text/latex": [
       "\\begin{enumerate*}\n",
       "\\item FALSE\n",
       "\\item FALSE\n",
       "\\item TRUE\n",
       "\\end{enumerate*}\n"
      ],
      "text/markdown": [
       "1. FALSE\n",
       "2. FALSE\n",
       "3. TRUE\n",
       "\n",
       "\n"
      ],
      "text/plain": [
       "[1] FALSE FALSE  TRUE"
      ]
     },
     "metadata": {},
     "output_type": "display_data"
    }
   ],
   "source": [
    "x<-c(1,NA,2)\n",
    "y<-c(NA,2,3)\n",
    "z<-complete.cases(x,y)\n",
    "z"
   ]
  },
  {
   "cell_type": "code",
   "execution_count": 7,
   "metadata": {},
   "outputs": [
    {
     "data": {
      "text/html": [
       "<table>\n",
       "<thead><tr><th scope=col>Ozone</th><th scope=col>Solar.R</th><th scope=col>Wind</th><th scope=col>Temp</th><th scope=col>Month</th><th scope=col>Day</th></tr></thead>\n",
       "<tbody>\n",
       "\t<tr><td>41  </td><td>190 </td><td> 7.4</td><td>67  </td><td>5   </td><td>1   </td></tr>\n",
       "\t<tr><td>36  </td><td>118 </td><td> 8.0</td><td>72  </td><td>5   </td><td>2   </td></tr>\n",
       "\t<tr><td>12  </td><td>149 </td><td>12.6</td><td>74  </td><td>5   </td><td>3   </td></tr>\n",
       "\t<tr><td>18  </td><td>313 </td><td>11.5</td><td>62  </td><td>5   </td><td>4   </td></tr>\n",
       "\t<tr><td>NA  </td><td> NA </td><td>14.3</td><td>56  </td><td>5   </td><td>5   </td></tr>\n",
       "\t<tr><td>28  </td><td> NA </td><td>14.9</td><td>66  </td><td>5   </td><td>6   </td></tr>\n",
       "</tbody>\n",
       "</table>\n"
      ],
      "text/latex": [
       "\\begin{tabular}{r|llllll}\n",
       " Ozone & Solar.R & Wind & Temp & Month & Day\\\\\n",
       "\\hline\n",
       "\t 41   & 190  &  7.4 & 67   & 5    & 1   \\\\\n",
       "\t 36   & 118  &  8.0 & 72   & 5    & 2   \\\\\n",
       "\t 12   & 149  & 12.6 & 74   & 5    & 3   \\\\\n",
       "\t 18   & 313  & 11.5 & 62   & 5    & 4   \\\\\n",
       "\t NA   &  NA  & 14.3 & 56   & 5    & 5   \\\\\n",
       "\t 28   &  NA  & 14.9 & 66   & 5    & 6   \\\\\n",
       "\\end{tabular}\n"
      ],
      "text/markdown": [
       "\n",
       "Ozone | Solar.R | Wind | Temp | Month | Day | \n",
       "|---|---|---|---|---|---|\n",
       "| 41   | 190  |  7.4 | 67   | 5    | 1    | \n",
       "| 36   | 118  |  8.0 | 72   | 5    | 2    | \n",
       "| 12   | 149  | 12.6 | 74   | 5    | 3    | \n",
       "| 18   | 313  | 11.5 | 62   | 5    | 4    | \n",
       "| NA   |  NA  | 14.3 | 56   | 5    | 5    | \n",
       "| 28   |  NA  | 14.9 | 66   | 5    | 6    | \n",
       "\n",
       "\n"
      ],
      "text/plain": [
       "  Ozone Solar.R Wind Temp Month Day\n",
       "1 41    190      7.4 67   5     1  \n",
       "2 36    118      8.0 72   5     2  \n",
       "3 12    149     12.6 74   5     3  \n",
       "4 18    313     11.5 62   5     4  \n",
       "5 NA     NA     14.3 56   5     5  \n",
       "6 28     NA     14.9 66   5     6  "
      ]
     },
     "metadata": {},
     "output_type": "display_data"
    },
    {
     "data": {
      "text/html": [
       "<table>\n",
       "<thead><tr><th></th><th scope=col>Ozone</th><th scope=col>Solar.R</th><th scope=col>Wind</th><th scope=col>Temp</th><th scope=col>Month</th><th scope=col>Day</th></tr></thead>\n",
       "<tbody>\n",
       "\t<tr><th scope=row>1</th><td>41  </td><td>190 </td><td> 7.4</td><td>67  </td><td>5   </td><td> 1  </td></tr>\n",
       "\t<tr><th scope=row>2</th><td>36  </td><td>118 </td><td> 8.0</td><td>72  </td><td>5   </td><td> 2  </td></tr>\n",
       "\t<tr><th scope=row>3</th><td>12  </td><td>149 </td><td>12.6</td><td>74  </td><td>5   </td><td> 3  </td></tr>\n",
       "\t<tr><th scope=row>4</th><td>18  </td><td>313 </td><td>11.5</td><td>62  </td><td>5   </td><td> 4  </td></tr>\n",
       "\t<tr><th scope=row>7</th><td>23  </td><td>299 </td><td> 8.6</td><td>65  </td><td>5   </td><td> 7  </td></tr>\n",
       "\t<tr><th scope=row>8</th><td>19  </td><td> 99 </td><td>13.8</td><td>59  </td><td>5   </td><td> 8  </td></tr>\n",
       "\t<tr><th scope=row>9</th><td> 8  </td><td> 19 </td><td>20.1</td><td>61  </td><td>5   </td><td> 9  </td></tr>\n",
       "\t<tr><th scope=row>12</th><td>16  </td><td>256 </td><td> 9.7</td><td>69  </td><td>5   </td><td>12  </td></tr>\n",
       "\t<tr><th scope=row>13</th><td>11  </td><td>290 </td><td> 9.2</td><td>66  </td><td>5   </td><td>13  </td></tr>\n",
       "\t<tr><th scope=row>14</th><td>14  </td><td>274 </td><td>10.9</td><td>68  </td><td>5   </td><td>14  </td></tr>\n",
       "</tbody>\n",
       "</table>\n"
      ],
      "text/latex": [
       "\\begin{tabular}{r|llllll}\n",
       "  & Ozone & Solar.R & Wind & Temp & Month & Day\\\\\n",
       "\\hline\n",
       "\t1 & 41   & 190  &  7.4 & 67   & 5    &  1  \\\\\n",
       "\t2 & 36   & 118  &  8.0 & 72   & 5    &  2  \\\\\n",
       "\t3 & 12   & 149  & 12.6 & 74   & 5    &  3  \\\\\n",
       "\t4 & 18   & 313  & 11.5 & 62   & 5    &  4  \\\\\n",
       "\t7 & 23   & 299  &  8.6 & 65   & 5    &  7  \\\\\n",
       "\t8 & 19   &  99  & 13.8 & 59   & 5    &  8  \\\\\n",
       "\t9 &  8   &  19  & 20.1 & 61   & 5    &  9  \\\\\n",
       "\t12 & 16   & 256  &  9.7 & 69   & 5    & 12  \\\\\n",
       "\t13 & 11   & 290  &  9.2 & 66   & 5    & 13  \\\\\n",
       "\t14 & 14   & 274  & 10.9 & 68   & 5    & 14  \\\\\n",
       "\\end{tabular}\n"
      ],
      "text/markdown": [
       "\n",
       "| <!--/--> | Ozone | Solar.R | Wind | Temp | Month | Day | \n",
       "|---|---|---|---|---|---|---|---|---|---|\n",
       "| 1 | 41   | 190  |  7.4 | 67   | 5    |  1   | \n",
       "| 2 | 36   | 118  |  8.0 | 72   | 5    |  2   | \n",
       "| 3 | 12   | 149  | 12.6 | 74   | 5    |  3   | \n",
       "| 4 | 18   | 313  | 11.5 | 62   | 5    |  4   | \n",
       "| 7 | 23   | 299  |  8.6 | 65   | 5    |  7   | \n",
       "| 8 | 19   |  99  | 13.8 | 59   | 5    |  8   | \n",
       "| 9 |  8   |  19  | 20.1 | 61   | 5    |  9   | \n",
       "| 12 | 16   | 256  |  9.7 | 69   | 5    | 12   | \n",
       "| 13 | 11   | 290  |  9.2 | 66   | 5    | 13   | \n",
       "| 14 | 14   | 274  | 10.9 | 68   | 5    | 14   | \n",
       "\n",
       "\n"
      ],
      "text/plain": [
       "   Ozone Solar.R Wind Temp Month Day\n",
       "1  41    190      7.4 67   5      1 \n",
       "2  36    118      8.0 72   5      2 \n",
       "3  12    149     12.6 74   5      3 \n",
       "4  18    313     11.5 62   5      4 \n",
       "7  23    299      8.6 65   5      7 \n",
       "8  19     99     13.8 59   5      8 \n",
       "9   8     19     20.1 61   5      9 \n",
       "12 16    256      9.7 69   5     12 \n",
       "13 11    290      9.2 66   5     13 \n",
       "14 14    274     10.9 68   5     14 "
      ]
     },
     "metadata": {},
     "output_type": "display_data"
    }
   ],
   "source": [
    "library(datasets)\n",
    "head(airquality)\n",
    "\n",
    "g<-complete.cases(airquality)\n",
    "\n",
    "airquality[g,][1:10,]\n"
   ]
  },
  {
   "cell_type": "code",
   "execution_count": 14,
   "metadata": {},
   "outputs": [
    {
     "data": {
      "text/html": [
       "<table>\n",
       "<tbody>\n",
       "\t<tr><td>1</td><td>3</td></tr>\n",
       "\t<tr><td>2</td><td>4</td></tr>\n",
       "</tbody>\n",
       "</table>\n"
      ],
      "text/latex": [
       "\\begin{tabular}{ll}\n",
       "\t 1 & 3\\\\\n",
       "\t 2 & 4\\\\\n",
       "\\end{tabular}\n"
      ],
      "text/markdown": [
       "\n",
       "| 1 | 3 | \n",
       "| 2 | 4 | \n",
       "\n",
       "\n"
      ],
      "text/plain": [
       "     [,1] [,2]\n",
       "[1,] 1    3   \n",
       "[2,] 2    4   "
      ]
     },
     "metadata": {},
     "output_type": "display_data"
    },
    {
     "data": {
      "text/html": [
       "<table>\n",
       "<tbody>\n",
       "\t<tr><td>2</td><td>2</td></tr>\n",
       "\t<tr><td>2</td><td>2</td></tr>\n",
       "</tbody>\n",
       "</table>\n"
      ],
      "text/latex": [
       "\\begin{tabular}{ll}\n",
       "\t 2 & 2\\\\\n",
       "\t 2 & 2\\\\\n",
       "\\end{tabular}\n"
      ],
      "text/markdown": [
       "\n",
       "| 2 | 2 | \n",
       "| 2 | 2 | \n",
       "\n",
       "\n"
      ],
      "text/plain": [
       "     [,1] [,2]\n",
       "[1,] 2    2   \n",
       "[2,] 2    2   "
      ]
     },
     "metadata": {},
     "output_type": "display_data"
    },
    {
     "data": {
      "text/html": [
       "<table>\n",
       "<tbody>\n",
       "\t<tr><td>2</td><td>6</td></tr>\n",
       "\t<tr><td>4</td><td>8</td></tr>\n",
       "</tbody>\n",
       "</table>\n"
      ],
      "text/latex": [
       "\\begin{tabular}{ll}\n",
       "\t 2 & 6\\\\\n",
       "\t 4 & 8\\\\\n",
       "\\end{tabular}\n"
      ],
      "text/markdown": [
       "\n",
       "| 2 | 6 | \n",
       "| 4 | 8 | \n",
       "\n",
       "\n"
      ],
      "text/plain": [
       "     [,1] [,2]\n",
       "[1,] 2    6   \n",
       "[2,] 4    8   "
      ]
     },
     "metadata": {},
     "output_type": "display_data"
    },
    {
     "data": {
      "text/html": [
       "<table>\n",
       "<tbody>\n",
       "\t<tr><td> 8</td><td> 8</td></tr>\n",
       "\t<tr><td>12</td><td>12</td></tr>\n",
       "</tbody>\n",
       "</table>\n"
      ],
      "text/latex": [
       "\\begin{tabular}{ll}\n",
       "\t  8 &  8\\\\\n",
       "\t 12 & 12\\\\\n",
       "\\end{tabular}\n"
      ],
      "text/markdown": [
       "\n",
       "|  8 |  8 | \n",
       "| 12 | 12 | \n",
       "\n",
       "\n"
      ],
      "text/plain": [
       "     [,1] [,2]\n",
       "[1,]  8    8  \n",
       "[2,] 12   12  "
      ]
     },
     "metadata": {},
     "output_type": "display_data"
    }
   ],
   "source": [
    "\n",
    "x<-matrix(1:4,nrow=2,ncol=2)\n",
    "y<-matrix(rep(2,4),nrow=2,ncol=2)\n",
    "x\n",
    "y\n",
    "x*y\n",
    "\n",
    "x%*%y # the matrix complex"
   ]
  },
  {
   "cell_type": "code",
   "execution_count": 20,
   "metadata": {},
   "outputs": [
    {
     "name": "stdout",
     "output_type": "stream",
     "text": [
      "function (X, FUN, ...)  \n"
     ]
    },
    {
     "data": {
      "text/html": [
       "<dl>\n",
       "\t<dt>$a</dt>\n",
       "\t\t<dd>2</dd>\n",
       "\t<dt>$b</dt>\n",
       "\t\t<dd>5</dd>\n",
       "</dl>\n"
      ],
      "text/latex": [
       "\\begin{description}\n",
       "\\item[\\$a] 2\n",
       "\\item[\\$b] 5\n",
       "\\end{description}\n"
      ],
      "text/markdown": [
       "$a\n",
       ":   2\n",
       "$b\n",
       ":   5\n",
       "\n",
       "\n"
      ],
      "text/plain": [
       "$a\n",
       "[1] 2\n",
       "\n",
       "$b\n",
       "[1] 5\n"
      ]
     },
     "metadata": {},
     "output_type": "display_data"
    },
    {
     "data": {
      "text/html": [
       "<ol>\n",
       "\t<li>0.346635338384658</li>\n",
       "\t<li><ol class=list-inline>\n",
       "\t<li>0.605945438146591</li>\n",
       "\t<li>0.0680298246443272</li>\n",
       "</ol>\n",
       "</li>\n",
       "\t<li><ol class=list-inline>\n",
       "\t<li>0.627724470803514</li>\n",
       "\t<li>0.277607839787379</li>\n",
       "\t<li>0.505834218114614</li>\n",
       "</ol>\n",
       "</li>\n",
       "</ol>\n"
      ],
      "text/latex": [
       "\\begin{enumerate}\n",
       "\\item 0.346635338384658\n",
       "\\item \\begin{enumerate*}\n",
       "\\item 0.605945438146591\n",
       "\\item 0.0680298246443272\n",
       "\\end{enumerate*}\n",
       "\n",
       "\\item \\begin{enumerate*}\n",
       "\\item 0.627724470803514\n",
       "\\item 0.277607839787379\n",
       "\\item 0.505834218114614\n",
       "\\end{enumerate*}\n",
       "\n",
       "\\end{enumerate}\n"
      ],
      "text/markdown": [
       "1. 0.346635338384658\n",
       "2. 1. 0.605945438146591\n",
       "2. 0.0680298246443272\n",
       "\n",
       "\n",
       "\n",
       "3. 1. 0.627724470803514\n",
       "2. 0.277607839787379\n",
       "3. 0.505834218114614\n",
       "\n",
       "\n",
       "\n",
       "\n",
       "\n"
      ],
      "text/plain": [
       "[[1]]\n",
       "[1] 0.3466353\n",
       "\n",
       "[[2]]\n",
       "[1] 0.60594544 0.06802982\n",
       "\n",
       "[[3]]\n",
       "[1] 0.6277245 0.2776078 0.5058342\n"
      ]
     },
     "metadata": {},
     "output_type": "display_data"
    },
    {
     "data": {
      "text/html": [
       "<ol>\n",
       "\t<li>8687.81659053639</li>\n",
       "\t<li><ol class=list-inline>\n",
       "\t<li>188.13676899299</li>\n",
       "\t<li>7952.25232839584</li>\n",
       "</ol>\n",
       "</li>\n",
       "\t<li><ol class=list-inline>\n",
       "\t<li>7715.30610276386</li>\n",
       "\t<li>5827.43825390935</li>\n",
       "\t<li>7746.41773896292</li>\n",
       "</ol>\n",
       "</li>\n",
       "</ol>\n"
      ],
      "text/latex": [
       "\\begin{enumerate}\n",
       "\\item 8687.81659053639\n",
       "\\item \\begin{enumerate*}\n",
       "\\item 188.13676899299\n",
       "\\item 7952.25232839584\n",
       "\\end{enumerate*}\n",
       "\n",
       "\\item \\begin{enumerate*}\n",
       "\\item 7715.30610276386\n",
       "\\item 5827.43825390935\n",
       "\\item 7746.41773896292\n",
       "\\end{enumerate*}\n",
       "\n",
       "\\end{enumerate}\n"
      ],
      "text/markdown": [
       "1. 8687.81659053639\n",
       "2. 1. 188.13676899299\n",
       "2. 7952.25232839584\n",
       "\n",
       "\n",
       "\n",
       "3. 1. 7715.30610276386\n",
       "2. 5827.43825390935\n",
       "3. 7746.41773896292\n",
       "\n",
       "\n",
       "\n",
       "\n",
       "\n"
      ],
      "text/plain": [
       "[[1]]\n",
       "[1] 8687.817\n",
       "\n",
       "[[2]]\n",
       "[1]  188.1368 7952.2523\n",
       "\n",
       "[[3]]\n",
       "[1] 7715.306 5827.438 7746.418\n"
      ]
     },
     "metadata": {},
     "output_type": "display_data"
    }
   ],
   "source": [
    "\n",
    "str(lapply)\n",
    "\n",
    "x<-list(a=c(1,2,3),b=c(4,5,6))\n",
    "\n",
    "lapply(x,mean)\n",
    "\n",
    "lapply(c(1,2,3),runif)\n",
    "lapply(c(1,2,3),runif,min=0,max=10000)\n",
    "\n",
    "\n"
   ]
  },
  {
   "cell_type": "code",
   "execution_count": 26,
   "metadata": {},
   "outputs": [
    {
     "data": {
      "text/html": [
       "<dl>\n",
       "\t<dt>$a</dt>\n",
       "\t\t<dd><table>\n",
       "<tbody>\n",
       "\t<tr><td>1</td><td>3</td><td>5</td></tr>\n",
       "\t<tr><td>2</td><td>4</td><td>6</td></tr>\n",
       "</tbody>\n",
       "</table>\n",
       "</dd>\n",
       "\t<dt>$b</dt>\n",
       "\t\t<dd><table>\n",
       "<tbody>\n",
       "\t<tr><td>4</td><td>6</td></tr>\n",
       "\t<tr><td>5</td><td>7</td></tr>\n",
       "</tbody>\n",
       "</table>\n",
       "</dd>\n",
       "</dl>\n"
      ],
      "text/latex": [
       "\\begin{description}\n",
       "\\item[\\$a] \\begin{tabular}{lll}\n",
       "\t 1 & 3 & 5\\\\\n",
       "\t 2 & 4 & 6\\\\\n",
       "\\end{tabular}\n",
       "\n",
       "\\item[\\$b] \\begin{tabular}{ll}\n",
       "\t 4 & 6\\\\\n",
       "\t 5 & 7\\\\\n",
       "\\end{tabular}\n",
       "\n",
       "\\end{description}\n"
      ],
      "text/markdown": [
       "$a\n",
       ":   \n",
       "| 1 | 3 | 5 | \n",
       "| 2 | 4 | 6 | \n",
       "\n",
       "\n",
       "\n",
       "$b\n",
       ":   \n",
       "| 4 | 6 | \n",
       "| 5 | 7 | \n",
       "\n",
       "\n",
       "\n",
       "\n",
       "\n"
      ],
      "text/plain": [
       "$a\n",
       "     [,1] [,2] [,3]\n",
       "[1,]    1    3    5\n",
       "[2,]    2    4    6\n",
       "\n",
       "$b\n",
       "     [,1] [,2]\n",
       "[1,]    4    6\n",
       "[2,]    5    7\n"
      ]
     },
     "metadata": {},
     "output_type": "display_data"
    },
    {
     "data": {
      "text/html": [
       "<dl>\n",
       "\t<dt>$a</dt>\n",
       "\t\t<dd><ol class=list-inline>\n",
       "\t<li>1</li>\n",
       "\t<li>3</li>\n",
       "\t<li>5</li>\n",
       "</ol>\n",
       "</dd>\n",
       "\t<dt>$b</dt>\n",
       "\t\t<dd><ol class=list-inline>\n",
       "\t<li>4</li>\n",
       "\t<li>6</li>\n",
       "</ol>\n",
       "</dd>\n",
       "</dl>\n"
      ],
      "text/latex": [
       "\\begin{description}\n",
       "\\item[\\$a] \\begin{enumerate*}\n",
       "\\item 1\n",
       "\\item 3\n",
       "\\item 5\n",
       "\\end{enumerate*}\n",
       "\n",
       "\\item[\\$b] \\begin{enumerate*}\n",
       "\\item 4\n",
       "\\item 6\n",
       "\\end{enumerate*}\n",
       "\n",
       "\\end{description}\n"
      ],
      "text/markdown": [
       "$a\n",
       ":   1. 1\n",
       "2. 3\n",
       "3. 5\n",
       "\n",
       "\n",
       "\n",
       "$b\n",
       ":   1. 4\n",
       "2. 6\n",
       "\n",
       "\n",
       "\n",
       "\n",
       "\n"
      ],
      "text/plain": [
       "$a\n",
       "[1] 1 3 5\n",
       "\n",
       "$b\n",
       "[1] 4 6\n"
      ]
     },
     "metadata": {},
     "output_type": "display_data"
    },
    {
     "data": {
      "text/html": [
       "<dl class=dl-horizontal>\n",
       "\t<dt>a</dt>\n",
       "\t\t<dd>3.5</dd>\n",
       "\t<dt>b</dt>\n",
       "\t\t<dd>5.5</dd>\n",
       "</dl>\n"
      ],
      "text/latex": [
       "\\begin{description*}\n",
       "\\item[a] 3.5\n",
       "\\item[b] 5.5\n",
       "\\end{description*}\n"
      ],
      "text/markdown": [
       "a\n",
       ":   3.5b\n",
       ":   5.5\n",
       "\n"
      ],
      "text/plain": [
       "  a   b \n",
       "3.5 5.5 "
      ]
     },
     "metadata": {},
     "output_type": "display_data"
    }
   ],
   "source": [
    "x<-list(a=matrix(1:6,2,3),b=matrix(4:7,2,2))\n",
    "x\n",
    "lapply(x,function(m) m[1,])\n",
    "sapply(x,mean) "
   ]
  },
  {
   "cell_type": "code",
   "execution_count": 30,
   "metadata": {},
   "outputs": [
    {
     "data": {
      "text/html": [
       "<ol class=list-inline>\n",
       "\t<li>2.5</li>\n",
       "\t<li>6.5</li>\n",
       "\t<li>10.5</li>\n",
       "\t<li>14.5</li>\n",
       "</ol>\n"
      ],
      "text/latex": [
       "\\begin{enumerate*}\n",
       "\\item 2.5\n",
       "\\item 6.5\n",
       "\\item 10.5\n",
       "\\item 14.5\n",
       "\\end{enumerate*}\n"
      ],
      "text/markdown": [
       "1. 2.5\n",
       "2. 6.5\n",
       "3. 10.5\n",
       "4. 14.5\n",
       "\n",
       "\n"
      ],
      "text/plain": [
       "[1]  2.5  6.5 10.5 14.5"
      ]
     },
     "metadata": {},
     "output_type": "display_data"
    },
    {
     "data": {
      "text/html": [
       "<ol class=list-inline>\n",
       "\t<li>10</li>\n",
       "\t<li>26</li>\n",
       "\t<li>42</li>\n",
       "\t<li>58</li>\n",
       "</ol>\n"
      ],
      "text/latex": [
       "\\begin{enumerate*}\n",
       "\\item 10\n",
       "\\item 26\n",
       "\\item 42\n",
       "\\item 58\n",
       "\\end{enumerate*}\n"
      ],
      "text/markdown": [
       "1. 10\n",
       "2. 26\n",
       "3. 42\n",
       "4. 58\n",
       "\n",
       "\n"
      ],
      "text/plain": [
       "[1] 10 26 42 58"
      ]
     },
     "metadata": {},
     "output_type": "display_data"
    },
    {
     "data": {
      "text/html": [
       "<ol class=list-inline>\n",
       "\t<li>28</li>\n",
       "\t<li>32</li>\n",
       "\t<li>36</li>\n",
       "\t<li>40</li>\n",
       "</ol>\n"
      ],
      "text/latex": [
       "\\begin{enumerate*}\n",
       "\\item 28\n",
       "\\item 32\n",
       "\\item 36\n",
       "\\item 40\n",
       "\\end{enumerate*}\n"
      ],
      "text/markdown": [
       "1. 28\n",
       "2. 32\n",
       "3. 36\n",
       "4. 40\n",
       "\n",
       "\n"
      ],
      "text/plain": [
       "[1] 28 32 36 40"
      ]
     },
     "metadata": {},
     "output_type": "display_data"
    },
    {
     "data": {
      "text/html": [
       "<ol class=list-inline>\n",
       "\t<li>7</li>\n",
       "\t<li>8</li>\n",
       "\t<li>9</li>\n",
       "\t<li>10</li>\n",
       "</ol>\n"
      ],
      "text/latex": [
       "\\begin{enumerate*}\n",
       "\\item 7\n",
       "\\item 8\n",
       "\\item 9\n",
       "\\item 10\n",
       "\\end{enumerate*}\n"
      ],
      "text/markdown": [
       "1. 7\n",
       "2. 8\n",
       "3. 9\n",
       "4. 10\n",
       "\n",
       "\n"
      ],
      "text/plain": [
       "[1]  7  8  9 10"
      ]
     },
     "metadata": {},
     "output_type": "display_data"
    },
    {
     "data": {
      "text/html": [
       "<ol class=list-inline>\n",
       "\t<li>10</li>\n",
       "\t<li>26</li>\n",
       "\t<li>42</li>\n",
       "\t<li>58</li>\n",
       "</ol>\n"
      ],
      "text/latex": [
       "\\begin{enumerate*}\n",
       "\\item 10\n",
       "\\item 26\n",
       "\\item 42\n",
       "\\item 58\n",
       "\\end{enumerate*}\n"
      ],
      "text/markdown": [
       "1. 10\n",
       "2. 26\n",
       "3. 42\n",
       "4. 58\n",
       "\n",
       "\n"
      ],
      "text/plain": [
       "[1] 10 26 42 58"
      ]
     },
     "metadata": {},
     "output_type": "display_data"
    },
    {
     "data": {
      "text/html": [
       "<ol class=list-inline>\n",
       "\t<li>2.5</li>\n",
       "\t<li>6.5</li>\n",
       "\t<li>10.5</li>\n",
       "\t<li>14.5</li>\n",
       "</ol>\n"
      ],
      "text/latex": [
       "\\begin{enumerate*}\n",
       "\\item 2.5\n",
       "\\item 6.5\n",
       "\\item 10.5\n",
       "\\item 14.5\n",
       "\\end{enumerate*}\n"
      ],
      "text/markdown": [
       "1. 2.5\n",
       "2. 6.5\n",
       "3. 10.5\n",
       "4. 14.5\n",
       "\n",
       "\n"
      ],
      "text/plain": [
       "[1]  2.5  6.5 10.5 14.5"
      ]
     },
     "metadata": {},
     "output_type": "display_data"
    }
   ],
   "source": [
    "x<-matrix(1:16,4,4)\n",
    "apply(x,2,mean) # based on col\n",
    "apply(x,2,sum)\n",
    "\n",
    "rowSums(x)\n",
    "rowMeans(x)\n",
    "colSums(x)\n",
    "colMeans(x)\n"
   ]
  },
  {
   "cell_type": "code",
   "execution_count": 33,
   "metadata": {},
   "outputs": [
    {
     "data": {
      "text/html": [
       "<table>\n",
       "<tbody>\n",
       "\t<tr><td> 0.2274729  </td><td> 0.76000201 </td><td>-0.9629515  </td><td> 2.48187629 </td><td>-3.1737563  </td><td> 0.31063194 </td><td> 1.5088037  </td><td>-0.47802844 </td><td> 0.75539358 </td><td>-0.524155592</td></tr>\n",
       "\t<tr><td>-0.6273342  </td><td> 0.53395317 </td><td> 1.0580961  </td><td> 1.05283506 </td><td> 0.6638709  </td><td>-0.05374400 </td><td>-0.2306375  </td><td> 0.60121901 </td><td> 0.91645247 </td><td>-0.629594005</td></tr>\n",
       "\t<tr><td> 0.9273450  </td><td>-0.55019154 </td><td>-0.2244564  </td><td>-1.09998778 </td><td>-0.3946980  </td><td>-0.96314731 </td><td>-0.3574458  </td><td> 0.71702718 </td><td> 0.95365039 </td><td> 1.794292913</td></tr>\n",
       "\t<tr><td>-0.5099330  </td><td>-1.04293720 </td><td>-1.3900184  </td><td>-0.88972566 </td><td> 0.7959043  </td><td> 0.92339352 </td><td> 1.6871493  </td><td>-0.84157953 </td><td>-2.23136885 </td><td>-1.322134649</td></tr>\n",
       "\t<tr><td> 0.1540325  </td><td>-0.85872916 </td><td>-0.1934207  </td><td> 0.36583852 </td><td> 1.7924429  </td><td>-1.21943926 </td><td> 0.3925458  </td><td> 0.71994826 </td><td>-1.00861865 </td><td>-0.009853168</td></tr>\n",
       "\t<tr><td> 0.2775454  </td><td>-1.54705976 </td><td> 1.1773746  </td><td> 0.01188422 </td><td> 0.7444310  </td><td>-1.15870907 </td><td>-0.5096429  </td><td>-0.69657499 </td><td>-0.69123192 </td><td> 0.189571832</td></tr>\n",
       "\t<tr><td>-0.1827119  </td><td>-0.37444653 </td><td> 0.6234525  </td><td>-1.04331181 </td><td> 0.3266275  </td><td> 0.03114649 </td><td>-0.4865406  </td><td>-0.85546893 </td><td>-0.09202021 </td><td>-0.384923898</td></tr>\n",
       "\t<tr><td> 0.7517097  </td><td>-1.08160000 </td><td> 0.2319280  </td><td>-0.50019422 </td><td>-0.7215730  </td><td> 1.92699700 </td><td> 0.1074338  </td><td>-0.06980597 </td><td> 0.61481921 </td><td>-1.066941323</td></tr>\n",
       "\t<tr><td> 1.5480184  </td><td> 0.06569576 </td><td>-0.4436965  </td><td>-0.75112360 </td><td>-0.3465589  </td><td> 0.85908461 </td><td> 1.3336705  </td><td>-0.27260671 </td><td> 1.48732616 </td><td> 0.793656522</td></tr>\n",
       "\t<tr><td>-0.6167123  </td><td> 0.41490067 </td><td>-1.4376344  </td><td>-0.16446728 </td><td> 1.4587675  </td><td>-0.92029202 </td><td>-0.6525547  </td><td> 0.86968122 </td><td>-0.45486814 </td><td>-1.581098710</td></tr>\n",
       "</tbody>\n",
       "</table>\n"
      ],
      "text/latex": [
       "\\begin{tabular}{llllllllll}\n",
       "\t  0.2274729   &  0.76000201  & -0.9629515   &  2.48187629  & -3.1737563   &  0.31063194  &  1.5088037   & -0.47802844  &  0.75539358  & -0.524155592\\\\\n",
       "\t -0.6273342   &  0.53395317  &  1.0580961   &  1.05283506  &  0.6638709   & -0.05374400  & -0.2306375   &  0.60121901  &  0.91645247  & -0.629594005\\\\\n",
       "\t  0.9273450   & -0.55019154  & -0.2244564   & -1.09998778  & -0.3946980   & -0.96314731  & -0.3574458   &  0.71702718  &  0.95365039  &  1.794292913\\\\\n",
       "\t -0.5099330   & -1.04293720  & -1.3900184   & -0.88972566  &  0.7959043   &  0.92339352  &  1.6871493   & -0.84157953  & -2.23136885  & -1.322134649\\\\\n",
       "\t  0.1540325   & -0.85872916  & -0.1934207   &  0.36583852  &  1.7924429   & -1.21943926  &  0.3925458   &  0.71994826  & -1.00861865  & -0.009853168\\\\\n",
       "\t  0.2775454   & -1.54705976  &  1.1773746   &  0.01188422  &  0.7444310   & -1.15870907  & -0.5096429   & -0.69657499  & -0.69123192  &  0.189571832\\\\\n",
       "\t -0.1827119   & -0.37444653  &  0.6234525   & -1.04331181  &  0.3266275   &  0.03114649  & -0.4865406   & -0.85546893  & -0.09202021  & -0.384923898\\\\\n",
       "\t  0.7517097   & -1.08160000  &  0.2319280   & -0.50019422  & -0.7215730   &  1.92699700  &  0.1074338   & -0.06980597  &  0.61481921  & -1.066941323\\\\\n",
       "\t  1.5480184   &  0.06569576  & -0.4436965   & -0.75112360  & -0.3465589   &  0.85908461  &  1.3336705   & -0.27260671  &  1.48732616  &  0.793656522\\\\\n",
       "\t -0.6167123   &  0.41490067  & -1.4376344   & -0.16446728  &  1.4587675   & -0.92029202  & -0.6525547   &  0.86968122  & -0.45486814  & -1.581098710\\\\\n",
       "\\end{tabular}\n"
      ],
      "text/markdown": [
       "\n",
       "|  0.2274729   |  0.76000201  | -0.9629515   |  2.48187629  | -3.1737563   |  0.31063194  |  1.5088037   | -0.47802844  |  0.75539358  | -0.524155592 | \n",
       "| -0.6273342   |  0.53395317  |  1.0580961   |  1.05283506  |  0.6638709   | -0.05374400  | -0.2306375   |  0.60121901  |  0.91645247  | -0.629594005 | \n",
       "|  0.9273450   | -0.55019154  | -0.2244564   | -1.09998778  | -0.3946980   | -0.96314731  | -0.3574458   |  0.71702718  |  0.95365039  |  1.794292913 | \n",
       "| -0.5099330   | -1.04293720  | -1.3900184   | -0.88972566  |  0.7959043   |  0.92339352  |  1.6871493   | -0.84157953  | -2.23136885  | -1.322134649 | \n",
       "|  0.1540325   | -0.85872916  | -0.1934207   |  0.36583852  |  1.7924429   | -1.21943926  |  0.3925458   |  0.71994826  | -1.00861865  | -0.009853168 | \n",
       "|  0.2775454   | -1.54705976  |  1.1773746   |  0.01188422  |  0.7444310   | -1.15870907  | -0.5096429   | -0.69657499  | -0.69123192  |  0.189571832 | \n",
       "| -0.1827119   | -0.37444653  |  0.6234525   | -1.04331181  |  0.3266275   |  0.03114649  | -0.4865406   | -0.85546893  | -0.09202021  | -0.384923898 | \n",
       "|  0.7517097   | -1.08160000  |  0.2319280   | -0.50019422  | -0.7215730   |  1.92699700  |  0.1074338   | -0.06980597  |  0.61481921  | -1.066941323 | \n",
       "|  1.5480184   |  0.06569576  | -0.4436965   | -0.75112360  | -0.3465589   |  0.85908461  |  1.3336705   | -0.27260671  |  1.48732616  |  0.793656522 | \n",
       "| -0.6167123   |  0.41490067  | -1.4376344   | -0.16446728  |  1.4587675   | -0.92029202  | -0.6525547   |  0.86968122  | -0.45486814  | -1.581098710 | \n",
       "\n",
       "\n"
      ],
      "text/plain": [
       "      [,1]       [,2]        [,3]       [,4]        [,5]       [,6]       \n",
       " [1,]  0.2274729  0.76000201 -0.9629515  2.48187629 -3.1737563  0.31063194\n",
       " [2,] -0.6273342  0.53395317  1.0580961  1.05283506  0.6638709 -0.05374400\n",
       " [3,]  0.9273450 -0.55019154 -0.2244564 -1.09998778 -0.3946980 -0.96314731\n",
       " [4,] -0.5099330 -1.04293720 -1.3900184 -0.88972566  0.7959043  0.92339352\n",
       " [5,]  0.1540325 -0.85872916 -0.1934207  0.36583852  1.7924429 -1.21943926\n",
       " [6,]  0.2775454 -1.54705976  1.1773746  0.01188422  0.7444310 -1.15870907\n",
       " [7,] -0.1827119 -0.37444653  0.6234525 -1.04331181  0.3266275  0.03114649\n",
       " [8,]  0.7517097 -1.08160000  0.2319280 -0.50019422 -0.7215730  1.92699700\n",
       " [9,]  1.5480184  0.06569576 -0.4436965 -0.75112360 -0.3465589  0.85908461\n",
       "[10,] -0.6167123  0.41490067 -1.4376344 -0.16446728  1.4587675 -0.92029202\n",
       "      [,7]       [,8]        [,9]        [,10]       \n",
       " [1,]  1.5088037 -0.47802844  0.75539358 -0.524155592\n",
       " [2,] -0.2306375  0.60121901  0.91645247 -0.629594005\n",
       " [3,] -0.3574458  0.71702718  0.95365039  1.794292913\n",
       " [4,]  1.6871493 -0.84157953 -2.23136885 -1.322134649\n",
       " [5,]  0.3925458  0.71994826 -1.00861865 -0.009853168\n",
       " [6,] -0.5096429 -0.69657499 -0.69123192  0.189571832\n",
       " [7,] -0.4865406 -0.85546893 -0.09202021 -0.384923898\n",
       " [8,]  0.1074338 -0.06980597  0.61481921 -1.066941323\n",
       " [9,]  1.3336705 -0.27260671  1.48732616  0.793656522\n",
       "[10,] -0.6525547  0.86968122 -0.45486814 -1.581098710"
      ]
     },
     "metadata": {},
     "output_type": "display_data"
    },
    {
     "data": {
      "text/html": [
       "<table>\n",
       "<tbody>\n",
       "\t<tr><th scope=row>25%</th><td>-0.5126238   </td><td>-0.1864141   </td><td>-0.5113182   </td><td>-1.252335    </td><td>-0.692402    </td><td>-0.6952392   </td><td>-0.4611364046</td><td>-0.6662283   </td><td>-0.3280709   </td><td>-0.8533577   </td></tr>\n",
       "\t<tr><th scope=row>75%</th><td> 0.7588499   </td><td> 0.8533071   </td><td> 0.8747655   </td><td> 0.469445    </td><td> 0.385869    </td><td> 0.2555520   </td><td> 0.0003548172</td><td> 0.5190964   </td><td> 1.2150241   </td><td> 0.2700587   </td></tr>\n",
       "</tbody>\n",
       "</table>\n"
      ],
      "text/latex": [
       "\\begin{tabular}{r|llllllllll}\n",
       "\t25\\% & -0.5126238    & -0.1864141    & -0.5113182    & -1.252335     & -0.692402     & -0.6952392    & -0.4611364046 & -0.6662283    & -0.3280709    & -0.8533577   \\\\\n",
       "\t75\\% &  0.7588499    &  0.8533071    &  0.8747655    &  0.469445     &  0.385869     &  0.2555520    &  0.0003548172 &  0.5190964    &  1.2150241    &  0.2700587   \\\\\n",
       "\\end{tabular}\n"
      ],
      "text/markdown": [
       "\n",
       "| 25% | -0.5126238    | -0.1864141    | -0.5113182    | -1.252335     | -0.692402     | -0.6952392    | -0.4611364046 | -0.6662283    | -0.3280709    | -0.8533577    | \n",
       "| 75% |  0.7588499    |  0.8533071    |  0.8747655    |  0.469445     |  0.385869     |  0.2555520    |  0.0003548172 |  0.5190964    |  1.2150241    |  0.2700587    | \n",
       "\n",
       "\n"
      ],
      "text/plain": [
       "    [,1]       [,2]       [,3]       [,4]      [,5]      [,6]      \n",
       "25% -0.5126238 -0.1864141 -0.5113182 -1.252335 -0.692402 -0.6952392\n",
       "75%  0.7588499  0.8533071  0.8747655  0.469445  0.385869  0.2555520\n",
       "    [,7]          [,8]       [,9]       [,10]     \n",
       "25% -0.4611364046 -0.6662283 -0.3280709 -0.8533577\n",
       "75%  0.0003548172  0.5190964  1.2150241  0.2700587"
      ]
     },
     "metadata": {},
     "output_type": "display_data"
    }
   ],
   "source": [
    "x<-matrix(rnorm(100),10,10)\n",
    "x\n",
    "apply(x,1,quantile,prob=c(0.25,0.75))"
   ]
  },
  {
   "cell_type": "code",
   "execution_count": 52,
   "metadata": {},
   "outputs": [
    {
     "data": {
      "text/html": [
       "<ol class=list-inline>\n",
       "\t<li>-0.969544977365134</li>\n",
       "\t<li>-1.84658396008107</li>\n",
       "\t<li>0.376349840674322</li>\n",
       "\t<li>-0.691416205085603</li>\n",
       "\t<li>-1.10777934042212</li>\n",
       "\t<li>-0.313439926174113</li>\n",
       "\t<li>0.788346205785529</li>\n",
       "\t<li>-0.0562949896772229</li>\n",
       "\t<li>-0.52760007508272</li>\n",
       "\t<li>-0.823932346925486</li>\n",
       "\t<li>0.152237531635472</li>\n",
       "\t<li>-0.357292394361188</li>\n",
       "\t<li>2.14649232752483</li>\n",
       "\t<li>-0.374157239873266</li>\n",
       "\t<li>-0.511427723947241</li>\n",
       "\t<li>-2.30800107817367</li>\n",
       "\t<li>-0.0216033955594586</li>\n",
       "\t<li>2.2377945221553</li>\n",
       "\t<li>0.536710353129947</li>\n",
       "\t<li>-0.010878828896833</li>\n",
       "\t<li>-1.1035116872485</li>\n",
       "\t<li>0.479462362502833</li>\n",
       "\t<li>-0.155781418066643</li>\n",
       "\t<li>0.0338685906674762</li>\n",
       "</ol>\n"
      ],
      "text/latex": [
       "\\begin{enumerate*}\n",
       "\\item -0.969544977365134\n",
       "\\item -1.84658396008107\n",
       "\\item 0.376349840674322\n",
       "\\item -0.691416205085603\n",
       "\\item -1.10777934042212\n",
       "\\item -0.313439926174113\n",
       "\\item 0.788346205785529\n",
       "\\item -0.0562949896772229\n",
       "\\item -0.52760007508272\n",
       "\\item -0.823932346925486\n",
       "\\item 0.152237531635472\n",
       "\\item -0.357292394361188\n",
       "\\item 2.14649232752483\n",
       "\\item -0.374157239873266\n",
       "\\item -0.511427723947241\n",
       "\\item -2.30800107817367\n",
       "\\item -0.0216033955594586\n",
       "\\item 2.2377945221553\n",
       "\\item 0.536710353129947\n",
       "\\item -0.010878828896833\n",
       "\\item -1.1035116872485\n",
       "\\item 0.479462362502833\n",
       "\\item -0.155781418066643\n",
       "\\item 0.0338685906674762\n",
       "\\end{enumerate*}\n"
      ],
      "text/markdown": [
       "1. -0.969544977365134\n",
       "2. -1.84658396008107\n",
       "3. 0.376349840674322\n",
       "4. -0.691416205085603\n",
       "5. -1.10777934042212\n",
       "6. -0.313439926174113\n",
       "7. 0.788346205785529\n",
       "8. -0.0562949896772229\n",
       "9. -0.52760007508272\n",
       "10. -0.823932346925486\n",
       "11. 0.152237531635472\n",
       "12. -0.357292394361188\n",
       "13. 2.14649232752483\n",
       "14. -0.374157239873266\n",
       "15. -0.511427723947241\n",
       "16. -2.30800107817367\n",
       "17. -0.0216033955594586\n",
       "18. 2.2377945221553\n",
       "19. 0.536710353129947\n",
       "20. -0.010878828896833\n",
       "21. -1.1035116872485\n",
       "22. 0.479462362502833\n",
       "23. -0.155781418066643\n",
       "24. 0.0338685906674762\n",
       "\n",
       "\n"
      ],
      "text/plain": [
       ", , 1\n",
       "\n",
       "          [,1]       [,2]       [,3]\n",
       "[1,] -0.969545  0.3763498 -1.1077793\n",
       "[2,] -1.846584 -0.6914162 -0.3134399\n",
       "\n",
       ", , 2\n",
       "\n",
       "            [,1]       [,2]       [,3]\n",
       "[1,]  0.78834621 -0.5276001  0.1522375\n",
       "[2,] -0.05629499 -0.8239323 -0.3572924\n",
       "\n",
       ", , 3\n",
       "\n",
       "           [,1]       [,2]       [,3]\n",
       "[1,]  2.1464923 -0.5114277 -0.0216034\n",
       "[2,] -0.3741572 -2.3080011  2.2377945\n",
       "\n",
       ", , 4\n",
       "\n",
       "            [,1]       [,2]        [,3]\n",
       "[1,]  0.53671035 -1.1035117 -0.15578142\n",
       "[2,] -0.01087883  0.4794624  0.03386859\n"
      ]
     },
     "metadata": {},
     "output_type": "display_data"
    },
    {
     "data": {
      "text/html": [
       "<table>\n",
       "<tbody>\n",
       "\t<tr><td> 0.6255010</td><td>-0.4415474</td><td>-0.2832317</td></tr>\n",
       "\t<tr><td>-0.5719788</td><td>-0.8359718</td><td> 0.4002327</td></tr>\n",
       "</tbody>\n",
       "</table>\n"
      ],
      "text/latex": [
       "\\begin{tabular}{lll}\n",
       "\t  0.6255010 & -0.4415474 & -0.2832317\\\\\n",
       "\t -0.5719788 & -0.8359718 &  0.4002327\\\\\n",
       "\\end{tabular}\n"
      ],
      "text/markdown": [
       "\n",
       "|  0.6255010 | -0.4415474 | -0.2832317 | \n",
       "| -0.5719788 | -0.8359718 |  0.4002327 | \n",
       "\n",
       "\n"
      ],
      "text/plain": [
       "     [,1]       [,2]       [,3]      \n",
       "[1,]  0.6255010 -0.4415474 -0.2832317\n",
       "[2,] -0.5719788 -0.8359718  0.4002327"
      ]
     },
     "metadata": {},
     "output_type": "display_data"
    },
    {
     "data": {
      "text/html": [
       "<table>\n",
       "<tbody>\n",
       "\t<tr><td>-1.700974 </td><td> 0.4129837</td><td> 1.6134612</td><td>-0.7225828</td></tr>\n",
       "\t<tr><td>-2.851440 </td><td>-1.2375197</td><td>-0.4443638</td><td> 0.5024521</td></tr>\n",
       "</tbody>\n",
       "</table>\n"
      ],
      "text/latex": [
       "\\begin{tabular}{llll}\n",
       "\t -1.700974  &  0.4129837 &  1.6134612 & -0.7225828\\\\\n",
       "\t -2.851440  & -1.2375197 & -0.4443638 &  0.5024521\\\\\n",
       "\\end{tabular}\n"
      ],
      "text/markdown": [
       "\n",
       "| -1.700974  |  0.4129837 |  1.6134612 | -0.7225828 | \n",
       "| -2.851440  | -1.2375197 | -0.4443638 |  0.5024521 | \n",
       "\n",
       "\n"
      ],
      "text/plain": [
       "     [,1]      [,2]       [,3]       [,4]      \n",
       "[1,] -1.700974  0.4129837  1.6134612 -0.7225828\n",
       "[2,] -2.851440 -1.2375197 -0.4443638  0.5024521"
      ]
     },
     "metadata": {},
     "output_type": "display_data"
    },
    {
     "data": {
      "text/html": [
       "<table>\n",
       "<tbody>\n",
       "\t<tr><td>-1.4080645 </td><td> 0.3660256 </td><td> 0.8861675 </td><td> 0.26291576</td></tr>\n",
       "\t<tr><td>-0.1575332 </td><td>-0.6757662 </td><td>-1.4097144 </td><td>-0.31202466</td></tr>\n",
       "\t<tr><td>-0.7106096 </td><td>-0.1025274 </td><td> 1.1080956 </td><td>-0.06095641</td></tr>\n",
       "</tbody>\n",
       "</table>\n"
      ],
      "text/latex": [
       "\\begin{tabular}{llll}\n",
       "\t -1.4080645  &  0.3660256  &  0.8861675  &  0.26291576\\\\\n",
       "\t -0.1575332  & -0.6757662  & -1.4097144  & -0.31202466\\\\\n",
       "\t -0.7106096  & -0.1025274  &  1.1080956  & -0.06095641\\\\\n",
       "\\end{tabular}\n"
      ],
      "text/markdown": [
       "\n",
       "| -1.4080645  |  0.3660256  |  0.8861675  |  0.26291576 | \n",
       "| -0.1575332  | -0.6757662  | -1.4097144  | -0.31202466 | \n",
       "| -0.7106096  | -0.1025274  |  1.1080956  | -0.06095641 | \n",
       "\n",
       "\n"
      ],
      "text/plain": [
       "     [,1]       [,2]       [,3]       [,4]       \n",
       "[1,] -1.4080645  0.3660256  0.8861675  0.26291576\n",
       "[2,] -0.1575332 -0.6757662 -1.4097144 -0.31202466\n",
       "[3,] -0.7106096 -0.1025274  1.1080956 -0.06095641"
      ]
     },
     "metadata": {},
     "output_type": "display_data"
    }
   ],
   "source": [
    "\n",
    "x<-array(rnorm(2*3*4),c(2,3,4))\n",
    "x\n",
    "apply(x,c(1,2),mean)#dimension 1 and 2,compress the third dimension\n",
    "apply(x,c(1,3),mean)*3 #2*4\n",
    "apply(x,c(2,3),mean)  #3*4\n",
    "\n"
   ]
  },
  {
   "cell_type": "code",
   "execution_count": 54,
   "metadata": {},
   "outputs": [
    {
     "data": {
      "text/html": [
       "<ol>\n",
       "\t<li><ol class=list-inline>\n",
       "\t<li>1</li>\n",
       "\t<li>1</li>\n",
       "\t<li>1</li>\n",
       "\t<li>1</li>\n",
       "</ol>\n",
       "</li>\n",
       "\t<li><ol class=list-inline>\n",
       "\t<li>2</li>\n",
       "\t<li>2</li>\n",
       "\t<li>2</li>\n",
       "</ol>\n",
       "</li>\n",
       "\t<li><ol class=list-inline>\n",
       "\t<li>3</li>\n",
       "\t<li>3</li>\n",
       "</ol>\n",
       "</li>\n",
       "\t<li>4</li>\n",
       "</ol>\n"
      ],
      "text/latex": [
       "\\begin{enumerate}\n",
       "\\item \\begin{enumerate*}\n",
       "\\item 1\n",
       "\\item 1\n",
       "\\item 1\n",
       "\\item 1\n",
       "\\end{enumerate*}\n",
       "\n",
       "\\item \\begin{enumerate*}\n",
       "\\item 2\n",
       "\\item 2\n",
       "\\item 2\n",
       "\\end{enumerate*}\n",
       "\n",
       "\\item \\begin{enumerate*}\n",
       "\\item 3\n",
       "\\item 3\n",
       "\\end{enumerate*}\n",
       "\n",
       "\\item 4\n",
       "\\end{enumerate}\n"
      ],
      "text/markdown": [
       "1. 1. 1\n",
       "2. 1\n",
       "3. 1\n",
       "4. 1\n",
       "\n",
       "\n",
       "\n",
       "2. 1. 2\n",
       "2. 2\n",
       "3. 2\n",
       "\n",
       "\n",
       "\n",
       "3. 1. 3\n",
       "2. 3\n",
       "\n",
       "\n",
       "\n",
       "4. 4\n",
       "\n",
       "\n"
      ],
      "text/plain": [
       "[[1]]\n",
       "[1] 1 1 1 1\n",
       "\n",
       "[[2]]\n",
       "[1] 2 2 2\n",
       "\n",
       "[[3]]\n",
       "[1] 3 3\n",
       "\n",
       "[[4]]\n",
       "[1] 4\n"
      ]
     },
     "metadata": {},
     "output_type": "display_data"
    },
    {
     "data": {
      "text/html": [
       "<ol>\n",
       "\t<li><ol class=list-inline>\n",
       "\t<li>1</li>\n",
       "\t<li>1</li>\n",
       "\t<li>1</li>\n",
       "\t<li>1</li>\n",
       "</ol>\n",
       "</li>\n",
       "\t<li><ol class=list-inline>\n",
       "\t<li>2</li>\n",
       "\t<li>2</li>\n",
       "\t<li>2</li>\n",
       "</ol>\n",
       "</li>\n",
       "\t<li><ol class=list-inline>\n",
       "\t<li>3</li>\n",
       "\t<li>3</li>\n",
       "</ol>\n",
       "</li>\n",
       "\t<li>4</li>\n",
       "</ol>\n"
      ],
      "text/latex": [
       "\\begin{enumerate}\n",
       "\\item \\begin{enumerate*}\n",
       "\\item 1\n",
       "\\item 1\n",
       "\\item 1\n",
       "\\item 1\n",
       "\\end{enumerate*}\n",
       "\n",
       "\\item \\begin{enumerate*}\n",
       "\\item 2\n",
       "\\item 2\n",
       "\\item 2\n",
       "\\end{enumerate*}\n",
       "\n",
       "\\item \\begin{enumerate*}\n",
       "\\item 3\n",
       "\\item 3\n",
       "\\end{enumerate*}\n",
       "\n",
       "\\item 4\n",
       "\\end{enumerate}\n"
      ],
      "text/markdown": [
       "1. 1. 1\n",
       "2. 1\n",
       "3. 1\n",
       "4. 1\n",
       "\n",
       "\n",
       "\n",
       "2. 1. 2\n",
       "2. 2\n",
       "3. 2\n",
       "\n",
       "\n",
       "\n",
       "3. 1. 3\n",
       "2. 3\n",
       "\n",
       "\n",
       "\n",
       "4. 4\n",
       "\n",
       "\n"
      ],
      "text/plain": [
       "[[1]]\n",
       "[1] 1 1 1 1\n",
       "\n",
       "[[2]]\n",
       "[1] 2 2 2\n",
       "\n",
       "[[3]]\n",
       "[1] 3 3\n",
       "\n",
       "[[4]]\n",
       "[1] 4\n"
      ]
     },
     "metadata": {},
     "output_type": "display_data"
    }
   ],
   "source": [
    "list(rep(1,4),rep(2,3),rep(3,2),rep(4,1))\n",
    "\n",
    "#or\n",
    "\n",
    "mapply(rep,1:4,4:1)"
   ]
  },
  {
   "cell_type": "code",
   "execution_count": 59,
   "metadata": {},
   "outputs": [
    {
     "data": {
      "text/html": [
       "<ol class=list-inline>\n",
       "\t<li>1.21232902592612</li>\n",
       "\t<li>-1.76442888297547</li>\n",
       "\t<li>-0.635489492291847</li>\n",
       "\t<li>0.986344072772617</li>\n",
       "\t<li>-2.033865001911</li>\n",
       "\t<li>-0.290244639381827</li>\n",
       "\t<li>0.604498149554357</li>\n",
       "\t<li>1.55774411223789</li>\n",
       "\t<li>0.723613090209124</li>\n",
       "\t<li>-0.75027323157414</li>\n",
       "</ol>\n"
      ],
      "text/latex": [
       "\\begin{enumerate*}\n",
       "\\item 1.21232902592612\n",
       "\\item -1.76442888297547\n",
       "\\item -0.635489492291847\n",
       "\\item 0.986344072772617\n",
       "\\item -2.033865001911\n",
       "\\item -0.290244639381827\n",
       "\\item 0.604498149554357\n",
       "\\item 1.55774411223789\n",
       "\\item 0.723613090209124\n",
       "\\item -0.75027323157414\n",
       "\\end{enumerate*}\n"
      ],
      "text/markdown": [
       "1. 1.21232902592612\n",
       "2. -1.76442888297547\n",
       "3. -0.635489492291847\n",
       "4. 0.986344072772617\n",
       "5. -2.033865001911\n",
       "6. -0.290244639381827\n",
       "7. 0.604498149554357\n",
       "8. 1.55774411223789\n",
       "9. 0.723613090209124\n",
       "10. -0.75027323157414\n",
       "\n",
       "\n"
      ],
      "text/plain": [
       " [1]  1.2123290 -1.7644289 -0.6354895  0.9863441 -2.0338650 -0.2902446\n",
       " [7]  0.6044981  1.5577441  0.7236131 -0.7502732"
      ]
     },
     "metadata": {},
     "output_type": "display_data"
    },
    {
     "data": {
      "text/html": [
       "<ol>\n",
       "\t<li>4.59826966909261</li>\n",
       "\t<li><ol class=list-inline>\n",
       "\t<li>3.57446038198748</li>\n",
       "\t<li>5.08409148245753</li>\n",
       "</ol>\n",
       "</li>\n",
       "\t<li><ol class=list-inline>\n",
       "\t<li>3.42624074938367</li>\n",
       "\t<li>3.60916668295187</li>\n",
       "\t<li>2.98592051393105</li>\n",
       "</ol>\n",
       "</li>\n",
       "\t<li><ol class=list-inline>\n",
       "\t<li>6.65330926071437</li>\n",
       "\t<li>-0.989850036798416</li>\n",
       "\t<li>2.88098329255867</li>\n",
       "\t<li>4.20056870445968</li>\n",
       "</ol>\n",
       "</li>\n",
       "\t<li><ol class=list-inline>\n",
       "\t<li>3.84156591113816</li>\n",
       "\t<li>2.11645905893908</li>\n",
       "\t<li>-0.102496723993463</li>\n",
       "\t<li>0.776532555509034</li>\n",
       "\t<li>7.30618070070167</li>\n",
       "</ol>\n",
       "</li>\n",
       "</ol>\n"
      ],
      "text/latex": [
       "\\begin{enumerate}\n",
       "\\item 4.59826966909261\n",
       "\\item \\begin{enumerate*}\n",
       "\\item 3.57446038198748\n",
       "\\item 5.08409148245753\n",
       "\\end{enumerate*}\n",
       "\n",
       "\\item \\begin{enumerate*}\n",
       "\\item 3.42624074938367\n",
       "\\item 3.60916668295187\n",
       "\\item 2.98592051393105\n",
       "\\end{enumerate*}\n",
       "\n",
       "\\item \\begin{enumerate*}\n",
       "\\item 6.65330926071437\n",
       "\\item -0.989850036798416\n",
       "\\item 2.88098329255867\n",
       "\\item 4.20056870445968\n",
       "\\end{enumerate*}\n",
       "\n",
       "\\item \\begin{enumerate*}\n",
       "\\item 3.84156591113816\n",
       "\\item 2.11645905893908\n",
       "\\item -0.102496723993463\n",
       "\\item 0.776532555509034\n",
       "\\item 7.30618070070167\n",
       "\\end{enumerate*}\n",
       "\n",
       "\\end{enumerate}\n"
      ],
      "text/markdown": [
       "1. 4.59826966909261\n",
       "2. 1. 3.57446038198748\n",
       "2. 5.08409148245753\n",
       "\n",
       "\n",
       "\n",
       "3. 1. 3.42624074938367\n",
       "2. 3.60916668295187\n",
       "3. 2.98592051393105\n",
       "\n",
       "\n",
       "\n",
       "4. 1. 6.65330926071437\n",
       "2. -0.989850036798416\n",
       "3. 2.88098329255867\n",
       "4. 4.20056870445968\n",
       "\n",
       "\n",
       "\n",
       "5. 1. 3.84156591113816\n",
       "2. 2.11645905893908\n",
       "3. -0.102496723993463\n",
       "4. 0.776532555509034\n",
       "5. 7.30618070070167\n",
       "\n",
       "\n",
       "\n",
       "\n",
       "\n"
      ],
      "text/plain": [
       "[[1]]\n",
       "[1] 4.59827\n",
       "\n",
       "[[2]]\n",
       "[1] 3.574460 5.084091\n",
       "\n",
       "[[3]]\n",
       "[1] 3.426241 3.609167 2.985921\n",
       "\n",
       "[[4]]\n",
       "[1]  6.653309 -0.989850  2.880983  4.200569\n",
       "\n",
       "[[5]]\n",
       "[1]  3.8415659  2.1164591 -0.1024967  0.7765326  7.3061807\n"
      ]
     },
     "metadata": {},
     "output_type": "display_data"
    }
   ],
   "source": [
    "s<-function(n,mean,std){\n",
    "    rnorm(n,mean,std)\n",
    "}\n",
    "s(10,0,1)\n",
    "\n",
    "\n",
    "mapply(s,1:5,5:1,2)"
   ]
  },
  {
   "cell_type": "code",
   "execution_count": 66,
   "metadata": {},
   "outputs": [
    {
     "data": {
      "text/html": [
       "<ol class=list-inline>\n",
       "\t<li>-1.05868190888913</li>\n",
       "\t<li>-0.294923571611715</li>\n",
       "\t<li>1.47379609406595</li>\n",
       "\t<li>0.344789528852918</li>\n",
       "\t<li>-1.4761682345644</li>\n",
       "\t<li>0.370652843033895</li>\n",
       "\t<li>0.0704923963639885</li>\n",
       "\t<li>0.790161803830415</li>\n",
       "\t<li>0.468382107326761</li>\n",
       "\t<li>0.301356074400246</li>\n",
       "\t<li>1.75929994491134</li>\n",
       "\t<li>1.19064775171144</li>\n",
       "\t<li>-0.592097634326056</li>\n",
       "\t<li>1.19195359844266</li>\n",
       "\t<li>1.42902170561246</li>\n",
       "</ol>\n"
      ],
      "text/latex": [
       "\\begin{enumerate*}\n",
       "\\item -1.05868190888913\n",
       "\\item -0.294923571611715\n",
       "\\item 1.47379609406595\n",
       "\\item 0.344789528852918\n",
       "\\item -1.4761682345644\n",
       "\\item 0.370652843033895\n",
       "\\item 0.0704923963639885\n",
       "\\item 0.790161803830415\n",
       "\\item 0.468382107326761\n",
       "\\item 0.301356074400246\n",
       "\\item 1.75929994491134\n",
       "\\item 1.19064775171144\n",
       "\\item -0.592097634326056\n",
       "\\item 1.19195359844266\n",
       "\\item 1.42902170561246\n",
       "\\end{enumerate*}\n"
      ],
      "text/markdown": [
       "1. -1.05868190888913\n",
       "2. -0.294923571611715\n",
       "3. 1.47379609406595\n",
       "4. 0.344789528852918\n",
       "5. -1.4761682345644\n",
       "6. 0.370652843033895\n",
       "7. 0.0704923963639885\n",
       "8. 0.790161803830415\n",
       "9. 0.468382107326761\n",
       "10. 0.301356074400246\n",
       "11. 1.75929994491134\n",
       "12. 1.19064775171144\n",
       "13. -0.592097634326056\n",
       "14. 1.19195359844266\n",
       "15. 1.42902170561246\n",
       "\n",
       "\n"
      ],
      "text/plain": [
       " [1] -1.0586819 -0.2949236  1.4737961  0.3447895 -1.4761682  0.3706528\n",
       " [7]  0.0704924  0.7901618  0.4683821  0.3013561  1.7592999  1.1906478\n",
       "[13] -0.5920976  1.1919536  1.4290217"
      ]
     },
     "metadata": {},
     "output_type": "display_data"
    },
    {
     "data": {
      "text/html": [
       "<ol class=list-inline>\n",
       "\t<li>1</li>\n",
       "\t<li>1</li>\n",
       "\t<li>1</li>\n",
       "\t<li>1</li>\n",
       "\t<li>1</li>\n",
       "\t<li>2</li>\n",
       "\t<li>2</li>\n",
       "\t<li>2</li>\n",
       "\t<li>2</li>\n",
       "\t<li>2</li>\n",
       "\t<li>3</li>\n",
       "\t<li>3</li>\n",
       "\t<li>3</li>\n",
       "\t<li>3</li>\n",
       "\t<li>3</li>\n",
       "</ol>\n"
      ],
      "text/latex": [
       "\\begin{enumerate*}\n",
       "\\item 1\n",
       "\\item 1\n",
       "\\item 1\n",
       "\\item 1\n",
       "\\item 1\n",
       "\\item 2\n",
       "\\item 2\n",
       "\\item 2\n",
       "\\item 2\n",
       "\\item 2\n",
       "\\item 3\n",
       "\\item 3\n",
       "\\item 3\n",
       "\\item 3\n",
       "\\item 3\n",
       "\\end{enumerate*}\n"
      ],
      "text/markdown": [
       "1. 1\n",
       "2. 1\n",
       "3. 1\n",
       "4. 1\n",
       "5. 1\n",
       "6. 2\n",
       "7. 2\n",
       "8. 2\n",
       "9. 2\n",
       "10. 2\n",
       "11. 3\n",
       "12. 3\n",
       "13. 3\n",
       "14. 3\n",
       "15. 3\n",
       "\n",
       "\n"
      ],
      "text/plain": [
       " [1] 1 1 1 1 1 2 2 2 2 2 3 3 3 3 3\n",
       "Levels: 1 2 3"
      ]
     },
     "metadata": {},
     "output_type": "display_data"
    },
    {
     "data": {
      "text/html": [
       "<dl class=dl-horizontal>\n",
       "\t<dt>1</dt>\n",
       "\t\t<dd>-0.202237618429275</dd>\n",
       "\t<dt>2</dt>\n",
       "\t\t<dd>0.400209044991061</dd>\n",
       "\t<dt>3</dt>\n",
       "\t\t<dd>0.995765073270369</dd>\n",
       "</dl>\n"
      ],
      "text/plain": [
       "         1          2          3 \n",
       "-0.2022376  0.4002090  0.9957651 "
      ]
     },
     "metadata": {},
     "output_type": "display_data"
    },
    {
     "data": {
      "text/html": [
       "<dl>\n",
       "\t<dt>$`1`</dt>\n",
       "\t\t<dd>-0.202237618429275</dd>\n",
       "\t<dt>$`2`</dt>\n",
       "\t\t<dd>0.400209044991061</dd>\n",
       "\t<dt>$`3`</dt>\n",
       "\t\t<dd>0.995765073270369</dd>\n",
       "</dl>\n"
      ],
      "text/latex": [
       "\\begin{description}\n",
       "\\item[\\$`1`] -0.202237618429275\n",
       "\\item[\\$`2`] 0.400209044991061\n",
       "\\item[\\$`3`] 0.995765073270369\n",
       "\\end{description}\n"
      ],
      "text/markdown": [
       "$`1`\n",
       ":   -0.202237618429275\n",
       "$`2`\n",
       ":   0.400209044991061\n",
       "$`3`\n",
       ":   0.995765073270369\n",
       "\n",
       "\n"
      ],
      "text/plain": [
       "$`1`\n",
       "[1] -0.2022376\n",
       "\n",
       "$`2`\n",
       "[1] 0.400209\n",
       "\n",
       "$`3`\n",
       "[1] 0.9957651\n"
      ]
     },
     "metadata": {},
     "output_type": "display_data"
    }
   ],
   "source": [
    "x<-c(rnorm(5),runif(5),rnorm(5,1))\n",
    "x\n",
    "\n",
    "f<-gl(3,5)\n",
    "f\n",
    "\n",
    "tapply(x,f,mean)\n",
    "tapply(x,f,mean,simplify=FALSE)"
   ]
  },
  {
   "cell_type": "code",
   "execution_count": 68,
   "metadata": {},
   "outputs": [
    {
     "data": {
      "text/html": [
       "<ol class=list-inline>\n",
       "\t<li>-0.237873195131364</li>\n",
       "\t<li>-0.571214467060565</li>\n",
       "\t<li>-0.192735094813252</li>\n",
       "\t<li>0.534103782039607</li>\n",
       "\t<li>1.08139589408379</li>\n",
       "\t<li>0.896725554484874</li>\n",
       "\t<li>0.0107135577127337</li>\n",
       "\t<li>0.441779469605535</li>\n",
       "\t<li>0.645009675528854</li>\n",
       "\t<li>0.17850771243684</li>\n",
       "\t<li>2.77576491396149</li>\n",
       "\t<li>2.08815798020163</li>\n",
       "\t<li>2.20707505180973</li>\n",
       "\t<li>-0.596636511435293</li>\n",
       "\t<li>0.613439288571207</li>\n",
       "</ol>\n"
      ],
      "text/latex": [
       "\\begin{enumerate*}\n",
       "\\item -0.237873195131364\n",
       "\\item -0.571214467060565\n",
       "\\item -0.192735094813252\n",
       "\\item 0.534103782039607\n",
       "\\item 1.08139589408379\n",
       "\\item 0.896725554484874\n",
       "\\item 0.0107135577127337\n",
       "\\item 0.441779469605535\n",
       "\\item 0.645009675528854\n",
       "\\item 0.17850771243684\n",
       "\\item 2.77576491396149\n",
       "\\item 2.08815798020163\n",
       "\\item 2.20707505180973\n",
       "\\item -0.596636511435293\n",
       "\\item 0.613439288571207\n",
       "\\end{enumerate*}\n"
      ],
      "text/markdown": [
       "1. -0.237873195131364\n",
       "2. -0.571214467060565\n",
       "3. -0.192735094813252\n",
       "4. 0.534103782039607\n",
       "5. 1.08139589408379\n",
       "6. 0.896725554484874\n",
       "7. 0.0107135577127337\n",
       "8. 0.441779469605535\n",
       "9. 0.645009675528854\n",
       "10. 0.17850771243684\n",
       "11. 2.77576491396149\n",
       "12. 2.08815798020163\n",
       "13. 2.20707505180973\n",
       "14. -0.596636511435293\n",
       "15. 0.613439288571207\n",
       "\n",
       "\n"
      ],
      "text/plain": [
       " [1] -0.23787320 -0.57121447 -0.19273509  0.53410378  1.08139589  0.89672555\n",
       " [7]  0.01071356  0.44177947  0.64500968  0.17850771  2.77576491  2.08815798\n",
       "[13]  2.20707505 -0.59663651  0.61343929"
      ]
     },
     "metadata": {},
     "output_type": "display_data"
    },
    {
     "data": {
      "text/html": [
       "<ol class=list-inline>\n",
       "\t<li>1</li>\n",
       "\t<li>1</li>\n",
       "\t<li>1</li>\n",
       "\t<li>1</li>\n",
       "\t<li>1</li>\n",
       "\t<li>2</li>\n",
       "\t<li>2</li>\n",
       "\t<li>2</li>\n",
       "\t<li>2</li>\n",
       "\t<li>2</li>\n",
       "\t<li>3</li>\n",
       "\t<li>3</li>\n",
       "\t<li>3</li>\n",
       "\t<li>3</li>\n",
       "\t<li>3</li>\n",
       "</ol>\n"
      ],
      "text/latex": [
       "\\begin{enumerate*}\n",
       "\\item 1\n",
       "\\item 1\n",
       "\\item 1\n",
       "\\item 1\n",
       "\\item 1\n",
       "\\item 2\n",
       "\\item 2\n",
       "\\item 2\n",
       "\\item 2\n",
       "\\item 2\n",
       "\\item 3\n",
       "\\item 3\n",
       "\\item 3\n",
       "\\item 3\n",
       "\\item 3\n",
       "\\end{enumerate*}\n"
      ],
      "text/markdown": [
       "1. 1\n",
       "2. 1\n",
       "3. 1\n",
       "4. 1\n",
       "5. 1\n",
       "6. 2\n",
       "7. 2\n",
       "8. 2\n",
       "9. 2\n",
       "10. 2\n",
       "11. 3\n",
       "12. 3\n",
       "13. 3\n",
       "14. 3\n",
       "15. 3\n",
       "\n",
       "\n"
      ],
      "text/plain": [
       " [1] 1 1 1 1 1 2 2 2 2 2 3 3 3 3 3\n",
       "Levels: 1 2 3"
      ]
     },
     "metadata": {},
     "output_type": "display_data"
    },
    {
     "data": {
      "text/html": [
       "<dl>\n",
       "\t<dt>$`1`</dt>\n",
       "\t\t<dd><ol class=list-inline>\n",
       "\t<li>-0.237873195131364</li>\n",
       "\t<li>-0.571214467060565</li>\n",
       "\t<li>-0.192735094813252</li>\n",
       "\t<li>0.534103782039607</li>\n",
       "\t<li>1.08139589408379</li>\n",
       "</ol>\n",
       "</dd>\n",
       "\t<dt>$`2`</dt>\n",
       "\t\t<dd><ol class=list-inline>\n",
       "\t<li>0.896725554484874</li>\n",
       "\t<li>0.0107135577127337</li>\n",
       "\t<li>0.441779469605535</li>\n",
       "\t<li>0.645009675528854</li>\n",
       "\t<li>0.17850771243684</li>\n",
       "</ol>\n",
       "</dd>\n",
       "\t<dt>$`3`</dt>\n",
       "\t\t<dd><ol class=list-inline>\n",
       "\t<li>2.77576491396149</li>\n",
       "\t<li>2.08815798020163</li>\n",
       "\t<li>2.20707505180973</li>\n",
       "\t<li>-0.596636511435293</li>\n",
       "\t<li>0.613439288571207</li>\n",
       "</ol>\n",
       "</dd>\n",
       "</dl>\n"
      ],
      "text/latex": [
       "\\begin{description}\n",
       "\\item[\\$`1`] \\begin{enumerate*}\n",
       "\\item -0.237873195131364\n",
       "\\item -0.571214467060565\n",
       "\\item -0.192735094813252\n",
       "\\item 0.534103782039607\n",
       "\\item 1.08139589408379\n",
       "\\end{enumerate*}\n",
       "\n",
       "\\item[\\$`2`] \\begin{enumerate*}\n",
       "\\item 0.896725554484874\n",
       "\\item 0.0107135577127337\n",
       "\\item 0.441779469605535\n",
       "\\item 0.645009675528854\n",
       "\\item 0.17850771243684\n",
       "\\end{enumerate*}\n",
       "\n",
       "\\item[\\$`3`] \\begin{enumerate*}\n",
       "\\item 2.77576491396149\n",
       "\\item 2.08815798020163\n",
       "\\item 2.20707505180973\n",
       "\\item -0.596636511435293\n",
       "\\item 0.613439288571207\n",
       "\\end{enumerate*}\n",
       "\n",
       "\\end{description}\n"
      ],
      "text/markdown": [
       "$`1`\n",
       ":   1. -0.237873195131364\n",
       "2. -0.571214467060565\n",
       "3. -0.192735094813252\n",
       "4. 0.534103782039607\n",
       "5. 1.08139589408379\n",
       "\n",
       "\n",
       "\n",
       "$`2`\n",
       ":   1. 0.896725554484874\n",
       "2. 0.0107135577127337\n",
       "3. 0.441779469605535\n",
       "4. 0.645009675528854\n",
       "5. 0.17850771243684\n",
       "\n",
       "\n",
       "\n",
       "$`3`\n",
       ":   1. 2.77576491396149\n",
       "2. 2.08815798020163\n",
       "3. 2.20707505180973\n",
       "4. -0.596636511435293\n",
       "5. 0.613439288571207\n",
       "\n",
       "\n",
       "\n",
       "\n",
       "\n"
      ],
      "text/plain": [
       "$`1`\n",
       "[1] -0.2378732 -0.5712145 -0.1927351  0.5341038  1.0813959\n",
       "\n",
       "$`2`\n",
       "[1] 0.89672555 0.01071356 0.44177947 0.64500968 0.17850771\n",
       "\n",
       "$`3`\n",
       "[1]  2.7757649  2.0881580  2.2070751 -0.5966365  0.6134393\n"
      ]
     },
     "metadata": {},
     "output_type": "display_data"
    },
    {
     "data": {
      "text/html": [
       "<dl>\n",
       "\t<dt>$`1`</dt>\n",
       "\t\t<dd>0.122735383823644</dd>\n",
       "\t<dt>$`2`</dt>\n",
       "\t\t<dd>0.434547193953767</dd>\n",
       "\t<dt>$`3`</dt>\n",
       "\t\t<dd>1.41756014462175</dd>\n",
       "</dl>\n"
      ],
      "text/latex": [
       "\\begin{description}\n",
       "\\item[\\$`1`] 0.122735383823644\n",
       "\\item[\\$`2`] 0.434547193953767\n",
       "\\item[\\$`3`] 1.41756014462175\n",
       "\\end{description}\n"
      ],
      "text/markdown": [
       "$`1`\n",
       ":   0.122735383823644\n",
       "$`2`\n",
       ":   0.434547193953767\n",
       "$`3`\n",
       ":   1.41756014462175\n",
       "\n",
       "\n"
      ],
      "text/plain": [
       "$`1`\n",
       "[1] 0.1227354\n",
       "\n",
       "$`2`\n",
       "[1] 0.4345472\n",
       "\n",
       "$`3`\n",
       "[1] 1.41756\n"
      ]
     },
     "metadata": {},
     "output_type": "display_data"
    }
   ],
   "source": [
    "x<-c(rnorm(5),runif(5),rnorm(5,1))\n",
    "x\n",
    "\n",
    "f<-gl(3,5)\n",
    "f\n",
    "split(x,f)\n",
    "lapply(split(x,f),mean)"
   ]
  },
  {
   "cell_type": "code",
   "execution_count": 77,
   "metadata": {
    "scrolled": true
   },
   "outputs": [
    {
     "data": {
      "text/plain": [
       "\n",
       " 5  6  7  8  9 \n",
       "31 30 31 31 30 "
      ]
     },
     "metadata": {},
     "output_type": "display_data"
    },
    {
     "data": {
      "text/html": [
       "<dl>\n",
       "\t<dt>$`5`</dt>\n",
       "\t\t<dd><dl class=dl-horizontal>\n",
       "\t<dt>Ozone</dt>\n",
       "\t\t<dd>&lt;NA&gt;</dd>\n",
       "\t<dt>Wind</dt>\n",
       "\t\t<dd>11.6225806451613</dd>\n",
       "\t<dt>Temp</dt>\n",
       "\t\t<dd>65.5483870967742</dd>\n",
       "</dl>\n",
       "</dd>\n",
       "\t<dt>$`6`</dt>\n",
       "\t\t<dd><dl class=dl-horizontal>\n",
       "\t<dt>Ozone</dt>\n",
       "\t\t<dd>&lt;NA&gt;</dd>\n",
       "\t<dt>Wind</dt>\n",
       "\t\t<dd>10.2666666666667</dd>\n",
       "\t<dt>Temp</dt>\n",
       "\t\t<dd>79.1</dd>\n",
       "</dl>\n",
       "</dd>\n",
       "\t<dt>$`7`</dt>\n",
       "\t\t<dd><dl class=dl-horizontal>\n",
       "\t<dt>Ozone</dt>\n",
       "\t\t<dd>&lt;NA&gt;</dd>\n",
       "\t<dt>Wind</dt>\n",
       "\t\t<dd>8.94193548387097</dd>\n",
       "\t<dt>Temp</dt>\n",
       "\t\t<dd>83.9032258064516</dd>\n",
       "</dl>\n",
       "</dd>\n",
       "\t<dt>$`8`</dt>\n",
       "\t\t<dd><dl class=dl-horizontal>\n",
       "\t<dt>Ozone</dt>\n",
       "\t\t<dd>&lt;NA&gt;</dd>\n",
       "\t<dt>Wind</dt>\n",
       "\t\t<dd>8.79354838709677</dd>\n",
       "\t<dt>Temp</dt>\n",
       "\t\t<dd>83.9677419354839</dd>\n",
       "</dl>\n",
       "</dd>\n",
       "\t<dt>$`9`</dt>\n",
       "\t\t<dd><dl class=dl-horizontal>\n",
       "\t<dt>Ozone</dt>\n",
       "\t\t<dd>&lt;NA&gt;</dd>\n",
       "\t<dt>Wind</dt>\n",
       "\t\t<dd>10.18</dd>\n",
       "\t<dt>Temp</dt>\n",
       "\t\t<dd>76.9</dd>\n",
       "</dl>\n",
       "</dd>\n",
       "</dl>\n"
      ],
      "text/latex": [
       "\\begin{description}\n",
       "\\item[\\$`5`] \\begin{description*}\n",
       "\\item[Ozone] <NA>\n",
       "\\item[Wind] 11.6225806451613\n",
       "\\item[Temp] 65.5483870967742\n",
       "\\end{description*}\n",
       "\n",
       "\\item[\\$`6`] \\begin{description*}\n",
       "\\item[Ozone] <NA>\n",
       "\\item[Wind] 10.2666666666667\n",
       "\\item[Temp] 79.1\n",
       "\\end{description*}\n",
       "\n",
       "\\item[\\$`7`] \\begin{description*}\n",
       "\\item[Ozone] <NA>\n",
       "\\item[Wind] 8.94193548387097\n",
       "\\item[Temp] 83.9032258064516\n",
       "\\end{description*}\n",
       "\n",
       "\\item[\\$`8`] \\begin{description*}\n",
       "\\item[Ozone] <NA>\n",
       "\\item[Wind] 8.79354838709677\n",
       "\\item[Temp] 83.9677419354839\n",
       "\\end{description*}\n",
       "\n",
       "\\item[\\$`9`] \\begin{description*}\n",
       "\\item[Ozone] <NA>\n",
       "\\item[Wind] 10.18\n",
       "\\item[Temp] 76.9\n",
       "\\end{description*}\n",
       "\n",
       "\\end{description}\n"
      ],
      "text/markdown": [
       "$`5`\n",
       ":   Ozone\n",
       ":   &lt;NA&gt;Wind\n",
       ":   11.6225806451613Temp\n",
       ":   65.5483870967742\n",
       "\n",
       "\n",
       "$`6`\n",
       ":   Ozone\n",
       ":   &lt;NA&gt;Wind\n",
       ":   10.2666666666667Temp\n",
       ":   79.1\n",
       "\n",
       "\n",
       "$`7`\n",
       ":   Ozone\n",
       ":   &lt;NA&gt;Wind\n",
       ":   8.94193548387097Temp\n",
       ":   83.9032258064516\n",
       "\n",
       "\n",
       "$`8`\n",
       ":   Ozone\n",
       ":   &lt;NA&gt;Wind\n",
       ":   8.79354838709677Temp\n",
       ":   83.9677419354839\n",
       "\n",
       "\n",
       "$`9`\n",
       ":   Ozone\n",
       ":   &lt;NA&gt;Wind\n",
       ":   10.18Temp\n",
       ":   76.9\n",
       "\n",
       "\n",
       "\n",
       "\n"
      ],
      "text/plain": [
       "$`5`\n",
       "   Ozone     Wind     Temp \n",
       "      NA 11.62258 65.54839 \n",
       "\n",
       "$`6`\n",
       "   Ozone     Wind     Temp \n",
       "      NA 10.26667 79.10000 \n",
       "\n",
       "$`7`\n",
       "    Ozone      Wind      Temp \n",
       "       NA  8.941935 83.903226 \n",
       "\n",
       "$`8`\n",
       "    Ozone      Wind      Temp \n",
       "       NA  8.793548 83.967742 \n",
       "\n",
       "$`9`\n",
       "Ozone  Wind  Temp \n",
       "   NA 10.18 76.90 \n"
      ]
     },
     "metadata": {},
     "output_type": "display_data"
    },
    {
     "data": {
      "text/html": [
       "<table>\n",
       "<thead><tr><th></th><th scope=col>5</th><th scope=col>6</th><th scope=col>7</th><th scope=col>8</th><th scope=col>9</th></tr></thead>\n",
       "<tbody>\n",
       "\t<tr><th scope=row>Ozone</th><td>23.61538 </td><td>29.44444 </td><td>59.115385</td><td>59.961538</td><td>31.44828 </td></tr>\n",
       "\t<tr><th scope=row>Wind</th><td>11.62258 </td><td>10.26667 </td><td> 8.941935</td><td> 8.793548</td><td>10.18000 </td></tr>\n",
       "\t<tr><th scope=row>Temp</th><td>65.54839 </td><td>79.10000 </td><td>83.903226</td><td>83.967742</td><td>76.90000 </td></tr>\n",
       "</tbody>\n",
       "</table>\n"
      ],
      "text/latex": [
       "\\begin{tabular}{r|lllll}\n",
       "  & 5 & 6 & 7 & 8 & 9\\\\\n",
       "\\hline\n",
       "\tOzone & 23.61538  & 29.44444  & 59.115385 & 59.961538 & 31.44828 \\\\\n",
       "\tWind & 11.62258  & 10.26667  &  8.941935 &  8.793548 & 10.18000 \\\\\n",
       "\tTemp & 65.54839  & 79.10000  & 83.903226 & 83.967742 & 76.90000 \\\\\n",
       "\\end{tabular}\n"
      ],
      "text/markdown": [
       "\n",
       "| <!--/--> | 5 | 6 | 7 | 8 | 9 | \n",
       "|---|---|---|\n",
       "| Ozone | 23.61538  | 29.44444  | 59.115385 | 59.961538 | 31.44828  | \n",
       "| Wind | 11.62258  | 10.26667  |  8.941935 |  8.793548 | 10.18000  | \n",
       "| Temp | 65.54839  | 79.10000  | 83.903226 | 83.967742 | 76.90000  | \n",
       "\n",
       "\n"
      ],
      "text/plain": [
       "      5        6        7         8         9       \n",
       "Ozone 23.61538 29.44444 59.115385 59.961538 31.44828\n",
       "Wind  11.62258 10.26667  8.941935  8.793548 10.18000\n",
       "Temp  65.54839 79.10000 83.903226 83.967742 76.90000"
      ]
     },
     "metadata": {},
     "output_type": "display_data"
    }
   ],
   "source": [
    "\n",
    "s<-split(airquality,airquality$Month)\n",
    "\n",
    "table(airquality$Month)\n",
    "\n",
    "lapply(s,function(x) colMeans(x[,c(\"Ozone\",\"Wind\",\"Temp\")]))\n",
    "sapply(s,function(x) colMeans(x[,c(\"Ozone\",\"Wind\",\"Temp\")],na.rm=TRUE))"
   ]
  },
  {
   "cell_type": "code",
   "execution_count": 85,
   "metadata": {},
   "outputs": [
    {
     "data": {
      "text/html": [
       "<ol class=list-inline>\n",
       "\t<li>6</li>\n",
       "\t<li>7</li>\n",
       "\t<li>8</li>\n",
       "\t<li>9</li>\n",
       "\t<li>10</li>\n",
       "</ol>\n"
      ],
      "text/latex": [
       "\\begin{enumerate*}\n",
       "\\item 6\n",
       "\\item 7\n",
       "\\item 8\n",
       "\\item 9\n",
       "\\item 10\n",
       "\\end{enumerate*}\n"
      ],
      "text/markdown": [
       "1. 6\n",
       "2. 7\n",
       "3. 8\n",
       "4. 9\n",
       "5. 10\n",
       "\n",
       "\n"
      ],
      "text/plain": [
       "[1]  6  7  8  9 10"
      ]
     },
     "metadata": {},
     "output_type": "display_data"
    },
    {
     "data": {
      "text/html": [
       "<ol class=list-inline>\n",
       "\t<li>10</li>\n",
       "\t<li>9</li>\n",
       "\t<li>8</li>\n",
       "\t<li>7</li>\n",
       "\t<li>6</li>\n",
       "</ol>\n"
      ],
      "text/latex": [
       "\\begin{enumerate*}\n",
       "\\item 10\n",
       "\\item 9\n",
       "\\item 8\n",
       "\\item 7\n",
       "\\item 6\n",
       "\\end{enumerate*}\n"
      ],
      "text/markdown": [
       "1. 10\n",
       "2. 9\n",
       "3. 8\n",
       "4. 7\n",
       "5. 6\n",
       "\n",
       "\n"
      ],
      "text/plain": [
       "[1] 10  9  8  7  6"
      ]
     },
     "metadata": {},
     "output_type": "display_data"
    },
    {
     "data": {
      "text/html": [
       "<ol class=list-inline>\n",
       "\t<li>4</li>\n",
       "\t<li>2</li>\n",
       "\t<li>5</li>\n",
       "\t<li>3</li>\n",
       "\t<li>1</li>\n",
       "</ol>\n"
      ],
      "text/latex": [
       "\\begin{enumerate*}\n",
       "\\item 4\n",
       "\\item 2\n",
       "\\item 5\n",
       "\\item 3\n",
       "\\item 1\n",
       "\\end{enumerate*}\n"
      ],
      "text/markdown": [
       "1. 4\n",
       "2. 2\n",
       "3. 5\n",
       "4. 3\n",
       "5. 1\n",
       "\n",
       "\n"
      ],
      "text/plain": [
       "[1] 4 2 5 3 1"
      ]
     },
     "metadata": {},
     "output_type": "display_data"
    },
    {
     "data": {
      "text/html": [
       "<table>\n",
       "<thead><tr><th></th><th scope=col>v1</th><th scope=col>v2</th></tr></thead>\n",
       "<tbody>\n",
       "\t<tr><th scope=row>4</th><td>4 </td><td> 6</td></tr>\n",
       "\t<tr><th scope=row>2</th><td>2 </td><td> 7</td></tr>\n",
       "\t<tr><th scope=row>5</th><td>5 </td><td> 8</td></tr>\n",
       "\t<tr><th scope=row>3</th><td>3 </td><td> 9</td></tr>\n",
       "\t<tr><th scope=row>1</th><td>1 </td><td>10</td></tr>\n",
       "</tbody>\n",
       "</table>\n"
      ],
      "text/latex": [
       "\\begin{tabular}{r|ll}\n",
       "  & v1 & v2\\\\\n",
       "\\hline\n",
       "\t4 & 4  &  6\\\\\n",
       "\t2 & 2  &  7\\\\\n",
       "\t5 & 5  &  8\\\\\n",
       "\t3 & 3  &  9\\\\\n",
       "\t1 & 1  & 10\\\\\n",
       "\\end{tabular}\n"
      ],
      "text/markdown": [
       "\n",
       "| <!--/--> | v1 | v2 | \n",
       "|---|---|---|---|---|\n",
       "| 4 | 4  |  6 | \n",
       "| 2 | 2  |  7 | \n",
       "| 5 | 5  |  8 | \n",
       "| 3 | 3  |  9 | \n",
       "| 1 | 1  | 10 | \n",
       "\n",
       "\n"
      ],
      "text/plain": [
       "  v1 v2\n",
       "4 4   6\n",
       "2 2   7\n",
       "5 5   8\n",
       "3 3   9\n",
       "1 1  10"
      ]
     },
     "metadata": {},
     "output_type": "display_data"
    },
    {
     "data": {
      "text/html": [
       "<table>\n",
       "<thead><tr><th></th><th scope=col>v1</th><th scope=col>v2</th></tr></thead>\n",
       "<tbody>\n",
       "\t<tr><th scope=row>1</th><td>1 </td><td>10</td></tr>\n",
       "\t<tr><th scope=row>3</th><td>3 </td><td> 9</td></tr>\n",
       "\t<tr><th scope=row>5</th><td>5 </td><td> 8</td></tr>\n",
       "\t<tr><th scope=row>2</th><td>2 </td><td> 7</td></tr>\n",
       "\t<tr><th scope=row>4</th><td>4 </td><td> 6</td></tr>\n",
       "</tbody>\n",
       "</table>\n"
      ],
      "text/latex": [
       "\\begin{tabular}{r|ll}\n",
       "  & v1 & v2\\\\\n",
       "\\hline\n",
       "\t1 & 1  & 10\\\\\n",
       "\t3 & 3  &  9\\\\\n",
       "\t5 & 5  &  8\\\\\n",
       "\t2 & 2  &  7\\\\\n",
       "\t4 & 4  &  6\\\\\n",
       "\\end{tabular}\n"
      ],
      "text/markdown": [
       "\n",
       "| <!--/--> | v1 | v2 | \n",
       "|---|---|---|---|---|\n",
       "| 1 | 1  | 10 | \n",
       "| 3 | 3  |  9 | \n",
       "| 5 | 5  |  8 | \n",
       "| 2 | 2  |  7 | \n",
       "| 4 | 4  |  6 | \n",
       "\n",
       "\n"
      ],
      "text/plain": [
       "  v1 v2\n",
       "1 1  10\n",
       "3 3   9\n",
       "5 5   8\n",
       "2 2   7\n",
       "4 4   6"
      ]
     },
     "metadata": {},
     "output_type": "display_data"
    }
   ],
   "source": [
    "x<-data.frame(v1=1:5,v2=c(10,7,9,6,8))\n",
    "sort(x$v2)\n",
    "sort(x$v2,decreasing=TRUE)\n",
    "\n",
    "order(x$v2) #return the position of the order\n",
    "\n",
    "x[order(x$v2),]\n",
    "\n",
    "x[order(x$v2,x$v1,decreasing=TRUE),]#first v2,then sort the v4"
   ]
  },
  {
   "cell_type": "code",
   "execution_count": 87,
   "metadata": {},
   "outputs": [
    {
     "data": {
      "text/html": [
       "<table>\n",
       "<thead><tr><th scope=col>Ozone</th><th scope=col>Solar.R</th><th scope=col>Wind</th><th scope=col>Temp</th><th scope=col>Month</th><th scope=col>Day</th></tr></thead>\n",
       "<tbody>\n",
       "\t<tr><td>41  </td><td>190 </td><td> 7.4</td><td>67  </td><td>5   </td><td>1   </td></tr>\n",
       "\t<tr><td>36  </td><td>118 </td><td> 8.0</td><td>72  </td><td>5   </td><td>2   </td></tr>\n",
       "\t<tr><td>12  </td><td>149 </td><td>12.6</td><td>74  </td><td>5   </td><td>3   </td></tr>\n",
       "\t<tr><td>18  </td><td>313 </td><td>11.5</td><td>62  </td><td>5   </td><td>4   </td></tr>\n",
       "\t<tr><td>NA  </td><td> NA </td><td>14.3</td><td>56  </td><td>5   </td><td>5   </td></tr>\n",
       "\t<tr><td>28  </td><td> NA </td><td>14.9</td><td>66  </td><td>5   </td><td>6   </td></tr>\n",
       "</tbody>\n",
       "</table>\n"
      ],
      "text/latex": [
       "\\begin{tabular}{r|llllll}\n",
       " Ozone & Solar.R & Wind & Temp & Month & Day\\\\\n",
       "\\hline\n",
       "\t 41   & 190  &  7.4 & 67   & 5    & 1   \\\\\n",
       "\t 36   & 118  &  8.0 & 72   & 5    & 2   \\\\\n",
       "\t 12   & 149  & 12.6 & 74   & 5    & 3   \\\\\n",
       "\t 18   & 313  & 11.5 & 62   & 5    & 4   \\\\\n",
       "\t NA   &  NA  & 14.3 & 56   & 5    & 5   \\\\\n",
       "\t 28   &  NA  & 14.9 & 66   & 5    & 6   \\\\\n",
       "\\end{tabular}\n"
      ],
      "text/markdown": [
       "\n",
       "Ozone | Solar.R | Wind | Temp | Month | Day | \n",
       "|---|---|---|---|---|---|\n",
       "| 41   | 190  |  7.4 | 67   | 5    | 1    | \n",
       "| 36   | 118  |  8.0 | 72   | 5    | 2    | \n",
       "| 12   | 149  | 12.6 | 74   | 5    | 3    | \n",
       "| 18   | 313  | 11.5 | 62   | 5    | 4    | \n",
       "| NA   |  NA  | 14.3 | 56   | 5    | 5    | \n",
       "| 28   |  NA  | 14.9 | 66   | 5    | 6    | \n",
       "\n",
       "\n"
      ],
      "text/plain": [
       "  Ozone Solar.R Wind Temp Month Day\n",
       "1 41    190      7.4 67   5     1  \n",
       "2 36    118      8.0 72   5     2  \n",
       "3 12    149     12.6 74   5     3  \n",
       "4 18    313     11.5 62   5     4  \n",
       "5 NA     NA     14.3 56   5     5  \n",
       "6 28     NA     14.9 66   5     6  "
      ]
     },
     "metadata": {},
     "output_type": "display_data"
    },
    {
     "data": {
      "text/html": [
       "<table>\n",
       "<thead><tr><th></th><th scope=col>Ozone</th><th scope=col>Solar.R</th><th scope=col>Wind</th><th scope=col>Temp</th><th scope=col>Month</th><th scope=col>Day</th></tr></thead>\n",
       "<tbody>\n",
       "\t<tr><th scope=row>144</th><td>13  </td><td>238 </td><td>12.6</td><td>64  </td><td>9   </td><td>21  </td></tr>\n",
       "\t<tr><th scope=row>145</th><td>23  </td><td> 14 </td><td> 9.2</td><td>71  </td><td>9   </td><td>22  </td></tr>\n",
       "\t<tr><th scope=row>146</th><td>36  </td><td>139 </td><td>10.3</td><td>81  </td><td>9   </td><td>23  </td></tr>\n",
       "\t<tr><th scope=row>147</th><td> 7  </td><td> 49 </td><td>10.3</td><td>69  </td><td>9   </td><td>24  </td></tr>\n",
       "\t<tr><th scope=row>148</th><td>14  </td><td> 20 </td><td>16.6</td><td>63  </td><td>9   </td><td>25  </td></tr>\n",
       "\t<tr><th scope=row>149</th><td>30  </td><td>193 </td><td> 6.9</td><td>70  </td><td>9   </td><td>26  </td></tr>\n",
       "\t<tr><th scope=row>150</th><td>NA  </td><td>145 </td><td>13.2</td><td>77  </td><td>9   </td><td>27  </td></tr>\n",
       "\t<tr><th scope=row>151</th><td>14  </td><td>191 </td><td>14.3</td><td>75  </td><td>9   </td><td>28  </td></tr>\n",
       "\t<tr><th scope=row>152</th><td>18  </td><td>131 </td><td> 8.0</td><td>76  </td><td>9   </td><td>29  </td></tr>\n",
       "\t<tr><th scope=row>153</th><td>20  </td><td>223 </td><td>11.5</td><td>68  </td><td>9   </td><td>30  </td></tr>\n",
       "</tbody>\n",
       "</table>\n"
      ],
      "text/latex": [
       "\\begin{tabular}{r|llllll}\n",
       "  & Ozone & Solar.R & Wind & Temp & Month & Day\\\\\n",
       "\\hline\n",
       "\t144 & 13   & 238  & 12.6 & 64   & 9    & 21  \\\\\n",
       "\t145 & 23   &  14  &  9.2 & 71   & 9    & 22  \\\\\n",
       "\t146 & 36   & 139  & 10.3 & 81   & 9    & 23  \\\\\n",
       "\t147 &  7   &  49  & 10.3 & 69   & 9    & 24  \\\\\n",
       "\t148 & 14   &  20  & 16.6 & 63   & 9    & 25  \\\\\n",
       "\t149 & 30   & 193  &  6.9 & 70   & 9    & 26  \\\\\n",
       "\t150 & NA   & 145  & 13.2 & 77   & 9    & 27  \\\\\n",
       "\t151 & 14   & 191  & 14.3 & 75   & 9    & 28  \\\\\n",
       "\t152 & 18   & 131  &  8.0 & 76   & 9    & 29  \\\\\n",
       "\t153 & 20   & 223  & 11.5 & 68   & 9    & 30  \\\\\n",
       "\\end{tabular}\n"
      ],
      "text/markdown": [
       "\n",
       "| <!--/--> | Ozone | Solar.R | Wind | Temp | Month | Day | \n",
       "|---|---|---|---|---|---|---|---|---|---|\n",
       "| 144 | 13   | 238  | 12.6 | 64   | 9    | 21   | \n",
       "| 145 | 23   |  14  |  9.2 | 71   | 9    | 22   | \n",
       "| 146 | 36   | 139  | 10.3 | 81   | 9    | 23   | \n",
       "| 147 |  7   |  49  | 10.3 | 69   | 9    | 24   | \n",
       "| 148 | 14   |  20  | 16.6 | 63   | 9    | 25   | \n",
       "| 149 | 30   | 193  |  6.9 | 70   | 9    | 26   | \n",
       "| 150 | NA   | 145  | 13.2 | 77   | 9    | 27   | \n",
       "| 151 | 14   | 191  | 14.3 | 75   | 9    | 28   | \n",
       "| 152 | 18   | 131  |  8.0 | 76   | 9    | 29   | \n",
       "| 153 | 20   | 223  | 11.5 | 68   | 9    | 30   | \n",
       "\n",
       "\n"
      ],
      "text/plain": [
       "    Ozone Solar.R Wind Temp Month Day\n",
       "144 13    238     12.6 64   9     21 \n",
       "145 23     14      9.2 71   9     22 \n",
       "146 36    139     10.3 81   9     23 \n",
       "147  7     49     10.3 69   9     24 \n",
       "148 14     20     16.6 63   9     25 \n",
       "149 30    193      6.9 70   9     26 \n",
       "150 NA    145     13.2 77   9     27 \n",
       "151 14    191     14.3 75   9     28 \n",
       "152 18    131      8.0 76   9     29 \n",
       "153 20    223     11.5 68   9     30 "
      ]
     },
     "metadata": {},
     "output_type": "display_data"
    }
   ],
   "source": [
    "head(airquality)#6 count from 1-6\n",
    "tail(airquality,10)#the last 10 ones"
   ]
  },
  {
   "cell_type": "code",
   "execution_count": 88,
   "metadata": {},
   "outputs": [
    {
     "data": {
      "text/plain": [
       "     Ozone           Solar.R           Wind             Temp      \n",
       " Min.   :  1.00   Min.   :  7.0   Min.   : 1.700   Min.   :56.00  \n",
       " 1st Qu.: 18.00   1st Qu.:115.8   1st Qu.: 7.400   1st Qu.:72.00  \n",
       " Median : 31.50   Median :205.0   Median : 9.700   Median :79.00  \n",
       " Mean   : 42.13   Mean   :185.9   Mean   : 9.958   Mean   :77.88  \n",
       " 3rd Qu.: 63.25   3rd Qu.:258.8   3rd Qu.:11.500   3rd Qu.:85.00  \n",
       " Max.   :168.00   Max.   :334.0   Max.   :20.700   Max.   :97.00  \n",
       " NA's   :37       NA's   :7                                       \n",
       "     Month            Day      \n",
       " Min.   :5.000   Min.   : 1.0  \n",
       " 1st Qu.:6.000   1st Qu.: 8.0  \n",
       " Median :7.000   Median :16.0  \n",
       " Mean   :6.993   Mean   :15.8  \n",
       " 3rd Qu.:8.000   3rd Qu.:23.0  \n",
       " Max.   :9.000   Max.   :31.0  \n",
       "                               "
      ]
     },
     "metadata": {},
     "output_type": "display_data"
    }
   ],
   "source": [
    "summary(airquality)"
   ]
  },
  {
   "cell_type": "code",
   "execution_count": 89,
   "metadata": {},
   "outputs": [
    {
     "name": "stdout",
     "output_type": "stream",
     "text": [
      "'data.frame':\t153 obs. of  6 variables:\n",
      " $ Ozone  : int  41 36 12 18 NA 28 23 19 8 NA ...\n",
      " $ Solar.R: int  190 118 149 313 NA NA 299 99 19 194 ...\n",
      " $ Wind   : num  7.4 8 12.6 11.5 14.3 14.9 8.6 13.8 20.1 8.6 ...\n",
      " $ Temp   : int  67 72 74 62 56 66 65 59 61 69 ...\n",
      " $ Month  : int  5 5 5 5 5 5 5 5 5 5 ...\n",
      " $ Day    : int  1 2 3 4 5 6 7 8 9 10 ...\n"
     ]
    }
   ],
   "source": [
    "str(airquality)"
   ]
  },
  {
   "cell_type": "code",
   "execution_count": 90,
   "metadata": {},
   "outputs": [
    {
     "data": {
      "text/plain": [
       "\n",
       " 5  6  7  8  9 \n",
       "31 30 31 31 30 "
      ]
     },
     "metadata": {},
     "output_type": "display_data"
    }
   ],
   "source": [
    "table(airquality$Month)"
   ]
  },
  {
   "cell_type": "code",
   "execution_count": 91,
   "metadata": {},
   "outputs": [
    {
     "data": {
      "text/plain": [
       "\n",
       "   1    4    6    7    8    9   10   11   12   13   14   16   18   19   20   21 \n",
       "   1    1    1    3    1    3    1    3    2    4    4    4    4    1    4    4 \n",
       "  22   23   24   27   28   29   30   31   32   34   35   36   37   39   40   41 \n",
       "   1    6    2    1    3    1    2    1    3    1    2    2    2    2    1    1 \n",
       "  44   45   46   47   48   49   50   52   59   61   63   64   65   66   71   73 \n",
       "   3    2    1    1    1    1    1    1    2    1    1    2    1    1    1    2 \n",
       "  76   77   78   79   80   82   84   85   89   91   96   97  108  110  115  118 \n",
       "   1    1    2    1    1    1    1    2    1    1    1    2    1    1    1    1 \n",
       " 122  135  168 <NA> \n",
       "   1    1    1   37 "
      ]
     },
     "metadata": {},
     "output_type": "display_data"
    }
   ],
   "source": [
    "table(airquality$Ozone,useNA=\"ifany\")"
   ]
  },
  {
   "cell_type": "code",
   "execution_count": 92,
   "metadata": {},
   "outputs": [
    {
     "data": {
      "text/plain": [
       "   \n",
       "    1 2 3 4 5 6 7 8 9 10 11 12 13 14 15 16 17 18 19 20 21 22 23 24 25 26 27 28\n",
       "  5 1 1 1 1 1 1 1 1 1  1  1  1  1  1  1  1  1  1  1  1  1  1  1  1  1  1  1  1\n",
       "  6 1 1 1 1 1 1 1 1 1  1  1  1  1  1  1  1  1  1  1  1  1  1  1  1  1  1  1  1\n",
       "  7 1 1 1 1 1 1 1 1 1  1  1  1  1  1  1  1  1  1  1  1  1  1  1  1  1  1  1  1\n",
       "  8 1 1 1 1 1 1 1 1 1  1  1  1  1  1  1  1  1  1  1  1  1  1  1  1  1  1  1  1\n",
       "  9 1 1 1 1 1 1 1 1 1  1  1  1  1  1  1  1  1  1  1  1  1  1  1  1  1  1  1  1\n",
       "   \n",
       "    29 30 31\n",
       "  5  1  1  1\n",
       "  6  1  1  0\n",
       "  7  1  1  1\n",
       "  8  1  1  1\n",
       "  9  1  1  0"
      ]
     },
     "metadata": {},
     "output_type": "display_data"
    }
   ],
   "source": [
    "table(airquality$Month,airquality$Day)"
   ]
  },
  {
   "cell_type": "code",
   "execution_count": 97,
   "metadata": {},
   "outputs": [
    {
     "data": {
      "text/html": [
       "37"
      ],
      "text/latex": [
       "37"
      ],
      "text/markdown": [
       "37"
      ],
      "text/plain": [
       "[1] 37"
      ]
     },
     "metadata": {},
     "output_type": "display_data"
    },
    {
     "data": {
      "text/html": [
       "TRUE"
      ],
      "text/latex": [
       "TRUE"
      ],
      "text/markdown": [
       "TRUE"
      ],
      "text/plain": [
       "[1] TRUE"
      ]
     },
     "metadata": {},
     "output_type": "display_data"
    }
   ],
   "source": [
    "sum(is.na(airquality$Ozone))#is there NA in air..zone?\n",
    "#sum how many NAs\n",
    "any(is.na(airquality$Ozone))#is there NA in air..zone?"
   ]
  },
  {
   "cell_type": "code",
   "execution_count": 98,
   "metadata": {},
   "outputs": [
    {
     "data": {
      "text/html": [
       "TRUE"
      ],
      "text/latex": [
       "TRUE"
      ],
      "text/markdown": [
       "TRUE"
      ],
      "text/plain": [
       "[1] TRUE"
      ]
     },
     "metadata": {},
     "output_type": "display_data"
    }
   ],
   "source": [
    "all(airquality$Month<12)"
   ]
  },
  {
   "cell_type": "code",
   "execution_count": 105,
   "metadata": {},
   "outputs": [
    {
     "data": {
      "text/html": [
       "<table>\n",
       "<thead><tr><th scope=col>Class</th><th scope=col>Sex</th><th scope=col>Age</th><th scope=col>Survived</th><th scope=col>Freq</th></tr></thead>\n",
       "<tbody>\n",
       "\t<tr><td>1st  </td><td>Male </td><td>Child</td><td>No   </td><td>0    </td></tr>\n",
       "\t<tr><td>2nd  </td><td>Male </td><td>Child</td><td>No   </td><td>0    </td></tr>\n",
       "</tbody>\n",
       "</table>\n"
      ],
      "text/latex": [
       "\\begin{tabular}{r|lllll}\n",
       " Class & Sex & Age & Survived & Freq\\\\\n",
       "\\hline\n",
       "\t 1st   & Male  & Child & No    & 0    \\\\\n",
       "\t 2nd   & Male  & Child & No    & 0    \\\\\n",
       "\\end{tabular}\n"
      ],
      "text/markdown": [
       "\n",
       "Class | Sex | Age | Survived | Freq | \n",
       "|---|---|\n",
       "| 1st   | Male  | Child | No    | 0     | \n",
       "| 2nd   | Male  | Child | No    | 0     | \n",
       "\n",
       "\n"
      ],
      "text/plain": [
       "  Class Sex  Age   Survived Freq\n",
       "1 1st   Male Child No       0   \n",
       "2 2nd   Male Child No       0   "
      ]
     },
     "metadata": {},
     "output_type": "display_data"
    },
    {
     "data": {
      "text/html": [
       "<ol class=list-inline>\n",
       "\t<li>32</li>\n",
       "\t<li>5</li>\n",
       "</ol>\n"
      ],
      "text/latex": [
       "\\begin{enumerate*}\n",
       "\\item 32\n",
       "\\item 5\n",
       "\\end{enumerate*}\n"
      ],
      "text/markdown": [
       "1. 32\n",
       "2. 5\n",
       "\n",
       "\n"
      ],
      "text/plain": [
       "[1] 32  5"
      ]
     },
     "metadata": {},
     "output_type": "display_data"
    },
    {
     "data": {
      "text/plain": [
       "  Class       Sex        Age     Survived      Freq       \n",
       " 1st :8   Male  :16   Child:16   No :16   Min.   :  0.00  \n",
       " 2nd :8   Female:16   Adult:16   Yes:16   1st Qu.:  0.75  \n",
       " 3rd :8                                   Median : 13.50  \n",
       " Crew:8                                   Mean   : 68.78  \n",
       "                                          3rd Qu.: 77.00  \n",
       "                                          Max.   :670.00  "
      ]
     },
     "metadata": {},
     "output_type": "display_data"
    }
   ],
   "source": [
    "titanic<-as.data.frame(Titanic)\n",
    "head(titanic,2)\n",
    "dim(titanic)\n",
    "summary(titanic)\n"
   ]
  },
  {
   "cell_type": "code",
   "execution_count": 109,
   "metadata": {},
   "outputs": [
    {
     "data": {
      "text/plain": [
       "      Age\n",
       "Class  Child Adult\n",
       "  1st      6   319\n",
       "  2nd     24   261\n",
       "  3rd     79   627\n",
       "  Crew     0   885"
      ]
     },
     "metadata": {},
     "output_type": "display_data"
    },
    {
     "data": {
      "text/plain": [
       "      Age Child Adult\n",
       "Class                \n",
       "1st           6   319\n",
       "2nd          24   261\n",
       "3rd          79   627\n",
       "Crew          0   885"
      ]
     },
     "metadata": {},
     "output_type": "display_data"
    }
   ],
   "source": [
    "x<-xtabs(Freq~Class+Age,data=titanic)\n",
    "x\n",
    "ftable(x)"
   ]
  },
  {
   "cell_type": "code",
   "execution_count": 110,
   "metadata": {},
   "outputs": [
    {
     "data": {
      "text/plain": [
       "5496 bytes"
      ]
     },
     "metadata": {},
     "output_type": "display_data"
    },
    {
     "name": "stdout",
     "output_type": "stream",
     "text": [
      "5.4 Kb\n"
     ]
    }
   ],
   "source": [
    "object.size(airquality)\n",
    "print(object.size(airquality),units=\"Kb\")"
   ]
  },
  {
   "cell_type": "code",
   "execution_count": null,
   "metadata": {
    "collapsed": true
   },
   "outputs": [],
   "source": []
  }
 ],
 "metadata": {
  "kernelspec": {
   "display_name": "R",
   "language": "R",
   "name": "ir"
  },
  "language_info": {
   "codemirror_mode": "r",
   "file_extension": ".r",
   "mimetype": "text/x-r-source",
   "name": "R",
   "pygments_lexer": "r",
   "version": "3.4.2"
  }
 },
 "nbformat": 4,
 "nbformat_minor": 2
}
