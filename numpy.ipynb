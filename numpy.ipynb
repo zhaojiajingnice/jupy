{
 "cells": [
  {
   "cell_type": "code",
   "execution_count": 35,
   "metadata": {},
   "outputs": [
    {
     "name": "stdout",
     "output_type": "stream",
     "text": [
      "2\n",
      "6\n",
      "(2, 3)\n",
      "float32\n"
     ]
    }
   ],
   "source": [
    "import numpy as np\n",
    "\n",
    "array=np.array([[1,2,3],\n",
    "                [4,5,6]],dtype=np.float32)\n",
    "\n",
    "print(array.ndim)\n",
    "print(array.size)\n",
    "print(array.shape)\n",
    "print(array.dtype)\n",
    "\n",
    "a=np.zeros((3,4))\n",
    "b=np.ones((3,4),dtype=np.int16)\n"
   ]
  },
  {
   "cell_type": "code",
   "execution_count": 34,
   "metadata": {},
   "outputs": [
    {
     "data": {
      "text/plain": [
       "array([10, 12, 14, 16, 18])"
      ]
     },
     "execution_count": 34,
     "metadata": {},
     "output_type": "execute_result"
    }
   ],
   "source": [
    "np.arange(10,20,2)"
   ]
  },
  {
   "cell_type": "code",
   "execution_count": 33,
   "metadata": {},
   "outputs": [
    {
     "data": {
      "text/plain": [
       "array([[ 0,  1,  2,  3],\n",
       "       [ 4,  5,  6,  7],\n",
       "       [ 8,  9, 10, 11]])"
      ]
     },
     "execution_count": 33,
     "metadata": {},
     "output_type": "execute_result"
    }
   ],
   "source": [
    "np.arange(12).reshape(3,4)"
   ]
  },
  {
   "cell_type": "code",
   "execution_count": 32,
   "metadata": {},
   "outputs": [
    {
     "data": {
      "text/plain": [
       "array([  1.  ,   3.25,   5.5 ,   7.75,  10.  ])"
      ]
     },
     "execution_count": 32,
     "metadata": {},
     "output_type": "execute_result"
    }
   ],
   "source": [
    "np.linspace(1,10,5)"
   ]
  },
  {
   "cell_type": "code",
   "execution_count": 31,
   "metadata": {},
   "outputs": [
    {
     "name": "stdout",
     "output_type": "stream",
     "text": [
      "[ True  True False False]\n"
     ]
    }
   ],
   "source": [
    "a=np.arange(4)\n",
    "print(a<2)"
   ]
  },
  {
   "cell_type": "code",
   "execution_count": 40,
   "metadata": {
    "scrolled": true
   },
   "outputs": [
    {
     "name": "stdout",
     "output_type": "stream",
     "text": [
      "[[0 1]\n",
      " [4 9]]\n",
      "[[ 2  3]\n",
      " [ 6 11]]\n"
     ]
    },
    {
     "data": {
      "text/plain": [
       "array([[ 2,  3],\n",
       "       [ 6, 11]])"
      ]
     },
     "execution_count": 40,
     "metadata": {},
     "output_type": "execute_result"
    }
   ],
   "source": [
    "a=np.arange(4).reshape(2,2)\n",
    "print(a*a)\n",
    "print(np.dot(a,a))\n",
    "a.dot(a)"
   ]
  },
  {
   "cell_type": "code",
   "execution_count": 82,
   "metadata": {},
   "outputs": [
    {
     "name": "stdout",
     "output_type": "stream",
     "text": [
      "[[ 0  1  2  3]\n",
      " [ 4  5  6  7]\n",
      " [ 8  9 10 11]] \n",
      "\n",
      " [12 15 18 21] [0 4 8] 11 \n",
      "\n",
      " 0 11 5.5 5.5 \n",
      "\n",
      " [ 0  1  3  6 10 15 21 28 36 45 55 66] \n",
      "\n",
      " [[1 1 1]\n",
      " [1 1 1]\n",
      " [1 1 1]] \n",
      "\n",
      " (array([0, 0, 0, 1, 1, 1, 1, 2, 2, 2, 2], dtype=int64), array([1, 2, 3, 0, 1, 2, 3, 0, 1, 2, 3], dtype=int64)) \n",
      "\n",
      " [[ 0  1  2  3]\n",
      " [ 4  5  6  7]\n",
      " [ 8  9 10 11]]\n"
     ]
    }
   ],
   "source": [
    "a=np.arange(12).reshape(3,4)\n",
    "\n",
    "#diff[2,3,5]:1,2\n",
    "#nonzero: the location of nonzero\n",
    "print(a,\n",
    "'\\n\\n',np.sum(a,axis=0),\n",
    "np.min(a,axis=1),\n",
    "np.max(a),\n",
    "'\\n\\n',\n",
    "np.argmin(a),\n",
    "np.argmax(a),\n",
    "np.mean(a),\n",
    "np.median(a),\n",
    "'\\n\\n',\n",
    "np.cumsum(a),\n",
    "'\\n\\n',\n",
    "np.diff(a),\n",
    "'\\n\\n',\n",
    "np.nonzero(a),\n",
    "'\\n\\n',\n",
    "np.sort(a)\n",
    ")\n"
   ]
  },
  {
   "cell_type": "code",
   "execution_count": 51,
   "metadata": {},
   "outputs": [
    {
     "data": {
      "text/plain": [
       "array([[ 0.74141309,  0.60687911,  0.19672161,  0.45195961],\n",
       "       [ 0.04896167,  0.68166288,  0.17542326,  0.17924625]])"
      ]
     },
     "execution_count": 51,
     "metadata": {},
     "output_type": "execute_result"
    }
   ],
   "source": [
    "np.random.random((2,4))"
   ]
  },
  {
   "cell_type": "code",
   "execution_count": 84,
   "metadata": {},
   "outputs": [
    {
     "name": "stdout",
     "output_type": "stream",
     "text": [
      "[[ 0  4  8]\n",
      " [ 1  5  9]\n",
      " [ 2  6 10]\n",
      " [ 3  7 11]]\n",
      "[[ 80  92 104 116]\n",
      " [ 92 107 122 137]\n",
      " [104 122 140 158]\n",
      " [116 137 158 179]]\n"
     ]
    }
   ],
   "source": [
    "a=np.arange(12).reshape(3,4)\n",
    "#A.T==A transpose\n",
    "print(np.transpose(a))\n",
    "print((a.T).dot(a))\n"
   ]
  },
  {
   "cell_type": "code",
   "execution_count": 87,
   "metadata": {},
   "outputs": [
    {
     "data": {
      "text/plain": [
       "array([[2, 2, 2],\n",
       "       [3, 4, 4]])"
      ]
     },
     "execution_count": 87,
     "metadata": {},
     "output_type": "execute_result"
    }
   ],
   "source": [
    "a=np.arange(6).reshape(2,3)\n",
    "a\n",
    "np.clip(a,2,4)#give a limit and change all"
   ]
  },
  {
   "cell_type": "code",
   "execution_count": 105,
   "metadata": {},
   "outputs": [
    {
     "name": "stdout",
     "output_type": "stream",
     "text": [
      "1\n",
      "[1 2 3 4] [1 2 3 4] 1 1\n"
     ]
    }
   ],
   "source": [
    "a=np.arange(1,13)\n",
    "print(a[0])\n",
    "#b[0][0]=b[0,0]\n",
    "#b[0],b[0,:] the same in 2 dim\n",
    "b=np.arange(1,13).reshape(3,4)\n",
    "print(b[0],b[0,:],b[0][0],b[0,0])"
   ]
  },
  {
   "cell_type": "code",
   "execution_count": 119,
   "metadata": {},
   "outputs": [
    {
     "name": "stdout",
     "output_type": "stream",
     "text": [
      "[3 4 5 6]\n",
      "\n",
      "\n",
      "[ 7  8  9 10]\n",
      "\n",
      "\n",
      "[11 12 13 14]\n",
      "\n",
      "\n",
      "####################\n",
      "[ 3  7 11]\n",
      "\n",
      "\n",
      "[ 4  8 12]\n",
      "\n",
      "\n",
      "[ 5  9 13]\n",
      "\n",
      "\n",
      "[ 6 10 14]\n",
      "\n",
      "\n",
      "3\n",
      "4\n",
      "5\n",
      "6\n",
      "7\n",
      "8\n",
      "9\n",
      "10\n",
      "11\n",
      "12\n",
      "13\n",
      "14\n"
     ]
    }
   ],
   "source": [
    "a=np.arange(3,15).reshape(3,4)\n",
    "#行迭代\n",
    "for row in a:\n",
    "    print(row)\n",
    "    print('\\n')\n",
    "    \n",
    "print('#'*20)\n",
    "#列迭代==trans行迭代\n",
    "for col in a.T:\n",
    "    print(col)\n",
    "    print('\\n')\n",
    "    \n",
    "a.flat[0]# .flat to decrease dim\n",
    "#迭代全部\n",
    "for item in a.flat:\n",
    "    print(item)"
   ]
  },
  {
   "cell_type": "code",
   "execution_count": 133,
   "metadata": {},
   "outputs": [
    {
     "name": "stdout",
     "output_type": "stream",
     "text": [
      "\n",
      "\n",
      "[[1]\n",
      " [2]\n",
      " [3]\n",
      " [4]\n",
      " [5]\n",
      " [6]] \n",
      "\n",
      " [[1 4]\n",
      " [2 5]\n",
      " [3 6]]\n"
     ]
    }
   ],
   "source": [
    "#a=np.array([1,2,3])\n",
    "a=np.array([1,2,3])[:,np.newaxis]\n",
    "#b=np.array([4,5,6])\n",
    "b=np.array([4,5,6])[:,np.newaxis]\n",
    "\n",
    "#a改为纵向\n",
    "#print(a[:,np.newaxis])\n",
    "print('\\n')\n",
    "a1b=np.vstack((a,b))\n",
    "a2b=np.hstack((a,b))\n",
    "print(a1b,'\\n\\n',a2b)\n"
   ]
  },
  {
   "cell_type": "code",
   "execution_count": 143,
   "metadata": {},
   "outputs": [
    {
     "name": "stdout",
     "output_type": "stream",
     "text": [
      "[[1 2 1]\n",
      " [1 2 1]\n",
      " [1 2 1]]\n"
     ]
    }
   ],
   "source": [
    "#加强版合并\n",
    "a=np.array([1,1,1])[:,np.newaxis]\n",
    "b=np.array([2,2,2])[:,np.newaxis]\n",
    "c=np.concatenate((a,b,a),axis=1)#try change 0 or 1\n",
    "print(c)\n",
    " "
   ]
  },
  {
   "cell_type": "code",
   "execution_count": 164,
   "metadata": {},
   "outputs": [
    {
     "name": "stdout",
     "output_type": "stream",
     "text": [
      "[[0 1]\n",
      " [4 5]\n",
      " [8 9]]\n",
      "\n",
      "\n",
      "[[ 2]\n",
      " [ 6]\n",
      " [10]]\n",
      "\n",
      "\n",
      "[[ 3]\n",
      " [ 7]\n",
      " [11]]\n"
     ]
    }
   ],
   "source": [
    "a=np.arange(12).reshape(3,4)\n",
    "#split 等分，array_split不等分\n",
    "b,c,d=np.array_split(a,3,axis=1)#0 行 1列\n",
    "print(b)\n",
    "print('\\n')\n",
    "print(c)\n",
    "print('\\n')\n",
    "print(d)"
   ]
  },
  {
   "cell_type": "code",
   "execution_count": 168,
   "metadata": {},
   "outputs": [
    {
     "name": "stdout",
     "output_type": "stream",
     "text": [
      "[array([[0, 1, 2, 3]]), array([[4, 5, 6, 7]]), array([[ 8,  9, 10, 11]])]\n",
      "\n",
      "\n",
      "[array([[0, 1],\n",
      "       [4, 5],\n",
      "       [8, 9]]), array([[ 2,  3],\n",
      "       [ 6,  7],\n",
      "       [10, 11]])]\n"
     ]
    }
   ],
   "source": [
    "a=np.arange(12).reshape(3,4)\n",
    "print(np.vsplit(a,3))\n",
    "print('\\n')\n",
    "print(np.hsplit(a,2))"
   ]
  },
  {
   "cell_type": "code",
   "execution_count": 173,
   "metadata": {},
   "outputs": [
    {
     "name": "stdout",
     "output_type": "stream",
     "text": [
      "a [1 2 3]\n",
      "b [1 2 3]\n",
      "c [1 2 3]\n",
      "a [9 2 3]\n",
      "b [9 2 3]\n",
      "c [1 2 3]\n"
     ]
    }
   ],
   "source": [
    "#赋值\n",
    "a=np.array([1,2,3])\n",
    "b=a\n",
    "c=a.copy()\n",
    "print('a',a)\n",
    "print('b',b)\n",
    "print('c',c)\n",
    "a[0]=9\n",
    "print('a',a)\n",
    "print('b',b)\n",
    "print('c',c)\n",
    "#类似指针，b为a的引用"
   ]
  }
 ],
 "metadata": {
  "kernelspec": {
   "display_name": "Python 3",
   "language": "python",
   "name": "python3"
  },
  "language_info": {
   "codemirror_mode": {
    "name": "ipython",
    "version": 3
   },
   "file_extension": ".py",
   "mimetype": "text/x-python",
   "name": "python",
   "nbconvert_exporter": "python",
   "pygments_lexer": "ipython3",
   "version": "3.6.3"
  }
 },
 "nbformat": 4,
 "nbformat_minor": 2
}
