{
 "cells": [
  {
   "cell_type": "code",
   "execution_count": null,
   "metadata": {},
   "outputs": [],
   "source": [
    "#小爬虫+词频统计\n",
    "import nltk\n",
    "import urllib.request\n",
    "import nltk\n",
    "nltk.download('stopwords')\n",
    "response=urllib.request.urlopen('http://php.net/')\n",
    "html=response.read()\n",
    "\n",
    "from bs4 import BeautifulSoup\n",
    "soup=BeautifulSoup(html,\"html5lib\")\n",
    "text=soup.get_text(strip=True)\n",
    "\n",
    "tokens=[t for t in text.split()]\n",
    "freq=nltk.FreqDist(tokens)\n",
    "\n",
    "from nltk.corpus import stopwords\n",
    "stopwords.words('english')\n",
    "\n",
    "clean_tokens=list()\n",
    "sr=stopwords.words('english')\n",
    "for token in tokens:\n",
    "    if not token in sr:\n",
    "        clean_tokens.append(token)\n",
    "\n",
    "freq=nltk.FreqDist(clean_tokens)\n",
    "for key,val in freq.items():\n",
    "        print(str(key)+':'+str(val))\n",
    "    \n",
    "\n",
    "freq.plot(20,cumulative=False)\n",
    "\n",
    "    \n",
    "    \n",
    "        \n",
    "\n",
    "\n",
    "\n"
   ]
  },
  {
   "cell_type": "code",
   "execution_count": 55,
   "metadata": {},
   "outputs": [
    {
     "name": "stdout",
     "output_type": "stream",
     "text": [
      "['what is this fuck,cao ni mama le ge bibibi!8']\n"
     ]
    }
   ],
   "source": [
    "#分句\n",
    "from nltk.tokenize import sent_tokenize\n",
    "n=\"what is this fuck,cao ni mama le ge bibibi!8\"\n",
    "print(sent_tokenize(n))\n",
    "\n",
    "\n",
    "\n",
    "\n",
    "\n"
   ]
  },
  {
   "cell_type": "code",
   "execution_count": 41,
   "metadata": {},
   "outputs": [
    {
     "name": "stdout",
     "output_type": "stream",
     "text": [
      "['hello', 'fuck', ',', 'this', 'is', 'the', 'this', \"'s\", '?']\n"
     ]
    }
   ],
   "source": [
    "#分词\n",
    "from nltk.tokenize import word_tokenize\n",
    "n=\"hello fuck, this is the this's ?\"\n",
    "print(word_tokenize(n))"
   ]
  },
  {
   "cell_type": "code",
   "execution_count": 90,
   "metadata": {},
   "outputs": [
    {
     "name": "stdout",
     "output_type": "stream",
     "text": [
      "enjoying or showing or marked by joy or pleasure\n",
      "['a happy smile', 'spent many happy days on the beach', 'a happy marriage']\n"
     ]
    }
   ],
   "source": [
    "#一个小词典\n",
    "from nltk.corpus import wordnet\n",
    "\n",
    "syn=wordnet.synsets(\"happy\")\n",
    "print(syn[0].definition())\n",
    "print(syn[0].examples())\n",
    "\n",
    "#从0到各种词\n",
    "\n",
    "\n"
   ]
  },
  {
   "cell_type": "code",
   "execution_count": 97,
   "metadata": {},
   "outputs": [
    {
     "name": "stdout",
     "output_type": "stream",
     "text": [
      "['fuck', 'fucking', 'screw', 'screwing', 'ass', 'nooky', 'nookie', 'piece_of_ass', 'piece_of_tail', 'roll_in_the_hay', 'shag', 'shtup', 'sleep_together', 'roll_in_the_hay', 'love', 'make_out', 'make_love', 'sleep_with', 'get_laid', 'have_sex', 'know', 'do_it', 'be_intimate', 'have_intercourse', 'have_it_away', 'have_it_off', 'screw', 'fuck', 'jazz', 'eff', 'hump', 'lie_with', 'bed', 'have_a_go_at_it', 'bang', 'get_it_on', 'bonk']\n",
      "['large', 'big', 'big']\n"
     ]
    }
   ],
   "source": [
    "#查询同义词\n",
    "from nltk.corpus import wordnet\n",
    "synonyms=[]\n",
    "for syn in wordnet.synsets('fuck'):\n",
    "    for l in syn.lemmas():\n",
    "        synonyms.append(l.name())\n",
    "print(synonyms)\n",
    "\n",
    "anto=[]\n",
    "for syn in wordnet.synsets('small'):\n",
    "    for l in syn.lemmas():\n",
    "        if l.antonyms():\n",
    "            anto.append(l.antonyms()[0].name())\n",
    "print(anto)\n"
   ]
  },
  {
   "cell_type": "code",
   "execution_count": 99,
   "metadata": {},
   "outputs": [
    {
     "name": "stdout",
     "output_type": "stream",
     "text": [
      "work\n"
     ]
    }
   ],
   "source": [
    "#词干提取\n",
    "from nltk.stem import PorterStemmer\n",
    "\n",
    "stemmer=PorterStemmer()\n",
    "print(stemmer.stem('working'))\n",
    "\n"
   ]
  },
  {
   "cell_type": "code",
   "execution_count": null,
   "metadata": {
    "collapsed": true
   },
   "outputs": [],
   "source": []
  }
 ],
 "metadata": {
  "kernelspec": {
   "display_name": "Python 3",
   "language": "python",
   "name": "python3"
  },
  "language_info": {
   "codemirror_mode": {
    "name": "ipython",
    "version": 3
   },
   "file_extension": ".py",
   "mimetype": "text/x-python",
   "name": "python",
   "nbconvert_exporter": "python",
   "pygments_lexer": "ipython3",
   "version": "3.6.3"
  }
 },
 "nbformat": 4,
 "nbformat_minor": 2
}
