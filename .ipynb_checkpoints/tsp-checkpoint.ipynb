{
 "cells": [
  {
   "cell_type": "code",
   "execution_count": 39,
   "metadata": {},
   "outputs": [
    {
     "name": "stdout",
     "output_type": "stream",
     "text": [
      "[2, 0, 3, 4, 1, 2]\n",
      "20\n"
     ]
    }
   ],
   "source": [
    "'''旅行商问题（Traveling Salesman Problem,TSP）'''\n",
    "# 用邻接表表示带权图\n",
    "n = 5 # 节点数\n",
    "a,b,c,d,e = range(n) # 节点名称\n",
    "graph = [\n",
    "  {a:0,b:7, c:6, d:1, e:3},\n",
    "  {b:0,a:7, c:3, d:7, e:8},\n",
    "  {a:6, b:3, d:12, e:11},\n",
    "  {a:1, b:7, c:12, e:2},\n",
    "  {a:3, b:8, c:11, d:2}\n",
    "]\n",
    "\n",
    "\n",
    "\n",
    "\n",
    "x = [0]*(n+1) # 一个解（n+1元数组，长度固定）\n",
    "X = []     # 一组解\n",
    "best_x = [0]*(n+1) # 已找到的最佳解（路径）\n",
    "min_cost = 0    # 最小旅费\n",
    "# 冲突检测\n",
    "def conflict(k):\n",
    "  global n,graph,x,best_x,min_cost\n",
    "  # 第k个节点，是否前面已经走过\n",
    "  if k < n and x[k] in x[:k]:\n",
    "    return True\n",
    "  # 回到出发节点\n",
    "  if k == n and x[k] != x[0]:\n",
    "    return True\n",
    "  # 前面部分解的旅费之和超出已经找到的最小总旅费\n",
    "  cost = sum([graph[node1][node2] for node1,node2 in zip(x[:k], x[1:k+1])])\n",
    "  if 0 < min_cost < cost:\n",
    "    return True\n",
    "  return False # 无冲突\n",
    "# 旅行商问题（TSP）\n",
    "def tsp(k): # 到达（解x的）第k个节点\n",
    "  global n,a,b,c,d,e,graph,x,X,min_cost,best_x\n",
    "  if k > n: # 解的长度超出，已走遍n+1个节点 （若不回到出发节点，则 k==n）\n",
    "    cost = sum([graph[node1][node2] for node1,node2 in zip(x[:-1], x[1:])]) # 计算总旅费\n",
    "    if min_cost == 0 or cost < min_cost:\n",
    "      best_x = x[:]\n",
    "      min_cost = cost\n",
    "      #print(x)\n",
    "  else:\n",
    "    for node in graph[x[k-1]]: # 遍历节点x[k-1]的邻接节点（状态空间）\n",
    "      x[k] = node\n",
    "      if not conflict(k): # 剪枝\n",
    "        tsp(k+1)\n",
    "# 测试\n",
    "x[0] = c # 出发节点：路径x的第一个节点（随便哪个）\n",
    "tsp(1)  # 开始处理解x中的第2个节点\n",
    "print(best_x)\n",
    "print(min_cost)"
   ]
  },
  {
   "cell_type": "code",
   "execution_count": 32,
   "metadata": {},
   "outputs": [
    {
     "data": {
      "text/plain": [
       "[[0.0,\n",
       "  65.43699259593154,\n",
       "  238.03361107205006,\n",
       "  241.6298822579691,\n",
       "  417.5284421449633,\n",
       "  442.6612700474258,\n",
       "  383.437087408091,\n",
       "  301.20424963801554],\n",
       " [65.43699259593154,\n",
       "  0.0,\n",
       "  175.025712396779,\n",
       "  192.43960091415696,\n",
       "  365.16845427829605,\n",
       "  395.2176615486712,\n",
       "  367.76351096866586,\n",
       "  326.6955769519998],\n",
       " [238.03361107205006,\n",
       "  175.025712396779,\n",
       "  0.0,\n",
       "  93.53608929178085,\n",
       "  212.24985276791125,\n",
       "  255.15681452785068,\n",
       "  326.90671452266014,\n",
       "  396.50472884948044],\n",
       " [241.6298822579691,\n",
       "  192.43960091415696,\n",
       "  93.53608929178085,\n",
       "  0.0,\n",
       "  176.17321022221284,\n",
       "  202.8003944769339,\n",
       "  233.54871012274933,\n",
       "  320.65713776555793],\n",
       " [417.5284421449633,\n",
       "  365.16845427829605,\n",
       "  212.24985276791125,\n",
       "  176.17321022221284,\n",
       "  0.0,\n",
       "  54.56189146281496,\n",
       "  257.96511392046796,\n",
       "  438.73682316395553],\n",
       " [442.6612700474258,\n",
       "  395.2176615486712,\n",
       "  255.15681452785068,\n",
       "  202.8003944769339,\n",
       "  54.56189146281496,\n",
       "  0.0,\n",
       "  226.76198976018887,\n",
       "  426.04342501674637],\n",
       " [383.437087408091,\n",
       "  367.76351096866586,\n",
       "  326.90671452266014,\n",
       "  233.54871012274933,\n",
       "  257.96511392046796,\n",
       "  226.76198976018887,\n",
       "  0.0,\n",
       "  225.3619311241364],\n",
       " [301.20424963801554,\n",
       "  326.6955769519998,\n",
       "  396.50472884948044,\n",
       "  320.65713776555793,\n",
       "  438.73682316395553,\n",
       "  426.04342501674637,\n",
       "  225.3619311241364,\n",
       "  0.0]]"
      ]
     },
     "execution_count": 32,
     "metadata": {},
     "output_type": "execute_result"
    }
   ],
   "source": [
    "from math import sqrt\n",
    "vec=[[378,78],[327,119],[232,266],[314,311],[255,477],\n",
    "  [296,513],[510,438],[628,246]]\n",
    "\n",
    "matrix = [[0 for i in range(8)] for i in range(8)]\n",
    "for i  in range(0,8):\n",
    "    for j in range(0,8):\n",
    "        matrix[i][j]=sqrt((vec[i][0]-vec[j][0])**2\n",
    "                         +(vec[i][1]-vec[j][1])**2)\n",
    "        \n",
    "        \n",
    "matrix\n",
    "\n",
    "for\n"
   ]
  },
  {
   "cell_type": "code",
   "execution_count": 46,
   "metadata": {},
   "outputs": [
    {
     "data": {
      "text/plain": [
       "[[{0: 0}, 0, 0, 0, 0, 0, 0, 0],\n",
       " [0, 0, 0, 0, 0, 0, 0, 0],\n",
       " [0, 0, 0, 0, 0, 0, 0, 0],\n",
       " [0, 0, 0, 0, 0, 0, 0, 0],\n",
       " [0, 0, 0, 0, 0, 0, 0, 0],\n",
       " [0, 0, 0, 0, 0, 0, 0, 0],\n",
       " [0, 0, 0, 0, 0, 0, 0, 0],\n",
       " [0, 0, 0, 0, 0, 0, 0, 0]]"
      ]
     },
     "execution_count": 46,
     "metadata": {},
     "output_type": "execute_result"
    }
   ],
   "source": [
    "from math import sqrt\n",
    "matrix = [[0 for i in range(8)] for i in range(8)]\n",
    "matrix[0][0]={a:0}\n",
    "matrix\n"
   ]
  }
 ],
 "metadata": {
  "kernelspec": {
   "display_name": "Python 3",
   "language": "python",
   "name": "python3"
  },
  "language_info": {
   "codemirror_mode": {
    "name": "ipython",
    "version": 3
   },
   "file_extension": ".py",
   "mimetype": "text/x-python",
   "name": "python",
   "nbconvert_exporter": "python",
   "pygments_lexer": "ipython3",
   "version": "3.6.3"
  }
 },
 "nbformat": 4,
 "nbformat_minor": 2
}
