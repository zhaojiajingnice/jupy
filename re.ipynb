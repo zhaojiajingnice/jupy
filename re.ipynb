{
 "cells": [
  {
   "cell_type": "code",
   "execution_count": 49,
   "metadata": {},
   "outputs": [
    {
     "name": "stdout",
     "output_type": "stream",
     "text": [
      "object compare :imooc\n",
      "(0, 5)\n",
      "the string that is compared:imooc hehe\n"
     ]
    },
    {
     "data": {
      "text/plain": [
       "'A'"
      ]
     },
     "execution_count": 49,
     "metadata": {},
     "output_type": "execute_result"
    }
   ],
   "source": [
    "import re\n",
    "import matplotlib\n",
    "\n",
    "pa=re.compile(r'imooc')\n",
    "str1='imooc hehe'            \n",
    "ma=pa.match(str1)#the way to match the re and str\n",
    "print(\"object compare :\"+ma.group())#the object they compare\n",
    "print(ma.span())\n",
    "print(\"the string that is compared:\"+ma.string)\n",
    "\n",
    "pa1=re.compile(r'imooc',re.I)#ignore the big small \n",
    "ma1=pa1.match('ImoOc python')\n",
    "ma1.group()\n",
    "\n",
    "ma=re.match(r'[a-zA-Z]','A')#[] means one of them,all letter,big or small\n",
    "ma.group()#meanwhile [a-zA-Z0-9] get numbers in\n",
    "\n",
    " \n",
    "\n",
    "\n",
    "\n"
   ]
  },
  {
   "cell_type": "code",
   "execution_count": 68,
   "metadata": {},
   "outputs": [
    {
     "data": {
      "text/plain": [
       "'ab'"
      ]
     },
     "execution_count": 68,
     "metadata": {},
     "output_type": "execute_result"
    }
   ],
   "source": [
    "import re\n",
    "c=re.match(r'[A][a]+','Aaaaaaaaa')# [a]* a for(0-indefi)\n",
    "c.group()  #[a]+ (1-infi)\n",
    "\n",
    "\n",
    "s=re.match(r'[1-9]?[0-9]','90')\n",
    "s.group()  #[a]? (0 or 1)\n",
    "\n",
    "\n",
    "p=re.match(r'[a-zA-Z0-9]{3,5}@sina.com','123@sina.com')\n",
    "p.group()#{3,5}letters and number range from 3 to 5\n",
    "\n",
    "p=re.match(r'[a-z][a-z]+?','abbb')\n",
    "p.group()#+? as 0 as possible,not disireble mode\n",
    "         #.\n",
    "         #.\n",
    "\n",
    "\n",
    "\n",
    "\n",
    "\n"
   ]
  },
  {
   "cell_type": "code",
   "execution_count": 77,
   "metadata": {},
   "outputs": [
    {
     "data": {
      "text/plain": [
       "'a9'"
      ]
     },
     "execution_count": 77,
     "metadata": {},
     "output_type": "execute_result"
    }
   ],
   "source": [
    "import re\n",
    "\n",
    "a1=re.match(r'^[a-z][0-9]$','a9')\n",
    "a1.group()#\\A  \\Z for string begin and end\n",
    "\n",
    "\n",
    "\n"
   ]
  },
  {
   "cell_type": "code",
   "execution_count": 81,
   "metadata": {},
   "outputs": [
    {
     "data": {
      "text/plain": [
       "'@199.com'"
      ]
     },
     "execution_count": 81,
     "metadata": {},
     "output_type": "execute_result"
    }
   ],
   "source": [
    "import re\n",
    "\n",
    "a1=re.match(r'@(126|163|199).com','@199.com')\n",
    "a1.group()#(aaa|bbb) decision for these two string\n",
    "\n",
    "\n",
    "\n"
   ]
  },
  {
   "cell_type": "code",
   "execution_count": 86,
   "metadata": {},
   "outputs": [
    {
     "data": {
      "text/plain": [
       "()"
      ]
     },
     "execution_count": 86,
     "metadata": {},
     "output_type": "execute_result"
    }
   ],
   "source": [
    "import re\n",
    "ma=re.match(r'<\\w+>','<book>')\n",
    "ma.group()\n",
    "\n",
    "\n",
    "\n",
    "\n",
    "\n",
    "\n"
   ]
  },
  {
   "cell_type": "code",
   "execution_count": 22,
   "metadata": {},
   "outputs": [
    {
     "data": {
      "text/plain": [
       "18"
      ]
     },
     "execution_count": 22,
     "metadata": {},
     "output_type": "execute_result"
    }
   ],
   "source": [
    "import re\n",
    "\n",
    "c=re.search(r'\\d+','hu1hu2hu3')\n",
    "c.group()#find just one time '1' is speculated\n",
    "\n",
    "d=re.findall(r'\\d+','6 6b 6')\n",
    "sum([int(x) for x in d])\n",
    "\n",
    "\n",
    "\n"
   ]
  },
  {
   "cell_type": "code",
   "execution_count": 32,
   "metadata": {},
   "outputs": [
    {
     "data": {
      "text/plain": [
       "'i have 3 wife'"
      ]
     },
     "execution_count": 32,
     "metadata": {},
     "output_type": "execute_result"
    }
   ],
   "source": [
    "import re\n",
    "\n",
    "\n",
    "\n",
    "def add1(match):\n",
    "    temp=match.group()\n",
    "    return(str(int(temp)+1))\n",
    "    \n",
    "c=re.sub(r'\\d+',add1,'i have 2 wife')\n",
    "\n",
    "c\n",
    "    \n",
    "    \n",
    "    \n",
    "    \n",
    "    \n",
    "    \n",
    "\n"
   ]
  },
  {
   "cell_type": "code",
   "execution_count": 33,
   "metadata": {},
   "outputs": [
    {
     "data": {
      "text/plain": [
       "['i', 'fuck', 'you', '!']"
      ]
     },
     "execution_count": 33,
     "metadata": {},
     "output_type": "execute_result"
    }
   ],
   "source": [
    "import re\n",
    "\n",
    "c=re.split(r' |:','i:fuck you !')\n",
    "c"
   ]
  },
  {
   "cell_type": "code",
   "execution_count": 125,
   "metadata": {},
   "outputs": [],
   "source": [
    "import re\n",
    "import urllib.request\n",
    "\n",
    "req=urllib.request.urlopen('http://www.imooc.com/course/list')\n",
    "buf=req.read() \n",
    "buf=buf.decode('utf-8')\n",
    "listurl=re.findall(r'//img.+?\\.jpg',buf)\n",
    "\n",
    "\n",
    "\n",
    "for i in range(len(listurl)):\n",
    "    listurl[i]=str('http:'+str(listurl[i]))\n",
    "\n",
    "\n",
    "i = 0\n",
    "for url in listurl:\n",
    "    f = open(str(i)+'.jpg', 'wb')\n",
    "    req = urllib.request.urlopen(url)\n",
    "    buf = req.read()\n",
    "    # print(buf)\n",
    "    f.write(buf)\n",
    "    i += 1\n",
    "\n",
    "\n",
    "\n",
    "\n",
    "\n",
    "\n"
   ]
  },
  {
   "cell_type": "code",
   "execution_count": 106,
   "metadata": {},
   "outputs": [
    {
     "name": "stdout",
     "output_type": "stream",
     "text": [
      "['//img1.mukewang.com/598287cd00014dc606000338-240-135.jpg', '//img1.mukewang.com/598287cd00014dc606000338-240-135.jpg', '//img1.mukewang.com/598186000001813106000338-240-135.jpg', '//img1.mukewang.com/598186000001813106000338-240-135.jpg', '//img2.mukewang.com/5922cc5800011d9e06000338-240-135.jpg', '//img2.mukewang.com/5922cc5800011d9e06000338-240-135.jpg', '//img1.mukewang.com/58cf6639000183f406000338-240-135.jpg', '//img1.mukewang.com/58cf6639000183f406000338-240-135.jpg', '//img1.mukewang.com/586f60d90001776a06000338-240-135.jpg', '//img1.mukewang.com/586f60d90001776a06000338-240-135.jpg', '//img2.mukewang.com/58257a3b000164cd06000338-240-135.jpg', '//img2.mukewang.com/58257a3b000164cd06000338-240-135.jpg', '//img3.mukewang.com/580fff7a0001541206000338-240-135.jpg', '//img3.mukewang.com/580fff7a0001541206000338-240-135.jpg', '//img.mukewang.com/57fdb282000186df06000338-240-135.jpg', '//img.mukewang.com/57fdb282000186df06000338-240-135.jpg', '//img2.mukewang.com/57e8afc00001f19d06000338-240-135.jpg', '//img2.mukewang.com/57e8afc00001f19d06000338-240-135.jpg', '//img1.mukewang.com/57cfa226000150c206000338-240-135.jpg', '//img1.mukewang.com/57cfa226000150c206000338-240-135.jpg', '//img3.mukewang.com/57bd19f40001462006000338-240-135.jpg', '//img3.mukewang.com/57bd19f40001462006000338-240-135.jpg', '//img3.mukewang.com/568b2c36000199d106000338-240-135.jpg', '//img3.mukewang.com/568b2c36000199d106000338-240-135.jpg', '//img2.mukewang.com/57466ffc00015e2f06000338-240-135.jpg', '//img2.mukewang.com/57466ffc00015e2f06000338-240-135.jpg', '//img1.mukewang.com/5746786300017d8f06000338-240-135.jpg', '//img1.mukewang.com/5746786300017d8f06000338-240-135.jpg', '//img2.mukewang.com/563177c80001626506000338-240-135.jpg', '//img2.mukewang.com/563177c80001626506000338-240-135.jpg', '//img4.mukewang.com/5705b70600010f6a06000338-240-135.jpg', '//img4.mukewang.com/5705b70600010f6a06000338-240-135.jpg', '//img1.mukewang.com/5705b6df0001b7f206000338-240-135.jpg', '//img1.mukewang.com/5705b6df0001b7f206000338-240-135.jpg', '//img4.mukewang.com/5705d21e0001e4f106000338-240-135.jpg', '//img4.mukewang.com/5705d21e0001e4f106000338-240-135.jpg', '//img3.mukewang.com/5705b7940001096106000338-240-135.jpg', '//img3.mukewang.com/5705b7940001096106000338-240-135.jpg', '//img3.mukewang.com/5705b57b0001f4b306000338-240-135.jpg', '//img3.mukewang.com/5705b57b0001f4b306000338-240-135.jpg', '//img3.mukewang.com/5705b7350001d59b06000338-240-135.jpg', '//img3.mukewang.com/5705b7350001d59b06000338-240-135.jpg', '//img4.mukewang.com/540e57300001d6d906000338-240-135.jpg', '//img4.mukewang.com/540e57300001d6d906000338-240-135.jpg']\n"
     ]
    },
    {
     "ename": "ValueError",
     "evalue": "unknown url type: '//img1.mukewang.com/598287cd00014dc606000338-240-135.jpg'",
     "output_type": "error",
     "traceback": [
      "\u001b[1;31m---------------------------------------------------------------------------\u001b[0m",
      "\u001b[1;31mValueError\u001b[0m                                Traceback (most recent call last)",
      "\u001b[1;32m<ipython-input-106-fec8ebc93566>\u001b[0m in \u001b[0;36m<module>\u001b[1;34m()\u001b[0m\n\u001b[0;32m     11\u001b[0m \u001b[1;32mfor\u001b[0m \u001b[0murl\u001b[0m \u001b[1;32min\u001b[0m \u001b[0mlisturl\u001b[0m\u001b[1;33m:\u001b[0m\u001b[1;33m\u001b[0m\u001b[0m\n\u001b[0;32m     12\u001b[0m     \u001b[0mf\u001b[0m \u001b[1;33m=\u001b[0m \u001b[0mopen\u001b[0m\u001b[1;33m(\u001b[0m\u001b[0mstr\u001b[0m\u001b[1;33m(\u001b[0m\u001b[0mi\u001b[0m\u001b[1;33m)\u001b[0m\u001b[1;33m+\u001b[0m\u001b[1;34m'.jpg'\u001b[0m\u001b[1;33m,\u001b[0m \u001b[1;34m'wb'\u001b[0m\u001b[1;33m)\u001b[0m\u001b[1;33m\u001b[0m\u001b[0m\n\u001b[1;32m---> 13\u001b[1;33m     \u001b[0mreq\u001b[0m \u001b[1;33m=\u001b[0m \u001b[0murllib\u001b[0m\u001b[1;33m.\u001b[0m\u001b[0mrequest\u001b[0m\u001b[1;33m.\u001b[0m\u001b[0murlopen\u001b[0m\u001b[1;33m(\u001b[0m\u001b[0murl\u001b[0m\u001b[1;33m)\u001b[0m\u001b[1;33m\u001b[0m\u001b[0m\n\u001b[0m\u001b[0;32m     14\u001b[0m     \u001b[0mbuf\u001b[0m \u001b[1;33m=\u001b[0m \u001b[0mreq\u001b[0m\u001b[1;33m.\u001b[0m\u001b[0mread\u001b[0m\u001b[1;33m(\u001b[0m\u001b[1;33m)\u001b[0m\u001b[1;33m\u001b[0m\u001b[0m\n\u001b[0;32m     15\u001b[0m     \u001b[1;31m# print(buf)\u001b[0m\u001b[1;33m\u001b[0m\u001b[1;33m\u001b[0m\u001b[0m\n",
      "\u001b[1;32mD:\\ana\\lib\\urllib\\request.py\u001b[0m in \u001b[0;36murlopen\u001b[1;34m(url, data, timeout, cafile, capath, cadefault, context)\u001b[0m\n\u001b[0;32m    221\u001b[0m     \u001b[1;32melse\u001b[0m\u001b[1;33m:\u001b[0m\u001b[1;33m\u001b[0m\u001b[0m\n\u001b[0;32m    222\u001b[0m         \u001b[0mopener\u001b[0m \u001b[1;33m=\u001b[0m \u001b[0m_opener\u001b[0m\u001b[1;33m\u001b[0m\u001b[0m\n\u001b[1;32m--> 223\u001b[1;33m     \u001b[1;32mreturn\u001b[0m \u001b[0mopener\u001b[0m\u001b[1;33m.\u001b[0m\u001b[0mopen\u001b[0m\u001b[1;33m(\u001b[0m\u001b[0murl\u001b[0m\u001b[1;33m,\u001b[0m \u001b[0mdata\u001b[0m\u001b[1;33m,\u001b[0m \u001b[0mtimeout\u001b[0m\u001b[1;33m)\u001b[0m\u001b[1;33m\u001b[0m\u001b[0m\n\u001b[0m\u001b[0;32m    224\u001b[0m \u001b[1;33m\u001b[0m\u001b[0m\n\u001b[0;32m    225\u001b[0m \u001b[1;32mdef\u001b[0m \u001b[0minstall_opener\u001b[0m\u001b[1;33m(\u001b[0m\u001b[0mopener\u001b[0m\u001b[1;33m)\u001b[0m\u001b[1;33m:\u001b[0m\u001b[1;33m\u001b[0m\u001b[0m\n",
      "\u001b[1;32mD:\\ana\\lib\\urllib\\request.py\u001b[0m in \u001b[0;36mopen\u001b[1;34m(self, fullurl, data, timeout)\u001b[0m\n\u001b[0;32m    509\u001b[0m         \u001b[1;31m# accept a URL or a Request object\u001b[0m\u001b[1;33m\u001b[0m\u001b[1;33m\u001b[0m\u001b[0m\n\u001b[0;32m    510\u001b[0m         \u001b[1;32mif\u001b[0m \u001b[0misinstance\u001b[0m\u001b[1;33m(\u001b[0m\u001b[0mfullurl\u001b[0m\u001b[1;33m,\u001b[0m \u001b[0mstr\u001b[0m\u001b[1;33m)\u001b[0m\u001b[1;33m:\u001b[0m\u001b[1;33m\u001b[0m\u001b[0m\n\u001b[1;32m--> 511\u001b[1;33m             \u001b[0mreq\u001b[0m \u001b[1;33m=\u001b[0m \u001b[0mRequest\u001b[0m\u001b[1;33m(\u001b[0m\u001b[0mfullurl\u001b[0m\u001b[1;33m,\u001b[0m \u001b[0mdata\u001b[0m\u001b[1;33m)\u001b[0m\u001b[1;33m\u001b[0m\u001b[0m\n\u001b[0m\u001b[0;32m    512\u001b[0m         \u001b[1;32melse\u001b[0m\u001b[1;33m:\u001b[0m\u001b[1;33m\u001b[0m\u001b[0m\n\u001b[0;32m    513\u001b[0m             \u001b[0mreq\u001b[0m \u001b[1;33m=\u001b[0m \u001b[0mfullurl\u001b[0m\u001b[1;33m\u001b[0m\u001b[0m\n",
      "\u001b[1;32mD:\\ana\\lib\\urllib\\request.py\u001b[0m in \u001b[0;36m__init__\u001b[1;34m(self, url, data, headers, origin_req_host, unverifiable, method)\u001b[0m\n\u001b[0;32m    327\u001b[0m                  \u001b[0morigin_req_host\u001b[0m\u001b[1;33m=\u001b[0m\u001b[1;32mNone\u001b[0m\u001b[1;33m,\u001b[0m \u001b[0munverifiable\u001b[0m\u001b[1;33m=\u001b[0m\u001b[1;32mFalse\u001b[0m\u001b[1;33m,\u001b[0m\u001b[1;33m\u001b[0m\u001b[0m\n\u001b[0;32m    328\u001b[0m                  method=None):\n\u001b[1;32m--> 329\u001b[1;33m         \u001b[0mself\u001b[0m\u001b[1;33m.\u001b[0m\u001b[0mfull_url\u001b[0m \u001b[1;33m=\u001b[0m \u001b[0murl\u001b[0m\u001b[1;33m\u001b[0m\u001b[0m\n\u001b[0m\u001b[0;32m    330\u001b[0m         \u001b[0mself\u001b[0m\u001b[1;33m.\u001b[0m\u001b[0mheaders\u001b[0m \u001b[1;33m=\u001b[0m \u001b[1;33m{\u001b[0m\u001b[1;33m}\u001b[0m\u001b[1;33m\u001b[0m\u001b[0m\n\u001b[0;32m    331\u001b[0m         \u001b[0mself\u001b[0m\u001b[1;33m.\u001b[0m\u001b[0munredirected_hdrs\u001b[0m \u001b[1;33m=\u001b[0m \u001b[1;33m{\u001b[0m\u001b[1;33m}\u001b[0m\u001b[1;33m\u001b[0m\u001b[0m\n",
      "\u001b[1;32mD:\\ana\\lib\\urllib\\request.py\u001b[0m in \u001b[0;36mfull_url\u001b[1;34m(self, url)\u001b[0m\n\u001b[0;32m    353\u001b[0m         \u001b[0mself\u001b[0m\u001b[1;33m.\u001b[0m\u001b[0m_full_url\u001b[0m \u001b[1;33m=\u001b[0m \u001b[0munwrap\u001b[0m\u001b[1;33m(\u001b[0m\u001b[0murl\u001b[0m\u001b[1;33m)\u001b[0m\u001b[1;33m\u001b[0m\u001b[0m\n\u001b[0;32m    354\u001b[0m         \u001b[0mself\u001b[0m\u001b[1;33m.\u001b[0m\u001b[0m_full_url\u001b[0m\u001b[1;33m,\u001b[0m \u001b[0mself\u001b[0m\u001b[1;33m.\u001b[0m\u001b[0mfragment\u001b[0m \u001b[1;33m=\u001b[0m \u001b[0msplittag\u001b[0m\u001b[1;33m(\u001b[0m\u001b[0mself\u001b[0m\u001b[1;33m.\u001b[0m\u001b[0m_full_url\u001b[0m\u001b[1;33m)\u001b[0m\u001b[1;33m\u001b[0m\u001b[0m\n\u001b[1;32m--> 355\u001b[1;33m         \u001b[0mself\u001b[0m\u001b[1;33m.\u001b[0m\u001b[0m_parse\u001b[0m\u001b[1;33m(\u001b[0m\u001b[1;33m)\u001b[0m\u001b[1;33m\u001b[0m\u001b[0m\n\u001b[0m\u001b[0;32m    356\u001b[0m \u001b[1;33m\u001b[0m\u001b[0m\n\u001b[0;32m    357\u001b[0m     \u001b[1;33m@\u001b[0m\u001b[0mfull_url\u001b[0m\u001b[1;33m.\u001b[0m\u001b[0mdeleter\u001b[0m\u001b[1;33m\u001b[0m\u001b[0m\n",
      "\u001b[1;32mD:\\ana\\lib\\urllib\\request.py\u001b[0m in \u001b[0;36m_parse\u001b[1;34m(self)\u001b[0m\n\u001b[0;32m    382\u001b[0m         \u001b[0mself\u001b[0m\u001b[1;33m.\u001b[0m\u001b[0mtype\u001b[0m\u001b[1;33m,\u001b[0m \u001b[0mrest\u001b[0m \u001b[1;33m=\u001b[0m \u001b[0msplittype\u001b[0m\u001b[1;33m(\u001b[0m\u001b[0mself\u001b[0m\u001b[1;33m.\u001b[0m\u001b[0m_full_url\u001b[0m\u001b[1;33m)\u001b[0m\u001b[1;33m\u001b[0m\u001b[0m\n\u001b[0;32m    383\u001b[0m         \u001b[1;32mif\u001b[0m \u001b[0mself\u001b[0m\u001b[1;33m.\u001b[0m\u001b[0mtype\u001b[0m \u001b[1;32mis\u001b[0m \u001b[1;32mNone\u001b[0m\u001b[1;33m:\u001b[0m\u001b[1;33m\u001b[0m\u001b[0m\n\u001b[1;32m--> 384\u001b[1;33m             \u001b[1;32mraise\u001b[0m \u001b[0mValueError\u001b[0m\u001b[1;33m(\u001b[0m\u001b[1;34m\"unknown url type: %r\"\u001b[0m \u001b[1;33m%\u001b[0m \u001b[0mself\u001b[0m\u001b[1;33m.\u001b[0m\u001b[0mfull_url\u001b[0m\u001b[1;33m)\u001b[0m\u001b[1;33m\u001b[0m\u001b[0m\n\u001b[0m\u001b[0;32m    385\u001b[0m         \u001b[0mself\u001b[0m\u001b[1;33m.\u001b[0m\u001b[0mhost\u001b[0m\u001b[1;33m,\u001b[0m \u001b[0mself\u001b[0m\u001b[1;33m.\u001b[0m\u001b[0mselector\u001b[0m \u001b[1;33m=\u001b[0m \u001b[0msplithost\u001b[0m\u001b[1;33m(\u001b[0m\u001b[0mrest\u001b[0m\u001b[1;33m)\u001b[0m\u001b[1;33m\u001b[0m\u001b[0m\n\u001b[0;32m    386\u001b[0m         \u001b[1;32mif\u001b[0m \u001b[0mself\u001b[0m\u001b[1;33m.\u001b[0m\u001b[0mhost\u001b[0m\u001b[1;33m:\u001b[0m\u001b[1;33m\u001b[0m\u001b[0m\n",
      "\u001b[1;31mValueError\u001b[0m: unknown url type: '//img1.mukewang.com/598287cd00014dc606000338-240-135.jpg'"
     ]
    }
   ],
   "source": [
    "import urllib.request\n",
    "import re\n",
    "\n",
    "req = urllib.request.urlopen('http://www.imooc.com/course/list?c=python')\n",
    "buf = req.read()\n",
    "rs = buf.decode()\n",
    "listurl = re.findall(r'//img.+?\\.jpg',rs)\n",
    "print(listurl)\n",
    "\n",
    "i = 0\n",
    "for url in listurl:\n",
    "    f = open(str(i)+'.jpg', 'wb')\n",
    "    req = urllib.request.urlopen(url)\n",
    "    buf = req.read()\n",
    "    # print(buf)\n",
    "    f.write(buf)\n",
    "    i += 1"
   ]
  }
 ],
 "metadata": {
  "kernelspec": {
   "display_name": "Python 3",
   "language": "python",
   "name": "python3"
  },
  "language_info": {
   "codemirror_mode": {
    "name": "ipython",
    "version": 3
   },
   "file_extension": ".py",
   "mimetype": "text/x-python",
   "name": "python",
   "nbconvert_exporter": "python",
   "pygments_lexer": "ipython3",
   "version": "3.6.3"
  }
 },
 "nbformat": 4,
 "nbformat_minor": 2
}
